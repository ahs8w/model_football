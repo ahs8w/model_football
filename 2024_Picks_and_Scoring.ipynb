{
 "cells": [
  {
   "cell_type": "markdown",
   "metadata": {},
   "source": [
    "### projection model => project points per player  \n",
    "- [ ]    Basic Stats  \n",
    "- [ ]    Usage  \n",
    "- [ ]    Percentage of team scoring  \n",
    "- [ ]    Injuries  \n",
    "- [ ]    Bye week\n",
    "- [ ]    Injuries to Key Teammates\n",
    "- [ ]    Individual Matchups\n",
    "- [ ]    Opposing Team (record, defense, injuries, etc.)\n",
    "- [ ]    Home/Away\n",
    "- [ ]    Weather\n",
    "- [ ]    Expert Picks\n",
    "- [x]    Other Fantasy Projections\n",
    "\n",
    "### selection mechanism => choose optimal team within parameters\n",
    "- [ ]    maximize value (pts/salary)\n",
    "- [x]    Linear Optimization\n",
    "    - Inspiration: https://github.com/breeko/Fantasy_LP/blob/master/fantasy_lp_final.ipynb"
   ]
  },
  {
   "cell_type": "code",
   "execution_count": 1,
   "metadata": {
    "ExecuteTime": {
     "end_time": "2022-04-20T13:56:15.533306Z",
     "start_time": "2022-04-20T13:56:15.095624Z"
    }
   },
   "outputs": [],
   "source": [
    "import pandas as pd\n",
    "# from matplotlib import pyplot as plt\n",
    "import numpy as np"
   ]
  },
  {
   "cell_type": "code",
   "execution_count": 2,
   "metadata": {},
   "outputs": [],
   "source": [
    "year = 2024\n",
    "week = 13"
   ]
  },
  {
   "cell_type": "code",
   "execution_count": 3,
   "metadata": {},
   "outputs": [],
   "source": [
    "primary_dir = f\"/Users/adamschiller/OneDrive - BOOZ ALLEN HAMILTON/\"\n",
    "sal_dir = primary_dir+\"Weekly Salary Data\"\n",
    "\n",
    "data_dir = \"2024_fantasy_data\""
   ]
  },
  {
   "cell_type": "markdown",
   "metadata": {},
   "source": [
    "# Get Data"
   ]
  },
  {
   "cell_type": "markdown",
   "metadata": {},
   "source": [
    "## Antonio's Official Data"
   ]
  },
  {
   "cell_type": "markdown",
   "metadata": {},
   "source": [
    "### weeks 8,9,13"
   ]
  },
  {
   "cell_type": "code",
   "execution_count": 4,
   "metadata": {
    "scrolled": true
   },
   "outputs": [
    {
     "data": {
      "text/html": [
       "<div>\n",
       "<style scoped>\n",
       "    .dataframe tbody tr th:only-of-type {\n",
       "        vertical-align: middle;\n",
       "    }\n",
       "\n",
       "    .dataframe tbody tr th {\n",
       "        vertical-align: top;\n",
       "    }\n",
       "\n",
       "    .dataframe thead th {\n",
       "        text-align: right;\n",
       "    }\n",
       "</style>\n",
       "<table border=\"1\" class=\"dataframe\">\n",
       "  <thead>\n",
       "    <tr style=\"text-align: right;\">\n",
       "      <th></th>\n",
       "      <th>name</th>\n",
       "      <th>pos</th>\n",
       "      <th>salary</th>\n",
       "      <th>prediction</th>\n",
       "    </tr>\n",
       "  </thead>\n",
       "  <tbody>\n",
       "    <tr>\n",
       "      <th>0</th>\n",
       "      <td>Caleb Williams</td>\n",
       "      <td>QB</td>\n",
       "      <td>5300</td>\n",
       "      <td>15.54</td>\n",
       "    </tr>\n",
       "    <tr>\n",
       "      <th>1</th>\n",
       "      <td>Cooper Rush</td>\n",
       "      <td>QB</td>\n",
       "      <td>4800</td>\n",
       "      <td>13.82</td>\n",
       "    </tr>\n",
       "    <tr>\n",
       "      <th>2</th>\n",
       "      <td>Drew Lock</td>\n",
       "      <td>QB</td>\n",
       "      <td>4500</td>\n",
       "      <td>13.21</td>\n",
       "    </tr>\n",
       "    <tr>\n",
       "      <th>3</th>\n",
       "      <td>Jordan Love</td>\n",
       "      <td>QB</td>\n",
       "      <td>6300</td>\n",
       "      <td>18.46</td>\n",
       "    </tr>\n",
       "    <tr>\n",
       "      <th>4</th>\n",
       "      <td>Tua Tagovailoa</td>\n",
       "      <td>QB</td>\n",
       "      <td>6000</td>\n",
       "      <td>16.52</td>\n",
       "    </tr>\n",
       "    <tr>\n",
       "      <th>...</th>\n",
       "      <td>...</td>\n",
       "      <td>...</td>\n",
       "      <td>...</td>\n",
       "      <td>...</td>\n",
       "    </tr>\n",
       "    <tr>\n",
       "      <th>597</th>\n",
       "      <td>David Martin-Robinson</td>\n",
       "      <td>TE</td>\n",
       "      <td>2500</td>\n",
       "      <td>0.00</td>\n",
       "    </tr>\n",
       "    <tr>\n",
       "      <th>598</th>\n",
       "      <td>Deonte Harty</td>\n",
       "      <td>WR</td>\n",
       "      <td>3000</td>\n",
       "      <td>0.00</td>\n",
       "    </tr>\n",
       "    <tr>\n",
       "      <th>599</th>\n",
       "      <td>Colton Dowell</td>\n",
       "      <td>WR</td>\n",
       "      <td>3000</td>\n",
       "      <td>0.00</td>\n",
       "    </tr>\n",
       "    <tr>\n",
       "      <th>600</th>\n",
       "      <td>Teagan Quitoriano</td>\n",
       "      <td>TE</td>\n",
       "      <td>2500</td>\n",
       "      <td>0.00</td>\n",
       "    </tr>\n",
       "    <tr>\n",
       "      <th>601</th>\n",
       "      <td>Clayton Tune</td>\n",
       "      <td>QB</td>\n",
       "      <td>4000</td>\n",
       "      <td>0.00</td>\n",
       "    </tr>\n",
       "  </tbody>\n",
       "</table>\n",
       "<p>602 rows × 4 columns</p>\n",
       "</div>"
      ],
      "text/plain": [
       "                      name pos  salary  prediction\n",
       "0           Caleb Williams  QB    5300       15.54\n",
       "1              Cooper Rush  QB    4800       13.82\n",
       "2                Drew Lock  QB    4500       13.21\n",
       "3              Jordan Love  QB    6300       18.46\n",
       "4           Tua Tagovailoa  QB    6000       16.52\n",
       "..                     ...  ..     ...         ...\n",
       "597  David Martin-Robinson  TE    2500        0.00\n",
       "598           Deonte Harty  WR    3000        0.00\n",
       "599          Colton Dowell  WR    3000        0.00\n",
       "600      Teagan Quitoriano  TE    2500        0.00\n",
       "601           Clayton Tune  QB    4000        0.00\n",
       "\n",
       "[602 rows x 4 columns]"
      ]
     },
     "execution_count": 4,
     "metadata": {},
     "output_type": "execute_result"
    }
   ],
   "source": [
    "# df = pd.read_csv(f\"{sal_dir}/Week{week}_Salaries_rotowire-NFL-projected-roster-percent.csv\")\n",
    "df = pd.read_csv(f\"{sal_dir}/Week{week}_salaries_rotowire.csv\")\n",
    "\n",
    "def format_antonio_salary_data(df):\n",
    "    df.rename(columns={'PLAYER': 'name', 'FPTS': 'prediction', 'POS': 'pos', 'SAL': 'salary'}, inplace=True)\n",
    "    # df.loc[df['pos']=='DST', 'pos'] = 'Def'\n",
    "    df.loc[df['pos']=='D', 'pos'] = 'DST'\n",
    "    df = df[['name','pos','salary','prediction']]\n",
    "    return df\n",
    "\n",
    "adf = format_antonio_salary_data(df)\n",
    "adf"
   ]
  },
  {
   "cell_type": "markdown",
   "metadata": {},
   "source": [
    "### weeks 10+"
   ]
  },
  {
   "cell_type": "code",
   "execution_count": null,
   "metadata": {},
   "outputs": [],
   "source": [
    "df = pd.read_csv(f\"{sal_dir}/Week{week}_salaries_rotowire.csv\")\n",
    "\n",
    "def format_antonio_salary_data(df):\n",
    "    df.rename(columns={'player': 'name', 'proj_rotowire': 'prediction', 'position': 'pos'}, inplace=True)\n",
    "    # df.loc[df['pos']=='DST', 'pos'] = 'Def'\n",
    "    df.loc[df['pos']=='D', 'pos'] = 'DST'\n",
    "    df = df[['name','pos','salary','prediction']]\n",
    "    return df\n",
    "\n",
    "adf = format_antonio_salary_data(df)\n",
    "adf"
   ]
  },
  {
   "cell_type": "code",
   "execution_count": 5,
   "metadata": {},
   "outputs": [
    {
     "data": {
      "text/plain": [
       "pos\n",
       "WR     217\n",
       "RB     134\n",
       "TE     133\n",
       "QB      86\n",
       "DST     32\n",
       "Name: count, dtype: int64"
      ]
     },
     "execution_count": 5,
     "metadata": {},
     "output_type": "execute_result"
    }
   ],
   "source": [
    "adf['pos'].value_counts()"
   ]
  },
  {
   "cell_type": "markdown",
   "metadata": {
    "jp-MarkdownHeadingCollapsed": true
   },
   "source": [
    "## Rotowire"
   ]
  },
  {
   "cell_type": "code",
   "execution_count": 38,
   "metadata": {},
   "outputs": [
    {
     "data": {
      "text/html": [
       "<div>\n",
       "<style scoped>\n",
       "    .dataframe tbody tr th:only-of-type {\n",
       "        vertical-align: middle;\n",
       "    }\n",
       "\n",
       "    .dataframe tbody tr th {\n",
       "        vertical-align: top;\n",
       "    }\n",
       "\n",
       "    .dataframe thead th {\n",
       "        text-align: right;\n",
       "    }\n",
       "</style>\n",
       "<table border=\"1\" class=\"dataframe\">\n",
       "  <thead>\n",
       "    <tr style=\"text-align: right;\">\n",
       "      <th></th>\n",
       "      <th>name</th>\n",
       "      <th>pos</th>\n",
       "      <th>salary</th>\n",
       "      <th>prediction</th>\n",
       "    </tr>\n",
       "  </thead>\n",
       "  <tbody>\n",
       "    <tr>\n",
       "      <th>0</th>\n",
       "      <td>Daniel Jones</td>\n",
       "      <td>QB</td>\n",
       "      <td>5300</td>\n",
       "      <td>17.33</td>\n",
       "    </tr>\n",
       "    <tr>\n",
       "      <th>1</th>\n",
       "      <td>Justin Herbert</td>\n",
       "      <td>QB</td>\n",
       "      <td>5200</td>\n",
       "      <td>16.32</td>\n",
       "    </tr>\n",
       "    <tr>\n",
       "      <th>2</th>\n",
       "      <td>Josh Allen</td>\n",
       "      <td>QB</td>\n",
       "      <td>7700</td>\n",
       "      <td>22.92</td>\n",
       "    </tr>\n",
       "    <tr>\n",
       "      <th>3</th>\n",
       "      <td>Aaron Rodgers</td>\n",
       "      <td>QB</td>\n",
       "      <td>5700</td>\n",
       "      <td>16.40</td>\n",
       "    </tr>\n",
       "    <tr>\n",
       "      <th>4</th>\n",
       "      <td>Kyler Murray</td>\n",
       "      <td>QB</td>\n",
       "      <td>6300</td>\n",
       "      <td>18.21</td>\n",
       "    </tr>\n",
       "    <tr>\n",
       "      <th>...</th>\n",
       "      <td>...</td>\n",
       "      <td>...</td>\n",
       "      <td>...</td>\n",
       "      <td>...</td>\n",
       "    </tr>\n",
       "    <tr>\n",
       "      <th>523</th>\n",
       "      <td>Patrick Murtagh</td>\n",
       "      <td>TE</td>\n",
       "      <td>2500</td>\n",
       "      <td>0.00</td>\n",
       "    </tr>\n",
       "    <tr>\n",
       "      <th>524</th>\n",
       "      <td>David White</td>\n",
       "      <td>WR</td>\n",
       "      <td>3000</td>\n",
       "      <td>0.00</td>\n",
       "    </tr>\n",
       "    <tr>\n",
       "      <th>525</th>\n",
       "      <td>Jordan Travis</td>\n",
       "      <td>QB</td>\n",
       "      <td>4000</td>\n",
       "      <td>0.00</td>\n",
       "    </tr>\n",
       "    <tr>\n",
       "      <th>526</th>\n",
       "      <td>Keilan Robinson</td>\n",
       "      <td>RB</td>\n",
       "      <td>4000</td>\n",
       "      <td>0.00</td>\n",
       "    </tr>\n",
       "    <tr>\n",
       "      <th>527</th>\n",
       "      <td>Andy Dalton</td>\n",
       "      <td>QB</td>\n",
       "      <td>4800</td>\n",
       "      <td>0.00</td>\n",
       "    </tr>\n",
       "  </tbody>\n",
       "</table>\n",
       "<p>528 rows × 4 columns</p>\n",
       "</div>"
      ],
      "text/plain": [
       "                name pos  salary  prediction\n",
       "0       Daniel Jones  QB    5300       17.33\n",
       "1     Justin Herbert  QB    5200       16.32\n",
       "2         Josh Allen  QB    7700       22.92\n",
       "3      Aaron Rodgers  QB    5700       16.40\n",
       "4       Kyler Murray  QB    6300       18.21\n",
       "..               ...  ..     ...         ...\n",
       "523  Patrick Murtagh  TE    2500        0.00\n",
       "524      David White  WR    3000        0.00\n",
       "525    Jordan Travis  QB    4000        0.00\n",
       "526  Keilan Robinson  RB    4000        0.00\n",
       "527      Andy Dalton  QB    4800        0.00\n",
       "\n",
       "[528 rows x 4 columns]"
      ]
     },
     "execution_count": 38,
     "metadata": {},
     "output_type": "execute_result"
    }
   ],
   "source": [
    "# https://www.rotowire.com/daily/nfl/dfs-opportunities.php?site=DraftKings  # choose full slate\n",
    "def rotowire_csv(filepath):\n",
    "    df = pd.read_csv(filepath)\n",
    "    df.rename(columns={'PLAYER': 'name', 'POS': 'pos', 'SAL': 'salary', 'FPTS': 'prediction'}, inplace=True)\n",
    "    df.loc[df['pos']=='D', 'pos'] = 'DST'\n",
    "    df = df[['name','pos','salary','prediction']]\n",
    "    return df\n",
    "    \n",
    "rdf = rotowire_csv(f\"{data_dir}/week{week}_rotowire-NFL-projected-roster-percent.csv\")\n",
    "rdf"
   ]
  },
  {
   "cell_type": "code",
   "execution_count": 40,
   "metadata": {},
   "outputs": [
    {
     "data": {
      "text/plain": [
       "28"
      ]
     },
     "execution_count": 40,
     "metadata": {},
     "output_type": "execute_result"
    }
   ],
   "source": [
    "len(rdf[rdf['pos']=='DST'])"
   ]
  },
  {
   "cell_type": "code",
   "execution_count": 41,
   "metadata": {},
   "outputs": [],
   "source": [
    "adf = rdf"
   ]
  },
  {
   "cell_type": "markdown",
   "metadata": {},
   "source": [
    "## Daily Fantasy Fuel"
   ]
  },
  {
   "cell_type": "code",
   "execution_count": 6,
   "metadata": {},
   "outputs": [],
   "source": [
    "# map defense names for dff based on rotowire names\n",
    "def defense_mapping(df):\n",
    "    return {n.split(' ')[-1]: n for n in df[df['pos']=='DST']['name']}\n",
    "\n",
    "defense_map = defense_mapping(adf)\n",
    "\n",
    "def apply_defense_map(x):\n",
    "    try:\n",
    "        return defense_map[x]\n",
    "    except KeyError:\n",
    "        return x"
   ]
  },
  {
   "cell_type": "code",
   "execution_count": 7,
   "metadata": {
    "scrolled": true
   },
   "outputs": [
    {
     "data": {
      "text/plain": [
       "'https://www.dailyfantasyfuel.com/nfl/projections/'"
      ]
     },
     "execution_count": 7,
     "metadata": {},
     "output_type": "execute_result"
    }
   ],
   "source": [
    "url = \"https://www.dailyfantasyfuel.com/nfl/projections/\"\n",
    "url"
   ]
  },
  {
   "cell_type": "code",
   "execution_count": 14,
   "metadata": {},
   "outputs": [
    {
     "data": {
      "text/html": [
       "<div>\n",
       "<style scoped>\n",
       "    .dataframe tbody tr th:only-of-type {\n",
       "        vertical-align: middle;\n",
       "    }\n",
       "\n",
       "    .dataframe tbody tr th {\n",
       "        vertical-align: top;\n",
       "    }\n",
       "\n",
       "    .dataframe thead th {\n",
       "        text-align: right;\n",
       "    }\n",
       "</style>\n",
       "<table border=\"1\" class=\"dataframe\">\n",
       "  <thead>\n",
       "    <tr style=\"text-align: right;\">\n",
       "      <th></th>\n",
       "      <th>name</th>\n",
       "      <th>pos</th>\n",
       "      <th>injury_status</th>\n",
       "      <th>salary</th>\n",
       "      <th>prediction</th>\n",
       "    </tr>\n",
       "  </thead>\n",
       "  <tbody>\n",
       "    <tr>\n",
       "      <th>0</th>\n",
       "      <td>Jahmyr Gibbs</td>\n",
       "      <td>RB</td>\n",
       "      <td>NaN</td>\n",
       "      <td>7500</td>\n",
       "      <td>18.6</td>\n",
       "    </tr>\n",
       "    <tr>\n",
       "      <th>1</th>\n",
       "      <td>Jordan Love</td>\n",
       "      <td>QB</td>\n",
       "      <td>NaN</td>\n",
       "      <td>6300</td>\n",
       "      <td>17.8</td>\n",
       "    </tr>\n",
       "    <tr>\n",
       "      <th>2</th>\n",
       "      <td>Jared Goff</td>\n",
       "      <td>QB</td>\n",
       "      <td>NaN</td>\n",
       "      <td>6500</td>\n",
       "      <td>17.7</td>\n",
       "    </tr>\n",
       "    <tr>\n",
       "      <th>3</th>\n",
       "      <td>Amon-Ra St. Brown</td>\n",
       "      <td>WR</td>\n",
       "      <td>Q</td>\n",
       "      <td>8000</td>\n",
       "      <td>17.5</td>\n",
       "    </tr>\n",
       "    <tr>\n",
       "      <th>4</th>\n",
       "      <td>Caleb Williams</td>\n",
       "      <td>QB</td>\n",
       "      <td>NaN</td>\n",
       "      <td>5300</td>\n",
       "      <td>17.4</td>\n",
       "    </tr>\n",
       "    <tr>\n",
       "      <th>...</th>\n",
       "      <td>...</td>\n",
       "      <td>...</td>\n",
       "      <td>...</td>\n",
       "      <td>...</td>\n",
       "      <td>...</td>\n",
       "    </tr>\n",
       "    <tr>\n",
       "      <th>440</th>\n",
       "      <td>Nyheim Miller-Hines</td>\n",
       "      <td>RB</td>\n",
       "      <td>O</td>\n",
       "      <td>4000</td>\n",
       "      <td>0.0</td>\n",
       "    </tr>\n",
       "    <tr>\n",
       "      <th>441</th>\n",
       "      <td>Gardner Minshew II</td>\n",
       "      <td>QB</td>\n",
       "      <td>O</td>\n",
       "      <td>4000</td>\n",
       "      <td>0.0</td>\n",
       "    </tr>\n",
       "    <tr>\n",
       "      <th>442</th>\n",
       "      <td>Tyler Higbee</td>\n",
       "      <td>TE</td>\n",
       "      <td>O</td>\n",
       "      <td>3200</td>\n",
       "      <td>0.0</td>\n",
       "    </tr>\n",
       "    <tr>\n",
       "      <th>443</th>\n",
       "      <td>Jordan Travis</td>\n",
       "      <td>QB</td>\n",
       "      <td>O</td>\n",
       "      <td>4000</td>\n",
       "      <td>0.0</td>\n",
       "    </tr>\n",
       "    <tr>\n",
       "      <th>444</th>\n",
       "      <td>Colton Dowell</td>\n",
       "      <td>WR</td>\n",
       "      <td>O</td>\n",
       "      <td>3000</td>\n",
       "      <td>0.0</td>\n",
       "    </tr>\n",
       "  </tbody>\n",
       "</table>\n",
       "<p>445 rows × 5 columns</p>\n",
       "</div>"
      ],
      "text/plain": [
       "                    name pos injury_status  salary  prediction\n",
       "0           Jahmyr Gibbs  RB           NaN    7500        18.6\n",
       "1            Jordan Love  QB           NaN    6300        17.8\n",
       "2             Jared Goff  QB           NaN    6500        17.7\n",
       "3      Amon-Ra St. Brown  WR             Q    8000        17.5\n",
       "4         Caleb Williams  QB           NaN    5300        17.4\n",
       "..                   ...  ..           ...     ...         ...\n",
       "440  Nyheim Miller-Hines  RB             O    4000         0.0\n",
       "441   Gardner Minshew II  QB             O    4000         0.0\n",
       "442         Tyler Higbee  TE             O    3200         0.0\n",
       "443        Jordan Travis  QB             O    4000         0.0\n",
       "444        Colton Dowell  WR             O    3000         0.0\n",
       "\n",
       "[445 rows x 5 columns]"
      ]
     },
     "execution_count": 14,
     "metadata": {},
     "output_type": "execute_result"
    }
   ],
   "source": [
    "# https://www.dailyfantasyfuel.com/nfl/projections/\n",
    "def dff_csv(filepath):\n",
    "    df = pd.read_csv(filepath)\n",
    "    df['name'] = df['first_name']+' '+df['last_name']\n",
    "    df.rename(columns={'position': 'pos', 'ppg_projection': 'prediction'}, inplace=True)\n",
    "    # fix names for defenses based on mapping created by rotowire data above\n",
    "    df.loc[df['pos']=='DST', 'name'] = df['first_name'].apply(lambda x: apply_defense_map(x))\n",
    "    # df.loc[df['pos']=='DST', 'pos'] = 'Def'\n",
    "    df = df[['name','pos','injury_status','salary','prediction']]\n",
    "    return df\n",
    "\n",
    "dff = dff_csv(f\"{data_dir}/week{week}_DFF_NFL_cheatsheet.csv\")\n",
    "dff"
   ]
  },
  {
   "cell_type": "code",
   "execution_count": 15,
   "metadata": {},
   "outputs": [
    {
     "data": {
      "text/plain": [
       "pos\n",
       "WR     164\n",
       "RB     117\n",
       "TE      95\n",
       "QB      37\n",
       "DST     32\n",
       "Name: count, dtype: int64"
      ]
     },
     "execution_count": 15,
     "metadata": {},
     "output_type": "execute_result"
    }
   ],
   "source": [
    "dff['pos'].value_counts()"
   ]
  },
  {
   "cell_type": "markdown",
   "metadata": {},
   "source": [
    "## BettingPros - fantasy prop bets"
   ]
  },
  {
   "cell_type": "code",
   "execution_count": 16,
   "metadata": {},
   "outputs": [],
   "source": [
    "import re\n",
    "\n",
    "from selenium import webdriver\n",
    "from selenium.webdriver.common.by import By\n",
    "import time\n",
    "from io import StringIO"
   ]
  },
  {
   "cell_type": "code",
   "execution_count": 17,
   "metadata": {},
   "outputs": [],
   "source": [
    "def last_page(driver):\n",
    "    page_info = driver.find_element(By.CLASS_NAME, \"typography.pbcs-page-pagination__text\")\n",
    "    cur_page, pages = re.findall(r'\\d+', page_info.text)\n",
    "    print(\"Current Page: \", cur_page)\n",
    "    return int(cur_page) == int(pages)\n",
    "\n",
    "def get_page_data(driver):\n",
    "    \"return current page player data as list\"\n",
    "    res = []\n",
    "    lines = driver.find_elements(By.CLASS_NAME, \"grouped-items-with-sticky-footer__content\")\n",
    "    \n",
    "    for line in lines:\n",
    "        r = line.text.split('\\n')\n",
    "        team, pos = r[2].split(' - ')\n",
    "        res.append({\n",
    "            'name': r[1],\n",
    "            'team': team,\n",
    "            'pos': pos,\n",
    "            'prop': r[3],\n",
    "            'projected': r[5].split(' ')[-1]\n",
    "        })\n",
    "    return res\n",
    "\n",
    "def next_page(driver):\n",
    "    # next page\n",
    "    child = driver.find_element(By.CLASS_NAME, \"fas.fa-angle-right\")\n",
    "    parent = child.find_element(By.XPATH, \"./../..\")\n",
    "    \n",
    "    # clicking didn't work (overlapping element) but executing script to click does...\n",
    "    # parent.click()\n",
    "    driver.execute_script(\"arguments[0].click();\", parent)\n",
    "\n",
    "def get_bettingpros_data():\n",
    "    # current week\n",
    "    # url = \"https://www.bettingpros.com/nfl/picks/prop-bets/bet/weekly-fantasy-points/\"\n",
    "    url = \"https://www.bettingpros.com/nfl/picks/prize-picks/bet/weekly-fantasy-points/\"\n",
    "    \n",
    "    driver = webdriver.Chrome()\n",
    "    driver.implicitly_wait(15)\n",
    "    driver.get(url)\n",
    "    \n",
    "    data = []\n",
    "    \n",
    "    while True:\n",
    "        data.extend(get_page_data(driver))\n",
    "        if last_page(driver):\n",
    "            break\n",
    "        else:\n",
    "            next_page(driver)\n",
    "    driver.close()\n",
    "    return pd.DataFrame(data)"
   ]
  },
  {
   "cell_type": "code",
   "execution_count": 18,
   "metadata": {},
   "outputs": [
    {
     "name": "stdout",
     "output_type": "stream",
     "text": [
      "Current Page:  1\n",
      "Current Page:  2\n",
      "Current Page:  3\n"
     ]
    }
   ],
   "source": [
    "bpdf = get_bettingpros_data()"
   ]
  },
  {
   "cell_type": "code",
   "execution_count": 19,
   "metadata": {},
   "outputs": [
    {
     "data": {
      "text/plain": [
       "pos\n",
       "WR    22\n",
       "QB    14\n",
       "RB    13\n",
       "TE    11\n",
       "Name: count, dtype: int64"
      ]
     },
     "execution_count": 19,
     "metadata": {},
     "output_type": "execute_result"
    }
   ],
   "source": [
    "bpdf['pos'].value_counts()"
   ]
  },
  {
   "cell_type": "markdown",
   "metadata": {},
   "source": [
    "## Fantasy Sharks"
   ]
  },
  {
   "cell_type": "code",
   "execution_count": 38,
   "metadata": {},
   "outputs": [
    {
     "data": {
      "text/plain": [
       "'https://www.fantasysharks.com/apps/bert/forecasts/projections.php?csv=1&Sort=&Segment=831&Position=99&scoring=16&League=-1&uid=4&uid2=&printable='"
      ]
     },
     "execution_count": 38,
     "metadata": {},
     "output_type": "execute_result"
    }
   ],
   "source": [
    "segment = 818 + week\n",
    "url = f\"https://www.fantasysharks.com/apps/bert/forecasts/projections.php?csv=1&Sort=&Segment={segment}&Position=99&scoring=16&League=-1&uid=4&uid2=&printable=\"\n",
    "# url = f\"https://www.fantasysharks.com/apps/bert/forecasts/projections.php?League=-1&Position=99&scoring=16&Segment={segment}&uid=4\"\n",
    "url"
   ]
  },
  {
   "cell_type": "code",
   "execution_count": 20,
   "metadata": {},
   "outputs": [],
   "source": [
    "def split_name(x):\n",
    "    res = x.split(', ')\n",
    "    return res[1] + \" \" + res[0]"
   ]
  },
  {
   "cell_type": "code",
   "execution_count": 21,
   "metadata": {},
   "outputs": [],
   "source": [
    "def fantasysharks_csv(filepath):\n",
    "    df = pd.read_csv(filepath)\n",
    "    df.rename(columns={'Player Name': 'name', 'Position': 'pos', 'Pts': 'prediction'}, inplace=True)\n",
    "    df = df[df['pos'].isin([\"QB\", \"WR\", \"RB\", \"TE\", \"D\"])]\n",
    "    df['name'] = df['name'].apply(split_name)\n",
    "    df.loc[df['pos']=='D', 'pos'] = 'DST'\n",
    "    df = df[['name','pos','prediction']]\n",
    "    return df\n",
    "\n",
    "shark_df = fantasysharks_csv(f\"{data_dir}/week{week}_projections.csv\")"
   ]
  },
  {
   "cell_type": "code",
   "execution_count": 22,
   "metadata": {},
   "outputs": [
    {
     "data": {
      "text/html": [
       "<div>\n",
       "<style scoped>\n",
       "    .dataframe tbody tr th:only-of-type {\n",
       "        vertical-align: middle;\n",
       "    }\n",
       "\n",
       "    .dataframe tbody tr th {\n",
       "        vertical-align: top;\n",
       "    }\n",
       "\n",
       "    .dataframe thead th {\n",
       "        text-align: right;\n",
       "    }\n",
       "</style>\n",
       "<table border=\"1\" class=\"dataframe\">\n",
       "  <thead>\n",
       "    <tr style=\"text-align: right;\">\n",
       "      <th></th>\n",
       "      <th>name</th>\n",
       "      <th>pos</th>\n",
       "      <th>prediction</th>\n",
       "    </tr>\n",
       "  </thead>\n",
       "  <tbody>\n",
       "    <tr>\n",
       "      <th>0</th>\n",
       "      <td>Jalen Hurts</td>\n",
       "      <td>QB</td>\n",
       "      <td>23.9</td>\n",
       "    </tr>\n",
       "    <tr>\n",
       "      <th>1</th>\n",
       "      <td>Saquon Barkley</td>\n",
       "      <td>RB</td>\n",
       "      <td>23.2</td>\n",
       "    </tr>\n",
       "    <tr>\n",
       "      <th>2</th>\n",
       "      <td>Joe Mixon</td>\n",
       "      <td>RB</td>\n",
       "      <td>21.6</td>\n",
       "    </tr>\n",
       "    <tr>\n",
       "      <th>3</th>\n",
       "      <td>Lamar Jackson</td>\n",
       "      <td>QB</td>\n",
       "      <td>21.0</td>\n",
       "    </tr>\n",
       "    <tr>\n",
       "      <th>4</th>\n",
       "      <td>Baker Mayfield</td>\n",
       "      <td>QB</td>\n",
       "      <td>21.0</td>\n",
       "    </tr>\n",
       "    <tr>\n",
       "      <th>...</th>\n",
       "      <td>...</td>\n",
       "      <td>...</td>\n",
       "      <td>...</td>\n",
       "    </tr>\n",
       "    <tr>\n",
       "      <th>1152</th>\n",
       "      <td>Jeff Driskel</td>\n",
       "      <td>QB</td>\n",
       "      <td>0.0</td>\n",
       "    </tr>\n",
       "    <tr>\n",
       "      <th>1153</th>\n",
       "      <td>Brandon Allen</td>\n",
       "      <td>QB</td>\n",
       "      <td>0.0</td>\n",
       "    </tr>\n",
       "    <tr>\n",
       "      <th>1154</th>\n",
       "      <td>Carson Wentz</td>\n",
       "      <td>QB</td>\n",
       "      <td>0.0</td>\n",
       "    </tr>\n",
       "    <tr>\n",
       "      <th>1155</th>\n",
       "      <td>Trevor Siemian</td>\n",
       "      <td>QB</td>\n",
       "      <td>0.0</td>\n",
       "    </tr>\n",
       "    <tr>\n",
       "      <th>1156</th>\n",
       "      <td>Kyle Trask</td>\n",
       "      <td>QB</td>\n",
       "      <td>-0.1</td>\n",
       "    </tr>\n",
       "  </tbody>\n",
       "</table>\n",
       "<p>495 rows × 3 columns</p>\n",
       "</div>"
      ],
      "text/plain": [
       "                name pos  prediction\n",
       "0        Jalen Hurts  QB        23.9\n",
       "1     Saquon Barkley  RB        23.2\n",
       "2          Joe Mixon  RB        21.6\n",
       "3      Lamar Jackson  QB        21.0\n",
       "4     Baker Mayfield  QB        21.0\n",
       "...              ...  ..         ...\n",
       "1152    Jeff Driskel  QB         0.0\n",
       "1153   Brandon Allen  QB         0.0\n",
       "1154    Carson Wentz  QB         0.0\n",
       "1155  Trevor Siemian  QB         0.0\n",
       "1156      Kyle Trask  QB        -0.1\n",
       "\n",
       "[495 rows x 3 columns]"
      ]
     },
     "execution_count": 22,
     "metadata": {},
     "output_type": "execute_result"
    }
   ],
   "source": [
    "shark_df"
   ]
  },
  {
   "cell_type": "code",
   "execution_count": 23,
   "metadata": {},
   "outputs": [
    {
     "data": {
      "text/plain": [
       "pos\n",
       "WR     173\n",
       "RB     117\n",
       "TE      95\n",
       "QB      78\n",
       "DST     32\n",
       "Name: count, dtype: int64"
      ]
     },
     "execution_count": 23,
     "metadata": {},
     "output_type": "execute_result"
    }
   ],
   "source": [
    "shark_df['pos'].value_counts()"
   ]
  },
  {
   "cell_type": "markdown",
   "metadata": {},
   "source": [
    "## CBS"
   ]
  },
  {
   "cell_type": "code",
   "execution_count": 24,
   "metadata": {},
   "outputs": [],
   "source": [
    "def fix_dumb_team_names(x):\n",
    "    if 'N.Y.' in x:\n",
    "        return x.replace('N.Y.', 'New York')\n",
    "    elif 'L.A.' in x:\n",
    "        return x.replace('L.A.', 'Los Angeles')\n",
    "    else:\n",
    "        return x"
   ]
  },
  {
   "cell_type": "code",
   "execution_count": 25,
   "metadata": {},
   "outputs": [],
   "source": [
    "def defense_mapping(df):\n",
    "    return {' '.join(n.split(' ')[:-1]): n for n in df[df['pos']=='DST']['name']}\n",
    "\n",
    "opp_defense_map = defense_mapping(adf)\n",
    "\n",
    "def apply_opp_defense_map(x):\n",
    "    x = fix_dumb_team_names(x)\n",
    "    try:\n",
    "        return opp_defense_map[x]\n",
    "    except KeyError:\n",
    "        return x"
   ]
  },
  {
   "cell_type": "code",
   "execution_count": 26,
   "metadata": {
    "scrolled": true
   },
   "outputs": [],
   "source": [
    "def pos_df(pos):\n",
    "    df = pd.read_html(f\"https://www.cbssports.com/fantasy/football/stats/{pos}/{year}/{week}/projections/nonppr/\")[0]\n",
    "    df.columns = df.columns.droplevel(0)\n",
    "\n",
    "    # convert to .5 PPR\n",
    "    rec = df['rec  Receptions']/2 if 'rec  Receptions' in df else 0\n",
    "    df['prediction'] = df['fppg  Fantasy Points Per Game'] + rec\n",
    "\n",
    "    # fix names\n",
    "    if 'Player' in df:\n",
    "        df['name'] =  df['Player'].apply(lambda x: x.split(pos)[1].strip().split(\"  \")[-1] if pos in x else np.nan)\n",
    "        df.dropna(subset=['name'], inplace=True)\n",
    "    if 'Team' in df:\n",
    "        df['name'] = df['Team'].apply(lambda x: apply_opp_defense_map(x))\n",
    "\n",
    "    df['pos'] = pos\n",
    "    df = df[['name','pos','prediction']]\n",
    "    return df"
   ]
  },
  {
   "cell_type": "code",
   "execution_count": 27,
   "metadata": {
    "scrolled": true
   },
   "outputs": [
    {
     "data": {
      "text/html": [
       "<div>\n",
       "<style scoped>\n",
       "    .dataframe tbody tr th:only-of-type {\n",
       "        vertical-align: middle;\n",
       "    }\n",
       "\n",
       "    .dataframe tbody tr th {\n",
       "        vertical-align: top;\n",
       "    }\n",
       "\n",
       "    .dataframe thead th {\n",
       "        text-align: right;\n",
       "    }\n",
       "</style>\n",
       "<table border=\"1\" class=\"dataframe\">\n",
       "  <thead>\n",
       "    <tr style=\"text-align: right;\">\n",
       "      <th></th>\n",
       "      <th>name</th>\n",
       "      <th>pos</th>\n",
       "      <th>prediction</th>\n",
       "    </tr>\n",
       "  </thead>\n",
       "  <tbody>\n",
       "    <tr>\n",
       "      <th>0</th>\n",
       "      <td>Joe Burrow</td>\n",
       "      <td>QB</td>\n",
       "      <td>25.0</td>\n",
       "    </tr>\n",
       "    <tr>\n",
       "      <th>1</th>\n",
       "      <td>Patrick Mahomes</td>\n",
       "      <td>QB</td>\n",
       "      <td>24.4</td>\n",
       "    </tr>\n",
       "    <tr>\n",
       "      <th>2</th>\n",
       "      <td>Josh Allen</td>\n",
       "      <td>QB</td>\n",
       "      <td>23.6</td>\n",
       "    </tr>\n",
       "    <tr>\n",
       "      <th>3</th>\n",
       "      <td>Baker Mayfield</td>\n",
       "      <td>QB</td>\n",
       "      <td>23.4</td>\n",
       "    </tr>\n",
       "    <tr>\n",
       "      <th>4</th>\n",
       "      <td>Jayden Daniels</td>\n",
       "      <td>QB</td>\n",
       "      <td>23.0</td>\n",
       "    </tr>\n",
       "    <tr>\n",
       "      <th>...</th>\n",
       "      <td>...</td>\n",
       "      <td>...</td>\n",
       "      <td>...</td>\n",
       "    </tr>\n",
       "    <tr>\n",
       "      <th>27</th>\n",
       "      <td>Los Angeles Rams</td>\n",
       "      <td>DST</td>\n",
       "      <td>5.5</td>\n",
       "    </tr>\n",
       "    <tr>\n",
       "      <th>28</th>\n",
       "      <td>Chicago Bears</td>\n",
       "      <td>DST</td>\n",
       "      <td>5.4</td>\n",
       "    </tr>\n",
       "    <tr>\n",
       "      <th>29</th>\n",
       "      <td>Carolina Panthers</td>\n",
       "      <td>DST</td>\n",
       "      <td>5.3</td>\n",
       "    </tr>\n",
       "    <tr>\n",
       "      <th>30</th>\n",
       "      <td>Las Vegas Raiders</td>\n",
       "      <td>DST</td>\n",
       "      <td>4.7</td>\n",
       "    </tr>\n",
       "    <tr>\n",
       "      <th>31</th>\n",
       "      <td>Miami Dolphins</td>\n",
       "      <td>DST</td>\n",
       "      <td>4.7</td>\n",
       "    </tr>\n",
       "  </tbody>\n",
       "</table>\n",
       "<p>392 rows × 3 columns</p>\n",
       "</div>"
      ],
      "text/plain": [
       "                 name  pos  prediction\n",
       "0          Joe Burrow   QB        25.0\n",
       "1     Patrick Mahomes   QB        24.4\n",
       "2          Josh Allen   QB        23.6\n",
       "3      Baker Mayfield   QB        23.4\n",
       "4      Jayden Daniels   QB        23.0\n",
       "..                ...  ...         ...\n",
       "27   Los Angeles Rams  DST         5.5\n",
       "28      Chicago Bears  DST         5.4\n",
       "29  Carolina Panthers  DST         5.3\n",
       "30  Las Vegas Raiders  DST         4.7\n",
       "31     Miami Dolphins  DST         4.7\n",
       "\n",
       "[392 rows x 3 columns]"
      ]
     },
     "execution_count": 27,
     "metadata": {},
     "output_type": "execute_result"
    }
   ],
   "source": [
    "positions = [\"QB\", \"WR\", \"RB\", \"TE\", \"DST\"]\n",
    "final = []\n",
    "for pos in positions:\n",
    "    final.append(pos_df(pos))\n",
    "cbs_df = pd.concat(final)\n",
    "cbs_df"
   ]
  },
  {
   "cell_type": "code",
   "execution_count": 28,
   "metadata": {},
   "outputs": [
    {
     "data": {
      "text/plain": [
       "pos\n",
       "WR     100\n",
       "TE     100\n",
       "RB      96\n",
       "QB      64\n",
       "DST     32\n",
       "Name: count, dtype: int64"
      ]
     },
     "execution_count": 28,
     "metadata": {},
     "output_type": "execute_result"
    }
   ],
   "source": [
    "cbs_df['pos'].value_counts()"
   ]
  },
  {
   "cell_type": "markdown",
   "metadata": {
    "jp-MarkdownHeadingCollapsed": true
   },
   "source": [
    "## Others"
   ]
  },
  {
   "cell_type": "markdown",
   "metadata": {},
   "source": [
    "### NFL"
   ]
  },
  {
   "cell_type": "code",
   "execution_count": null,
   "metadata": {},
   "outputs": [],
   "source": [
    "# nfl_pos_idx = c(\"QB\" = 1, \"RB\" = 2, \"WR\" = 3, \"TE\" = 4, \"K\" = 7, \"DST\" = 8)\n",
    "# pos_scrape = nfl_pos_idx[pos]\n",
    "\n",
    "# url = \"https://fantasy.nfl.com/research/projections\""
   ]
  },
  {
   "cell_type": "markdown",
   "metadata": {},
   "source": [
    "### ESPN"
   ]
  },
  {
   "cell_type": "code",
   "execution_count": null,
   "metadata": {},
   "outputs": [],
   "source": [
    "# https://fantasy.espn.com/football/players/projections"
   ]
  },
  {
   "cell_type": "markdown",
   "metadata": {},
   "source": [
    "# Standardize sources"
   ]
  },
  {
   "cell_type": "code",
   "execution_count": 23,
   "metadata": {},
   "outputs": [],
   "source": [
    "# def remove_name_suffixes(df):\n",
    "#     df['name'] = df['name'].str.replace(r'\\s?(Jr|Sr|II|III).?', '', regex=True)\n",
    "#     return df"
   ]
  },
  {
   "cell_type": "code",
   "execution_count": 29,
   "metadata": {},
   "outputs": [],
   "source": [
    "name_map = {\n",
    "    'Chig Okonkwo': 'Chigoziem Okonkwo',\n",
    "    'D.J. Moore': 'DJ Moore',\n",
    "    'Gabriel Davis': 'Gabe Davis',\n",
    "    'Josh Palmer': 'Joshua Palmer',\n",
    "}\n",
    "\n",
    "def apply_name_map(x):\n",
    "    if x in name_map:   \n",
    "        print(\"fixed\", x)\n",
    "        return name_map[x]\n",
    "    else:\n",
    "        return x\n",
    "\n",
    "def standardize_names(df):\n",
    "    # remove suffixes\n",
    "    df['name'] = df['name'].str.replace(r'\\s?(Jr|Sr|II|III).?', '', regex=True)\n",
    "    # apply map\n",
    "    df['name'] = df['name'].apply(apply_name_map)\n",
    "    return df"
   ]
  },
  {
   "cell_type": "code",
   "execution_count": 30,
   "metadata": {},
   "outputs": [
    {
     "name": "stdout",
     "output_type": "stream",
     "text": [
      "fixed D.J. Moore\n",
      "fixed Josh Palmer\n",
      "fixed Chig Okonkwo\n"
     ]
    },
    {
     "name": "stderr",
     "output_type": "stream",
     "text": [
      "/var/folders/pl/yvv0vk397x34b_lzgcmsd43w0000gp/T/ipykernel_96183/444051082.py:17: SettingWithCopyWarning: \n",
      "A value is trying to be set on a copy of a slice from a DataFrame.\n",
      "Try using .loc[row_indexer,col_indexer] = value instead\n",
      "\n",
      "See the caveats in the documentation: https://pandas.pydata.org/pandas-docs/stable/user_guide/indexing.html#returning-a-view-versus-a-copy\n",
      "  df['name'] = df['name'].str.replace(r'\\s?(Jr|Sr|II|III).?', '', regex=True)\n",
      "/var/folders/pl/yvv0vk397x34b_lzgcmsd43w0000gp/T/ipykernel_96183/444051082.py:19: SettingWithCopyWarning: \n",
      "A value is trying to be set on a copy of a slice from a DataFrame.\n",
      "Try using .loc[row_indexer,col_indexer] = value instead\n",
      "\n",
      "See the caveats in the documentation: https://pandas.pydata.org/pandas-docs/stable/user_guide/indexing.html#returning-a-view-versus-a-copy\n",
      "  df['name'] = df['name'].apply(apply_name_map)\n"
     ]
    }
   ],
   "source": [
    "shark_df = standardize_names(shark_df)\n",
    "cbs_df = standardize_names(cbs_df)\n",
    "adf = standardize_names(adf)\n",
    "dff = standardize_names(dff)"
   ]
  },
  {
   "cell_type": "code",
   "execution_count": 31,
   "metadata": {},
   "outputs": [
    {
     "data": {
      "text/plain": [
       "60"
      ]
     },
     "execution_count": 31,
     "metadata": {},
     "output_type": "execute_result"
    }
   ],
   "source": [
    "bpdf = standardize_names(bpdf)\n",
    "bpdf.rename(columns={'prop': 'prediction_prop', 'projected': 'prediction'}, inplace=True)\n",
    "bpdf['prediction_prop'] = bpdf['prediction_prop'].astype(float)\n",
    "bpdf['prediction'] = bpdf['prediction'].astype(float)\n",
    "len(bpdf)"
   ]
  },
  {
   "cell_type": "code",
   "execution_count": 32,
   "metadata": {},
   "outputs": [],
   "source": [
    "# TODO: determine which names don't match -> outer merge\n",
    "\n",
    "def find_unmatched_names(df1, df2, on='name', thresh_col='prediction', thresh=5):\n",
    "    \"find unmatched names based on some column threshold value\"\n",
    "    merged_df = pd.merge(df1, df2, on=on, how='outer', indicator=True)\n",
    "    \n",
    "    # Filter for rows that are only present in one DataFrame\n",
    "    mismatches = merged_df[merged_df['_merge'] != 'both']\n",
    "    return mismatches[(mismatches[thresh_col+'_x']>thresh) | (mismatches[thresh_col+'_y']>thresh)]"
   ]
  },
  {
   "cell_type": "code",
   "execution_count": 34,
   "metadata": {},
   "outputs": [
    {
     "data": {
      "text/html": [
       "<div>\n",
       "<style scoped>\n",
       "    .dataframe tbody tr th:only-of-type {\n",
       "        vertical-align: middle;\n",
       "    }\n",
       "\n",
       "    .dataframe tbody tr th {\n",
       "        vertical-align: top;\n",
       "    }\n",
       "\n",
       "    .dataframe thead th {\n",
       "        text-align: right;\n",
       "    }\n",
       "</style>\n",
       "<table border=\"1\" class=\"dataframe\">\n",
       "  <thead>\n",
       "    <tr style=\"text-align: right;\">\n",
       "      <th></th>\n",
       "      <th>name</th>\n",
       "      <th>pos</th>\n",
       "      <th>injury_status</th>\n",
       "      <th>salary</th>\n",
       "      <th>prediction</th>\n",
       "    </tr>\n",
       "  </thead>\n",
       "  <tbody>\n",
       "  </tbody>\n",
       "</table>\n",
       "</div>"
      ],
      "text/plain": [
       "Empty DataFrame\n",
       "Columns: [name, pos, injury_status, salary, prediction]\n",
       "Index: []"
      ]
     },
     "execution_count": 34,
     "metadata": {},
     "output_type": "execute_result"
    }
   ],
   "source": [
    "dff[dff['name'].str.contains('Pacheco')]"
   ]
  },
  {
   "cell_type": "code",
   "execution_count": 33,
   "metadata": {},
   "outputs": [
    {
     "data": {
      "text/html": [
       "<div>\n",
       "<style scoped>\n",
       "    .dataframe tbody tr th:only-of-type {\n",
       "        vertical-align: middle;\n",
       "    }\n",
       "\n",
       "    .dataframe tbody tr th {\n",
       "        vertical-align: top;\n",
       "    }\n",
       "\n",
       "    .dataframe thead th {\n",
       "        text-align: right;\n",
       "    }\n",
       "</style>\n",
       "<table border=\"1\" class=\"dataframe\">\n",
       "  <thead>\n",
       "    <tr style=\"text-align: right;\">\n",
       "      <th></th>\n",
       "      <th>name</th>\n",
       "      <th>pos_x</th>\n",
       "      <th>salary_x</th>\n",
       "      <th>prediction_x</th>\n",
       "      <th>pos_y</th>\n",
       "      <th>injury_status</th>\n",
       "      <th>salary_y</th>\n",
       "      <th>prediction_y</th>\n",
       "      <th>_merge</th>\n",
       "    </tr>\n",
       "  </thead>\n",
       "  <tbody>\n",
       "    <tr>\n",
       "      <th>242</th>\n",
       "      <td>Isiah Pacheco</td>\n",
       "      <td>RB</td>\n",
       "      <td>6200.0</td>\n",
       "      <td>14.45</td>\n",
       "      <td>NaN</td>\n",
       "      <td>NaN</td>\n",
       "      <td>NaN</td>\n",
       "      <td>NaN</td>\n",
       "      <td>left_only</td>\n",
       "    </tr>\n",
       "    <tr>\n",
       "      <th>248</th>\n",
       "      <td>Ja'Tavion Sanders</td>\n",
       "      <td>TE</td>\n",
       "      <td>3400.0</td>\n",
       "      <td>6.84</td>\n",
       "      <td>NaN</td>\n",
       "      <td>NaN</td>\n",
       "      <td>NaN</td>\n",
       "      <td>NaN</td>\n",
       "      <td>left_only</td>\n",
       "    </tr>\n",
       "    <tr>\n",
       "      <th>268</th>\n",
       "      <td>Jalen Coker</td>\n",
       "      <td>WR</td>\n",
       "      <td>3700.0</td>\n",
       "      <td>7.09</td>\n",
       "      <td>NaN</td>\n",
       "      <td>NaN</td>\n",
       "      <td>NaN</td>\n",
       "      <td>NaN</td>\n",
       "      <td>left_only</td>\n",
       "    </tr>\n",
       "  </tbody>\n",
       "</table>\n",
       "</div>"
      ],
      "text/plain": [
       "                  name pos_x  salary_x  prediction_x pos_y injury_status  \\\n",
       "242      Isiah Pacheco    RB    6200.0         14.45   NaN           NaN   \n",
       "248  Ja'Tavion Sanders    TE    3400.0          6.84   NaN           NaN   \n",
       "268        Jalen Coker    WR    3700.0          7.09   NaN           NaN   \n",
       "\n",
       "     salary_y  prediction_y     _merge  \n",
       "242       NaN           NaN  left_only  \n",
       "248       NaN           NaN  left_only  \n",
       "268       NaN           NaN  left_only  "
      ]
     },
     "execution_count": 33,
     "metadata": {},
     "output_type": "execute_result"
    }
   ],
   "source": [
    "find_unmatched_names(adf, dff)"
   ]
  },
  {
   "cell_type": "markdown",
   "metadata": {},
   "source": [
    "# Merge Sources"
   ]
  },
  {
   "cell_type": "code",
   "execution_count": 35,
   "metadata": {},
   "outputs": [],
   "source": [
    "from typing import List, Union\n",
    "from functools import reduce\n",
    "\n",
    "def merge_dataframes(*dfs: pd.DataFrame, \n",
    "                    on: Union[str, List[str]], \n",
    "                    how: str = 'outer',\n",
    "                    rename_duplicates: bool = True,\n",
    "                    suffix_pattern: str = '_{i}') -> pd.DataFrame:\n",
    "    \"\"\"\n",
    "    Merge multiple pandas DataFrames on specified column(s) while handling duplicate columns.\n",
    "    \n",
    "    Args:\n",
    "        *dfs: Variable number of pandas DataFrames to merge\n",
    "        on: Column name(s) to merge on. Can be a string or list of strings\n",
    "        how: Type of merge to perform ('outer', 'inner', 'left', 'right'). Defaults to 'outer'\n",
    "        rename_duplicates: If True, renames overlapping columns with suffixes before merging.\n",
    "                         If False, uses pandas default behavior of _x, _y suffixes\n",
    "        suffix_pattern: Pattern for suffix when rename_duplicates=True. \n",
    "                       Use {i} as placeholder for index\n",
    "    \n",
    "    Returns:\n",
    "        pd.DataFrame: Merged DataFrame\n",
    "        \n",
    "    Raises:\n",
    "        ValueError: If less than 2 DataFrames are provided or if merge column is missing\n",
    "        TypeError: If inputs are not pandas DataFrames\n",
    "    \"\"\"\n",
    "    # Input validation\n",
    "    if len(dfs) < 2:\n",
    "        raise ValueError(\"At least 2 DataFrames are required for merging\")\n",
    "    \n",
    "    if not all(isinstance(df, pd.DataFrame) for df in dfs):\n",
    "        raise TypeError(\"All arguments must be pandas DataFrames\")\n",
    "    \n",
    "    # Convert single string to list for consistent handling\n",
    "    merge_cols = [on] if isinstance(on, str) else on\n",
    "    \n",
    "    # Verify merge columns exist in all DataFrames\n",
    "    for i, df in enumerate(dfs):\n",
    "        missing_cols = set(merge_cols) - set(df.columns)\n",
    "        if missing_cols:\n",
    "            raise ValueError(f\"DataFrame at index {i} is missing merge columns: {missing_cols}\")\n",
    "    \n",
    "    if rename_duplicates:\n",
    "        renamed_dfs = []\n",
    "        # Keep track of all column names we've seen (except merge columns)\n",
    "        all_cols = set()\n",
    "        \n",
    "        for i, df in enumerate(dfs):\n",
    "            df = df.copy()\n",
    "            # Get columns that aren't merge columns\n",
    "            non_merge_cols = [col for col in df.columns if col not in merge_cols]\n",
    "            \n",
    "            # Find overlapping columns\n",
    "            overlapping = set(non_merge_cols) & all_cols\n",
    "            \n",
    "            # Rename overlapping columns\n",
    "            if overlapping:\n",
    "                rename_dict = {col: f\"{col}{suffix_pattern.format(i=i)}\" for col in overlapping}\n",
    "                df.rename(columns=rename_dict, inplace=True)\n",
    "            \n",
    "            # Add these columns to our tracking set\n",
    "            all_cols.update(non_merge_cols)\n",
    "            renamed_dfs.append(df)\n",
    "        \n",
    "        # Use renamed DataFrames for merging\n",
    "        dfs_to_merge = renamed_dfs\n",
    "    else:\n",
    "        dfs_to_merge = dfs\n",
    "    \n",
    "    # Perform the merge using reduce\n",
    "    try:\n",
    "        merged = reduce(lambda left, right: pd.merge(left, right, on=merge_cols, how=how), dfs_to_merge)\n",
    "        return merged\n",
    "    \n",
    "    except Exception as e:\n",
    "        raise Exception(f\"Error during merge operation: {str(e)}\")"
   ]
  },
  {
   "cell_type": "code",
   "execution_count": 36,
   "metadata": {},
   "outputs": [
    {
     "data": {
      "text/html": [
       "<div>\n",
       "<style scoped>\n",
       "    .dataframe tbody tr th:only-of-type {\n",
       "        vertical-align: middle;\n",
       "    }\n",
       "\n",
       "    .dataframe tbody tr th {\n",
       "        vertical-align: top;\n",
       "    }\n",
       "\n",
       "    .dataframe thead th {\n",
       "        text-align: right;\n",
       "    }\n",
       "</style>\n",
       "<table border=\"1\" class=\"dataframe\">\n",
       "  <thead>\n",
       "    <tr style=\"text-align: right;\">\n",
       "      <th></th>\n",
       "      <th>name</th>\n",
       "      <th>pos</th>\n",
       "      <th>salary</th>\n",
       "      <th>prediction</th>\n",
       "      <th>prediction_1</th>\n",
       "      <th>prediction_2</th>\n",
       "      <th>prediction_3</th>\n",
       "      <th>prediction_prop</th>\n",
       "      <th>prediction_4</th>\n",
       "      <th>mean_pred</th>\n",
       "      <th>pred_count</th>\n",
       "    </tr>\n",
       "  </thead>\n",
       "  <tbody>\n",
       "    <tr>\n",
       "      <th>0</th>\n",
       "      <td>Caleb Williams</td>\n",
       "      <td>QB</td>\n",
       "      <td>5300</td>\n",
       "      <td>15.54</td>\n",
       "      <td>17.4</td>\n",
       "      <td>14.8</td>\n",
       "      <td>15.60</td>\n",
       "      <td>17.0</td>\n",
       "      <td>15.6</td>\n",
       "      <td>15.990000</td>\n",
       "      <td>6</td>\n",
       "    </tr>\n",
       "    <tr>\n",
       "      <th>1</th>\n",
       "      <td>Cooper Rush</td>\n",
       "      <td>QB</td>\n",
       "      <td>4800</td>\n",
       "      <td>13.82</td>\n",
       "      <td>13.7</td>\n",
       "      <td>15.1</td>\n",
       "      <td>16.40</td>\n",
       "      <td>13.5</td>\n",
       "      <td>14.3</td>\n",
       "      <td>14.470000</td>\n",
       "      <td>6</td>\n",
       "    </tr>\n",
       "    <tr>\n",
       "      <th>2</th>\n",
       "      <td>Drew Lock</td>\n",
       "      <td>QB</td>\n",
       "      <td>4500</td>\n",
       "      <td>13.21</td>\n",
       "      <td>13.1</td>\n",
       "      <td>0.6</td>\n",
       "      <td>14.00</td>\n",
       "      <td>12.5</td>\n",
       "      <td>13.0</td>\n",
       "      <td>11.068333</td>\n",
       "      <td>6</td>\n",
       "    </tr>\n",
       "    <tr>\n",
       "      <th>3</th>\n",
       "      <td>Jordan Love</td>\n",
       "      <td>QB</td>\n",
       "      <td>6300</td>\n",
       "      <td>18.46</td>\n",
       "      <td>17.8</td>\n",
       "      <td>17.5</td>\n",
       "      <td>20.80</td>\n",
       "      <td>17.0</td>\n",
       "      <td>16.8</td>\n",
       "      <td>18.060000</td>\n",
       "      <td>6</td>\n",
       "    </tr>\n",
       "    <tr>\n",
       "      <th>4</th>\n",
       "      <td>Tua Tagovailoa</td>\n",
       "      <td>QB</td>\n",
       "      <td>6000</td>\n",
       "      <td>16.52</td>\n",
       "      <td>16.7</td>\n",
       "      <td>15.3</td>\n",
       "      <td>15.60</td>\n",
       "      <td>15.0</td>\n",
       "      <td>15.7</td>\n",
       "      <td>15.803333</td>\n",
       "      <td>6</td>\n",
       "    </tr>\n",
       "    <tr>\n",
       "      <th>...</th>\n",
       "      <td>...</td>\n",
       "      <td>...</td>\n",
       "      <td>...</td>\n",
       "      <td>...</td>\n",
       "      <td>...</td>\n",
       "      <td>...</td>\n",
       "      <td>...</td>\n",
       "      <td>...</td>\n",
       "      <td>...</td>\n",
       "      <td>...</td>\n",
       "      <td>...</td>\n",
       "    </tr>\n",
       "    <tr>\n",
       "      <th>500</th>\n",
       "      <td>Nate Adkins</td>\n",
       "      <td>TE</td>\n",
       "      <td>2500</td>\n",
       "      <td>0.00</td>\n",
       "      <td>1.6</td>\n",
       "      <td>2.5</td>\n",
       "      <td>1.50</td>\n",
       "      <td>NaN</td>\n",
       "      <td>NaN</td>\n",
       "      <td>1.866667</td>\n",
       "      <td>3</td>\n",
       "    </tr>\n",
       "    <tr>\n",
       "      <th>510</th>\n",
       "      <td>Ross Dwelley</td>\n",
       "      <td>TE</td>\n",
       "      <td>2500</td>\n",
       "      <td>0.00</td>\n",
       "      <td>0.3</td>\n",
       "      <td>1.0</td>\n",
       "      <td>0.85</td>\n",
       "      <td>NaN</td>\n",
       "      <td>NaN</td>\n",
       "      <td>0.716667</td>\n",
       "      <td>3</td>\n",
       "    </tr>\n",
       "    <tr>\n",
       "      <th>544</th>\n",
       "      <td>Cody Schrader</td>\n",
       "      <td>RB</td>\n",
       "      <td>4000</td>\n",
       "      <td>0.17</td>\n",
       "      <td>0.1</td>\n",
       "      <td>NaN</td>\n",
       "      <td>0.65</td>\n",
       "      <td>NaN</td>\n",
       "      <td>NaN</td>\n",
       "      <td>0.306667</td>\n",
       "      <td>3</td>\n",
       "    </tr>\n",
       "    <tr>\n",
       "      <th>545</th>\n",
       "      <td>Raheem Blackshear</td>\n",
       "      <td>RB</td>\n",
       "      <td>4000</td>\n",
       "      <td>0.17</td>\n",
       "      <td>0.7</td>\n",
       "      <td>0.7</td>\n",
       "      <td>0.75</td>\n",
       "      <td>NaN</td>\n",
       "      <td>NaN</td>\n",
       "      <td>0.580000</td>\n",
       "      <td>4</td>\n",
       "    </tr>\n",
       "    <tr>\n",
       "      <th>549</th>\n",
       "      <td>Ryan Miller</td>\n",
       "      <td>WR</td>\n",
       "      <td>3100</td>\n",
       "      <td>0.00</td>\n",
       "      <td>1.9</td>\n",
       "      <td>1.1</td>\n",
       "      <td>5.45</td>\n",
       "      <td>NaN</td>\n",
       "      <td>NaN</td>\n",
       "      <td>2.816667</td>\n",
       "      <td>3</td>\n",
       "    </tr>\n",
       "  </tbody>\n",
       "</table>\n",
       "<p>377 rows × 11 columns</p>\n",
       "</div>"
      ],
      "text/plain": [
       "                  name pos  salary  prediction  prediction_1  prediction_2  \\\n",
       "0       Caleb Williams  QB    5300       15.54          17.4          14.8   \n",
       "1          Cooper Rush  QB    4800       13.82          13.7          15.1   \n",
       "2            Drew Lock  QB    4500       13.21          13.1           0.6   \n",
       "3          Jordan Love  QB    6300       18.46          17.8          17.5   \n",
       "4       Tua Tagovailoa  QB    6000       16.52          16.7          15.3   \n",
       "..                 ...  ..     ...         ...           ...           ...   \n",
       "500        Nate Adkins  TE    2500        0.00           1.6           2.5   \n",
       "510       Ross Dwelley  TE    2500        0.00           0.3           1.0   \n",
       "544      Cody Schrader  RB    4000        0.17           0.1           NaN   \n",
       "545  Raheem Blackshear  RB    4000        0.17           0.7           0.7   \n",
       "549        Ryan Miller  WR    3100        0.00           1.9           1.1   \n",
       "\n",
       "     prediction_3  prediction_prop  prediction_4  mean_pred  pred_count  \n",
       "0           15.60             17.0          15.6  15.990000           6  \n",
       "1           16.40             13.5          14.3  14.470000           6  \n",
       "2           14.00             12.5          13.0  11.068333           6  \n",
       "3           20.80             17.0          16.8  18.060000           6  \n",
       "4           15.60             15.0          15.7  15.803333           6  \n",
       "..            ...              ...           ...        ...         ...  \n",
       "500          1.50              NaN           NaN   1.866667           3  \n",
       "510          0.85              NaN           NaN   0.716667           3  \n",
       "544          0.65              NaN           NaN   0.306667           3  \n",
       "545          0.75              NaN           NaN   0.580000           4  \n",
       "549          5.45              NaN           NaN   2.816667           3  \n",
       "\n",
       "[377 rows x 11 columns]"
      ]
     },
     "execution_count": 36,
     "metadata": {},
     "output_type": "execute_result"
    }
   ],
   "source": [
    "merged = merge_dataframes(\n",
    "    adf, \n",
    "    dff[['name','injury_status','prediction']], \n",
    "    shark_df[['name','prediction']], \n",
    "    cbs_df[['name','prediction']],\n",
    "    bpdf[['name','prediction_prop','prediction']],\n",
    "    on='name', how='left'\n",
    ")\n",
    "# remove injured\n",
    "merged = merged[merged['injury_status'].isna()]\n",
    "merged = merged.drop(columns=['injury_status'])\n",
    "# merged = merged.fillna(0.0)\n",
    "# get mean prediction (disregard when value isn't present)\n",
    "merged['mean_pred'] = merged.filter(like='prediction').replace(0, np.nan).mean(axis=1)\n",
    "# filter out preds w/ fewer than 3 values\n",
    "merged['pred_count'] = merged.filter(like='prediction').gt(0).sum(axis=1)\n",
    "merged = merged[merged['pred_count']>=3]\n",
    "merged"
   ]
  },
  {
   "cell_type": "code",
   "execution_count": 37,
   "metadata": {},
   "outputs": [
    {
     "data": {
      "text/plain": [
       "pos\n",
       "WR     130\n",
       "RB      99\n",
       "TE      83\n",
       "QB      33\n",
       "DST     32\n",
       "Name: count, dtype: int64"
      ]
     },
     "execution_count": 37,
     "metadata": {},
     "output_type": "execute_result"
    }
   ],
   "source": [
    "merged['pos'].value_counts()"
   ]
  },
  {
   "cell_type": "code",
   "execution_count": 38,
   "metadata": {},
   "outputs": [],
   "source": [
    "# save prediction_dataframe\n",
    "merged.to_csv(f\"{data_dir}/week{week}_predictions.csv\", index=False)"
   ]
  },
  {
   "cell_type": "markdown",
   "metadata": {
    "heading_collapsed": true,
    "jp-MarkdownHeadingCollapsed": true
   },
   "source": [
    "# Top Projected per Pos"
   ]
  },
  {
   "cell_type": "code",
   "execution_count": 50,
   "metadata": {
    "ExecuteTime": {
     "end_time": "2022-04-20T16:50:20.307983Z",
     "start_time": "2022-04-20T16:50:19.881175Z"
    },
    "hidden": true
   },
   "outputs": [],
   "source": [
    "def avg_per_dollar(df, col):\n",
    "    df['Avg Value'] = df[col] / (df['salary'] / 1000)\n",
    "    return df.sort_values('Avg Value', ascending=False)\n",
    "\n",
    "pdf = avg_per_dollar(merged, 'mean_pred')"
   ]
  },
  {
   "cell_type": "code",
   "execution_count": 51,
   "metadata": {
    "ExecuteTime": {
     "end_time": "2022-04-20T16:50:30.758821Z",
     "start_time": "2022-04-20T16:50:30.708722Z"
    },
    "hidden": true
   },
   "outputs": [
    {
     "data": {
      "text/html": [
       "<div>\n",
       "<style scoped>\n",
       "    .dataframe tbody tr th:only-of-type {\n",
       "        vertical-align: middle;\n",
       "    }\n",
       "\n",
       "    .dataframe tbody tr th {\n",
       "        vertical-align: top;\n",
       "    }\n",
       "\n",
       "    .dataframe thead th {\n",
       "        text-align: right;\n",
       "    }\n",
       "</style>\n",
       "<table border=\"1\" class=\"dataframe\">\n",
       "  <thead>\n",
       "    <tr style=\"text-align: right;\">\n",
       "      <th></th>\n",
       "      <th>name</th>\n",
       "      <th>pos</th>\n",
       "      <th>salary</th>\n",
       "      <th>prediction</th>\n",
       "      <th>prediction_1</th>\n",
       "      <th>prediction_2</th>\n",
       "      <th>prediction_3</th>\n",
       "      <th>prediction_prop</th>\n",
       "      <th>prediction_4</th>\n",
       "      <th>mean_pred</th>\n",
       "      <th>pred_count</th>\n",
       "      <th>Avg Value</th>\n",
       "    </tr>\n",
       "  </thead>\n",
       "  <tbody>\n",
       "    <tr>\n",
       "      <th>1</th>\n",
       "      <td>Justin Herbert</td>\n",
       "      <td>QB</td>\n",
       "      <td>5400</td>\n",
       "      <td>17.27</td>\n",
       "      <td>19.7</td>\n",
       "      <td>18.6</td>\n",
       "      <td>18.4</td>\n",
       "      <td>NaN</td>\n",
       "      <td>NaN</td>\n",
       "      <td>18.4925</td>\n",
       "      <td>4</td>\n",
       "      <td>3.424537</td>\n",
       "    </tr>\n",
       "    <tr>\n",
       "      <th>2</th>\n",
       "      <td>Tommy Devito</td>\n",
       "      <td>QB</td>\n",
       "      <td>4000</td>\n",
       "      <td>12.82</td>\n",
       "      <td>13.6</td>\n",
       "      <td>13.6</td>\n",
       "      <td>14.0</td>\n",
       "      <td>NaN</td>\n",
       "      <td>NaN</td>\n",
       "      <td>13.5050</td>\n",
       "      <td>4</td>\n",
       "      <td>3.376250</td>\n",
       "    </tr>\n",
       "    <tr>\n",
       "      <th>6</th>\n",
       "      <td>Geno Smith</td>\n",
       "      <td>QB</td>\n",
       "      <td>5700</td>\n",
       "      <td>17.07</td>\n",
       "      <td>19.2</td>\n",
       "      <td>15.8</td>\n",
       "      <td>21.4</td>\n",
       "      <td>NaN</td>\n",
       "      <td>NaN</td>\n",
       "      <td>18.3675</td>\n",
       "      <td>4</td>\n",
       "      <td>3.222368</td>\n",
       "    </tr>\n",
       "    <tr>\n",
       "      <th>5</th>\n",
       "      <td>Jayden Daniels</td>\n",
       "      <td>QB</td>\n",
       "      <td>7000</td>\n",
       "      <td>21.17</td>\n",
       "      <td>23.5</td>\n",
       "      <td>18.3</td>\n",
       "      <td>24.8</td>\n",
       "      <td>NaN</td>\n",
       "      <td>NaN</td>\n",
       "      <td>21.9425</td>\n",
       "      <td>4</td>\n",
       "      <td>3.134643</td>\n",
       "    </tr>\n",
       "    <tr>\n",
       "      <th>4</th>\n",
       "      <td>Kyler Murray</td>\n",
       "      <td>QB</td>\n",
       "      <td>6200</td>\n",
       "      <td>18.58</td>\n",
       "      <td>18.7</td>\n",
       "      <td>18.2</td>\n",
       "      <td>20.6</td>\n",
       "      <td>NaN</td>\n",
       "      <td>NaN</td>\n",
       "      <td>19.0200</td>\n",
       "      <td>4</td>\n",
       "      <td>3.067742</td>\n",
       "    </tr>\n",
       "  </tbody>\n",
       "</table>\n",
       "</div>"
      ],
      "text/plain": [
       "             name pos  salary  prediction  prediction_1  prediction_2  \\\n",
       "1  Justin Herbert  QB    5400       17.27          19.7          18.6   \n",
       "2    Tommy Devito  QB    4000       12.82          13.6          13.6   \n",
       "6      Geno Smith  QB    5700       17.07          19.2          15.8   \n",
       "5  Jayden Daniels  QB    7000       21.17          23.5          18.3   \n",
       "4    Kyler Murray  QB    6200       18.58          18.7          18.2   \n",
       "\n",
       "   prediction_3  prediction_prop  prediction_4  mean_pred  pred_count  \\\n",
       "1          18.4              NaN           NaN    18.4925           4   \n",
       "2          14.0              NaN           NaN    13.5050           4   \n",
       "6          21.4              NaN           NaN    18.3675           4   \n",
       "5          24.8              NaN           NaN    21.9425           4   \n",
       "4          20.6              NaN           NaN    19.0200           4   \n",
       "\n",
       "   Avg Value  \n",
       "1   3.424537  \n",
       "2   3.376250  \n",
       "6   3.222368  \n",
       "5   3.134643  \n",
       "4   3.067742  "
      ]
     },
     "execution_count": 51,
     "metadata": {},
     "output_type": "execute_result"
    }
   ],
   "source": [
    "top_QBs = pdf[pdf.pos=='QB']\n",
    "top_QBs.head(5)"
   ]
  },
  {
   "cell_type": "code",
   "execution_count": 52,
   "metadata": {
    "ExecuteTime": {
     "end_time": "2022-04-20T16:50:34.880274Z",
     "start_time": "2022-04-20T16:50:34.837279Z"
    },
    "hidden": true
   },
   "outputs": [
    {
     "data": {
      "text/html": [
       "<div>\n",
       "<style scoped>\n",
       "    .dataframe tbody tr th:only-of-type {\n",
       "        vertical-align: middle;\n",
       "    }\n",
       "\n",
       "    .dataframe tbody tr th {\n",
       "        vertical-align: top;\n",
       "    }\n",
       "\n",
       "    .dataframe thead th {\n",
       "        text-align: right;\n",
       "    }\n",
       "</style>\n",
       "<table border=\"1\" class=\"dataframe\">\n",
       "  <thead>\n",
       "    <tr style=\"text-align: right;\">\n",
       "      <th></th>\n",
       "      <th>name</th>\n",
       "      <th>pos</th>\n",
       "      <th>salary</th>\n",
       "      <th>prediction</th>\n",
       "      <th>prediction_1</th>\n",
       "      <th>prediction_2</th>\n",
       "      <th>prediction_3</th>\n",
       "      <th>prediction_prop</th>\n",
       "      <th>prediction_4</th>\n",
       "      <th>mean_pred</th>\n",
       "      <th>pred_count</th>\n",
       "      <th>Avg Value</th>\n",
       "    </tr>\n",
       "  </thead>\n",
       "  <tbody>\n",
       "    <tr>\n",
       "      <th>34</th>\n",
       "      <td>De'Von Achane</td>\n",
       "      <td>RB</td>\n",
       "      <td>7500</td>\n",
       "      <td>17.93</td>\n",
       "      <td>21.7</td>\n",
       "      <td>18.5</td>\n",
       "      <td>17.15</td>\n",
       "      <td>19.0</td>\n",
       "      <td>18.7</td>\n",
       "      <td>18.830000</td>\n",
       "      <td>6</td>\n",
       "      <td>2.510667</td>\n",
       "    </tr>\n",
       "    <tr>\n",
       "      <th>35</th>\n",
       "      <td>Christian Mccaffrey</td>\n",
       "      <td>RB</td>\n",
       "      <td>8500</td>\n",
       "      <td>20.40</td>\n",
       "      <td>21.6</td>\n",
       "      <td>20.2</td>\n",
       "      <td>18.95</td>\n",
       "      <td>NaN</td>\n",
       "      <td>NaN</td>\n",
       "      <td>20.287500</td>\n",
       "      <td>4</td>\n",
       "      <td>2.386765</td>\n",
       "    </tr>\n",
       "    <tr>\n",
       "      <th>49</th>\n",
       "      <td>Jahmyr Gibbs</td>\n",
       "      <td>RB</td>\n",
       "      <td>7300</td>\n",
       "      <td>15.88</td>\n",
       "      <td>17.2</td>\n",
       "      <td>18.8</td>\n",
       "      <td>17.25</td>\n",
       "      <td>NaN</td>\n",
       "      <td>NaN</td>\n",
       "      <td>17.282500</td>\n",
       "      <td>4</td>\n",
       "      <td>2.367466</td>\n",
       "    </tr>\n",
       "    <tr>\n",
       "      <th>63</th>\n",
       "      <td>Joe Mixon</td>\n",
       "      <td>RB</td>\n",
       "      <td>8000</td>\n",
       "      <td>17.65</td>\n",
       "      <td>21.5</td>\n",
       "      <td>19.8</td>\n",
       "      <td>16.90</td>\n",
       "      <td>18.5</td>\n",
       "      <td>19.1</td>\n",
       "      <td>18.908333</td>\n",
       "      <td>6</td>\n",
       "      <td>2.363542</td>\n",
       "    </tr>\n",
       "    <tr>\n",
       "      <th>47</th>\n",
       "      <td>Brian Robinson</td>\n",
       "      <td>RB</td>\n",
       "      <td>5600</td>\n",
       "      <td>12.96</td>\n",
       "      <td>15.0</td>\n",
       "      <td>14.7</td>\n",
       "      <td>9.70</td>\n",
       "      <td>NaN</td>\n",
       "      <td>NaN</td>\n",
       "      <td>13.090000</td>\n",
       "      <td>4</td>\n",
       "      <td>2.337500</td>\n",
       "    </tr>\n",
       "  </tbody>\n",
       "</table>\n",
       "</div>"
      ],
      "text/plain": [
       "                   name pos  salary  prediction  prediction_1  prediction_2  \\\n",
       "34        De'Von Achane  RB    7500       17.93          21.7          18.5   \n",
       "35  Christian Mccaffrey  RB    8500       20.40          21.6          20.2   \n",
       "49         Jahmyr Gibbs  RB    7300       15.88          17.2          18.8   \n",
       "63            Joe Mixon  RB    8000       17.65          21.5          19.8   \n",
       "47       Brian Robinson  RB    5600       12.96          15.0          14.7   \n",
       "\n",
       "    prediction_3  prediction_prop  prediction_4  mean_pred  pred_count  \\\n",
       "34         17.15             19.0          18.7  18.830000           6   \n",
       "35         18.95              NaN           NaN  20.287500           4   \n",
       "49         17.25              NaN           NaN  17.282500           4   \n",
       "63         16.90             18.5          19.1  18.908333           6   \n",
       "47          9.70              NaN           NaN  13.090000           4   \n",
       "\n",
       "    Avg Value  \n",
       "34   2.510667  \n",
       "35   2.386765  \n",
       "49   2.367466  \n",
       "63   2.363542  \n",
       "47   2.337500  "
      ]
     },
     "execution_count": 52,
     "metadata": {},
     "output_type": "execute_result"
    }
   ],
   "source": [
    "top_RBs = pdf[pdf.pos=='RB']\n",
    "top_RBs.head(5)"
   ]
  },
  {
   "cell_type": "code",
   "execution_count": 53,
   "metadata": {
    "ExecuteTime": {
     "end_time": "2022-04-20T16:50:37.517886Z",
     "start_time": "2022-04-20T16:50:37.476102Z"
    },
    "hidden": true
   },
   "outputs": [
    {
     "data": {
      "text/html": [
       "<div>\n",
       "<style scoped>\n",
       "    .dataframe tbody tr th:only-of-type {\n",
       "        vertical-align: middle;\n",
       "    }\n",
       "\n",
       "    .dataframe tbody tr th {\n",
       "        vertical-align: top;\n",
       "    }\n",
       "\n",
       "    .dataframe thead th {\n",
       "        text-align: right;\n",
       "    }\n",
       "</style>\n",
       "<table border=\"1\" class=\"dataframe\">\n",
       "  <thead>\n",
       "    <tr style=\"text-align: right;\">\n",
       "      <th></th>\n",
       "      <th>name</th>\n",
       "      <th>pos</th>\n",
       "      <th>salary</th>\n",
       "      <th>prediction</th>\n",
       "      <th>prediction_1</th>\n",
       "      <th>prediction_2</th>\n",
       "      <th>prediction_3</th>\n",
       "      <th>prediction_prop</th>\n",
       "      <th>prediction_4</th>\n",
       "      <th>mean_pred</th>\n",
       "      <th>pred_count</th>\n",
       "      <th>Avg Value</th>\n",
       "    </tr>\n",
       "  </thead>\n",
       "  <tbody>\n",
       "    <tr>\n",
       "      <th>30</th>\n",
       "      <td>Jakobi Meyers</td>\n",
       "      <td>WR</td>\n",
       "      <td>5100</td>\n",
       "      <td>12.81</td>\n",
       "      <td>12.9</td>\n",
       "      <td>14.1</td>\n",
       "      <td>9.15</td>\n",
       "      <td>NaN</td>\n",
       "      <td>NaN</td>\n",
       "      <td>12.2400</td>\n",
       "      <td>4</td>\n",
       "      <td>2.400000</td>\n",
       "    </tr>\n",
       "    <tr>\n",
       "      <th>36</th>\n",
       "      <td>Deandre Hopkins</td>\n",
       "      <td>WR</td>\n",
       "      <td>5400</td>\n",
       "      <td>12.76</td>\n",
       "      <td>12.6</td>\n",
       "      <td>12.8</td>\n",
       "      <td>9.25</td>\n",
       "      <td>NaN</td>\n",
       "      <td>NaN</td>\n",
       "      <td>11.8525</td>\n",
       "      <td>4</td>\n",
       "      <td>2.194907</td>\n",
       "    </tr>\n",
       "    <tr>\n",
       "      <th>105</th>\n",
       "      <td>Jauan Jennings</td>\n",
       "      <td>WR</td>\n",
       "      <td>5600</td>\n",
       "      <td>10.86</td>\n",
       "      <td>13.2</td>\n",
       "      <td>13.0</td>\n",
       "      <td>11.95</td>\n",
       "      <td>NaN</td>\n",
       "      <td>NaN</td>\n",
       "      <td>12.2525</td>\n",
       "      <td>4</td>\n",
       "      <td>2.187946</td>\n",
       "    </tr>\n",
       "    <tr>\n",
       "      <th>68</th>\n",
       "      <td>Dk Metcalf</td>\n",
       "      <td>WR</td>\n",
       "      <td>6600</td>\n",
       "      <td>14.64</td>\n",
       "      <td>15.0</td>\n",
       "      <td>14.9</td>\n",
       "      <td>12.75</td>\n",
       "      <td>NaN</td>\n",
       "      <td>NaN</td>\n",
       "      <td>14.3225</td>\n",
       "      <td>4</td>\n",
       "      <td>2.170076</td>\n",
       "    </tr>\n",
       "    <tr>\n",
       "      <th>81</th>\n",
       "      <td>Ladd Mcconkey</td>\n",
       "      <td>WR</td>\n",
       "      <td>6000</td>\n",
       "      <td>12.30</td>\n",
       "      <td>15.2</td>\n",
       "      <td>13.2</td>\n",
       "      <td>10.95</td>\n",
       "      <td>NaN</td>\n",
       "      <td>NaN</td>\n",
       "      <td>12.9125</td>\n",
       "      <td>4</td>\n",
       "      <td>2.152083</td>\n",
       "    </tr>\n",
       "  </tbody>\n",
       "</table>\n",
       "</div>"
      ],
      "text/plain": [
       "                name pos  salary  prediction  prediction_1  prediction_2  \\\n",
       "30     Jakobi Meyers  WR    5100       12.81          12.9          14.1   \n",
       "36   Deandre Hopkins  WR    5400       12.76          12.6          12.8   \n",
       "105   Jauan Jennings  WR    5600       10.86          13.2          13.0   \n",
       "68        Dk Metcalf  WR    6600       14.64          15.0          14.9   \n",
       "81     Ladd Mcconkey  WR    6000       12.30          15.2          13.2   \n",
       "\n",
       "     prediction_3  prediction_prop  prediction_4  mean_pred  pred_count  \\\n",
       "30           9.15              NaN           NaN    12.2400           4   \n",
       "36           9.25              NaN           NaN    11.8525           4   \n",
       "105         11.95              NaN           NaN    12.2525           4   \n",
       "68          12.75              NaN           NaN    14.3225           4   \n",
       "81          10.95              NaN           NaN    12.9125           4   \n",
       "\n",
       "     Avg Value  \n",
       "30    2.400000  \n",
       "36    2.194907  \n",
       "105   2.187946  \n",
       "68    2.170076  \n",
       "81    2.152083  "
      ]
     },
     "execution_count": 53,
     "metadata": {},
     "output_type": "execute_result"
    }
   ],
   "source": [
    "top_WRs = pdf[pdf.pos=='WR']\n",
    "top_WRs.head(5)"
   ]
  },
  {
   "cell_type": "code",
   "execution_count": 54,
   "metadata": {
    "ExecuteTime": {
     "end_time": "2022-04-20T16:50:40.379044Z",
     "start_time": "2022-04-20T16:50:40.338133Z"
    },
    "hidden": true
   },
   "outputs": [
    {
     "data": {
      "text/html": [
       "<div>\n",
       "<style scoped>\n",
       "    .dataframe tbody tr th:only-of-type {\n",
       "        vertical-align: middle;\n",
       "    }\n",
       "\n",
       "    .dataframe tbody tr th {\n",
       "        vertical-align: top;\n",
       "    }\n",
       "\n",
       "    .dataframe thead th {\n",
       "        text-align: right;\n",
       "    }\n",
       "</style>\n",
       "<table border=\"1\" class=\"dataframe\">\n",
       "  <thead>\n",
       "    <tr style=\"text-align: right;\">\n",
       "      <th></th>\n",
       "      <th>name</th>\n",
       "      <th>pos</th>\n",
       "      <th>salary</th>\n",
       "      <th>prediction</th>\n",
       "      <th>prediction_1</th>\n",
       "      <th>prediction_2</th>\n",
       "      <th>prediction_3</th>\n",
       "      <th>prediction_prop</th>\n",
       "      <th>prediction_4</th>\n",
       "      <th>mean_pred</th>\n",
       "      <th>pred_count</th>\n",
       "      <th>Avg Value</th>\n",
       "    </tr>\n",
       "  </thead>\n",
       "  <tbody>\n",
       "    <tr>\n",
       "      <th>9</th>\n",
       "      <td>Travis Kelce</td>\n",
       "      <td>TE</td>\n",
       "      <td>5800</td>\n",
       "      <td>16.85</td>\n",
       "      <td>16.8</td>\n",
       "      <td>15.0</td>\n",
       "      <td>12.20</td>\n",
       "      <td>NaN</td>\n",
       "      <td>NaN</td>\n",
       "      <td>15.212500</td>\n",
       "      <td>4</td>\n",
       "      <td>2.622845</td>\n",
       "    </tr>\n",
       "    <tr>\n",
       "      <th>50</th>\n",
       "      <td>Zach Ertz</td>\n",
       "      <td>TE</td>\n",
       "      <td>3800</td>\n",
       "      <td>8.39</td>\n",
       "      <td>9.6</td>\n",
       "      <td>9.2</td>\n",
       "      <td>8.55</td>\n",
       "      <td>NaN</td>\n",
       "      <td>NaN</td>\n",
       "      <td>8.935000</td>\n",
       "      <td>4</td>\n",
       "      <td>2.351316</td>\n",
       "    </tr>\n",
       "    <tr>\n",
       "      <th>21</th>\n",
       "      <td>Will Dissly</td>\n",
       "      <td>TE</td>\n",
       "      <td>3500</td>\n",
       "      <td>8.91</td>\n",
       "      <td>11.2</td>\n",
       "      <td>6.5</td>\n",
       "      <td>5.95</td>\n",
       "      <td>NaN</td>\n",
       "      <td>NaN</td>\n",
       "      <td>8.140000</td>\n",
       "      <td>4</td>\n",
       "      <td>2.325714</td>\n",
       "    </tr>\n",
       "    <tr>\n",
       "      <th>44</th>\n",
       "      <td>Jonnu Smith</td>\n",
       "      <td>TE</td>\n",
       "      <td>4100</td>\n",
       "      <td>9.64</td>\n",
       "      <td>10.3</td>\n",
       "      <td>9.2</td>\n",
       "      <td>8.10</td>\n",
       "      <td>9.5</td>\n",
       "      <td>10.1</td>\n",
       "      <td>9.473333</td>\n",
       "      <td>6</td>\n",
       "      <td>2.310569</td>\n",
       "    </tr>\n",
       "    <tr>\n",
       "      <th>145</th>\n",
       "      <td>Hunter Henry</td>\n",
       "      <td>TE</td>\n",
       "      <td>4000</td>\n",
       "      <td>6.99</td>\n",
       "      <td>10.8</td>\n",
       "      <td>9.1</td>\n",
       "      <td>7.15</td>\n",
       "      <td>10.5</td>\n",
       "      <td>10.2</td>\n",
       "      <td>9.123333</td>\n",
       "      <td>6</td>\n",
       "      <td>2.280833</td>\n",
       "    </tr>\n",
       "  </tbody>\n",
       "</table>\n",
       "</div>"
      ],
      "text/plain": [
       "             name pos  salary  prediction  prediction_1  prediction_2  \\\n",
       "9    Travis Kelce  TE    5800       16.85          16.8          15.0   \n",
       "50      Zach Ertz  TE    3800        8.39           9.6           9.2   \n",
       "21    Will Dissly  TE    3500        8.91          11.2           6.5   \n",
       "44    Jonnu Smith  TE    4100        9.64          10.3           9.2   \n",
       "145  Hunter Henry  TE    4000        6.99          10.8           9.1   \n",
       "\n",
       "     prediction_3  prediction_prop  prediction_4  mean_pred  pred_count  \\\n",
       "9           12.20              NaN           NaN  15.212500           4   \n",
       "50           8.55              NaN           NaN   8.935000           4   \n",
       "21           5.95              NaN           NaN   8.140000           4   \n",
       "44           8.10              9.5          10.1   9.473333           6   \n",
       "145          7.15             10.5          10.2   9.123333           6   \n",
       "\n",
       "     Avg Value  \n",
       "9     2.622845  \n",
       "50    2.351316  \n",
       "21    2.325714  \n",
       "44    2.310569  \n",
       "145   2.280833  "
      ]
     },
     "execution_count": 54,
     "metadata": {},
     "output_type": "execute_result"
    }
   ],
   "source": [
    "top_TEs = pdf[pdf.pos=='TE']\n",
    "top_TEs.head(5)"
   ]
  },
  {
   "cell_type": "code",
   "execution_count": 55,
   "metadata": {
    "ExecuteTime": {
     "end_time": "2022-04-20T16:50:44.090037Z",
     "start_time": "2022-04-20T16:50:44.049673Z"
    },
    "hidden": true
   },
   "outputs": [
    {
     "data": {
      "text/html": [
       "<div>\n",
       "<style scoped>\n",
       "    .dataframe tbody tr th:only-of-type {\n",
       "        vertical-align: middle;\n",
       "    }\n",
       "\n",
       "    .dataframe tbody tr th {\n",
       "        vertical-align: top;\n",
       "    }\n",
       "\n",
       "    .dataframe thead th {\n",
       "        text-align: right;\n",
       "    }\n",
       "</style>\n",
       "<table border=\"1\" class=\"dataframe\">\n",
       "  <thead>\n",
       "    <tr style=\"text-align: right;\">\n",
       "      <th></th>\n",
       "      <th>name</th>\n",
       "      <th>pos</th>\n",
       "      <th>salary</th>\n",
       "      <th>prediction</th>\n",
       "      <th>prediction_1</th>\n",
       "      <th>prediction_2</th>\n",
       "      <th>prediction_3</th>\n",
       "      <th>prediction_prop</th>\n",
       "      <th>prediction_4</th>\n",
       "      <th>mean_pred</th>\n",
       "      <th>pred_count</th>\n",
       "      <th>Avg Value</th>\n",
       "    </tr>\n",
       "  </thead>\n",
       "  <tbody>\n",
       "    <tr>\n",
       "      <th>33</th>\n",
       "      <td>Chicago Bears</td>\n",
       "      <td>DST</td>\n",
       "      <td>2500</td>\n",
       "      <td>6.03</td>\n",
       "      <td>7.5</td>\n",
       "      <td>8.2</td>\n",
       "      <td>12.8</td>\n",
       "      <td>NaN</td>\n",
       "      <td>NaN</td>\n",
       "      <td>8.6325</td>\n",
       "      <td>4</td>\n",
       "      <td>3.453000</td>\n",
       "    </tr>\n",
       "    <tr>\n",
       "      <th>43</th>\n",
       "      <td>Denver Broncos</td>\n",
       "      <td>DST</td>\n",
       "      <td>3200</td>\n",
       "      <td>7.45</td>\n",
       "      <td>8.2</td>\n",
       "      <td>12.3</td>\n",
       "      <td>14.3</td>\n",
       "      <td>NaN</td>\n",
       "      <td>NaN</td>\n",
       "      <td>10.5625</td>\n",
       "      <td>4</td>\n",
       "      <td>3.300781</td>\n",
       "    </tr>\n",
       "    <tr>\n",
       "      <th>51</th>\n",
       "      <td>Pittsburgh Steelers</td>\n",
       "      <td>DST</td>\n",
       "      <td>3500</td>\n",
       "      <td>7.83</td>\n",
       "      <td>9.4</td>\n",
       "      <td>12.9</td>\n",
       "      <td>15.3</td>\n",
       "      <td>NaN</td>\n",
       "      <td>NaN</td>\n",
       "      <td>11.3575</td>\n",
       "      <td>4</td>\n",
       "      <td>3.245000</td>\n",
       "    </tr>\n",
       "    <tr>\n",
       "      <th>61</th>\n",
       "      <td>Houston Texans</td>\n",
       "      <td>DST</td>\n",
       "      <td>3600</td>\n",
       "      <td>7.85</td>\n",
       "      <td>9.8</td>\n",
       "      <td>9.4</td>\n",
       "      <td>17.4</td>\n",
       "      <td>NaN</td>\n",
       "      <td>NaN</td>\n",
       "      <td>11.1125</td>\n",
       "      <td>4</td>\n",
       "      <td>3.086806</td>\n",
       "    </tr>\n",
       "    <tr>\n",
       "      <th>57</th>\n",
       "      <td>Minnesota Vikings</td>\n",
       "      <td>DST</td>\n",
       "      <td>3400</td>\n",
       "      <td>7.53</td>\n",
       "      <td>8.4</td>\n",
       "      <td>10.7</td>\n",
       "      <td>14.3</td>\n",
       "      <td>NaN</td>\n",
       "      <td>NaN</td>\n",
       "      <td>10.2325</td>\n",
       "      <td>4</td>\n",
       "      <td>3.009559</td>\n",
       "    </tr>\n",
       "  </tbody>\n",
       "</table>\n",
       "</div>"
      ],
      "text/plain": [
       "                   name  pos  salary  prediction  prediction_1  prediction_2  \\\n",
       "33        Chicago Bears  DST    2500        6.03           7.5           8.2   \n",
       "43       Denver Broncos  DST    3200        7.45           8.2          12.3   \n",
       "51  Pittsburgh Steelers  DST    3500        7.83           9.4          12.9   \n",
       "61       Houston Texans  DST    3600        7.85           9.8           9.4   \n",
       "57    Minnesota Vikings  DST    3400        7.53           8.4          10.7   \n",
       "\n",
       "    prediction_3  prediction_prop  prediction_4  mean_pred  pred_count  \\\n",
       "33          12.8              NaN           NaN     8.6325           4   \n",
       "43          14.3              NaN           NaN    10.5625           4   \n",
       "51          15.3              NaN           NaN    11.3575           4   \n",
       "61          17.4              NaN           NaN    11.1125           4   \n",
       "57          14.3              NaN           NaN    10.2325           4   \n",
       "\n",
       "    Avg Value  \n",
       "33   3.453000  \n",
       "43   3.300781  \n",
       "51   3.245000  \n",
       "61   3.086806  \n",
       "57   3.009559  "
      ]
     },
     "execution_count": 55,
     "metadata": {},
     "output_type": "execute_result"
    }
   ],
   "source": [
    "# players[players.Pos == 'Def'].head(3)\n",
    "top_Defs = pdf[pdf.pos=='DST']\n",
    "top_Defs.head(5)"
   ]
  },
  {
   "cell_type": "markdown",
   "metadata": {},
   "source": [
    "# Team Selection"
   ]
  },
  {
   "cell_type": "markdown",
   "metadata": {},
   "source": [
    "$$\\begin{aligned} \n",
    "objective &= maximize\\ team\\ points \\\\ \n",
    "team\\ salary &\\leq salary\\ cap \\\\\n",
    "team &= 1\\ QB + (2|3)\\ RB + (3|4)\\ WR + (1|2)\\ TE + 1\\ DEF \\\\\n",
    "team &\\leq 9\\ total\\ players \\\\\n",
    "\\end{aligned}$$"
   ]
  },
  {
   "cell_type": "code",
   "execution_count": 39,
   "metadata": {},
   "outputs": [],
   "source": [
    "# %pip install pulp"
   ]
  },
  {
   "cell_type": "code",
   "execution_count": 39,
   "metadata": {
    "ExecuteTime": {
     "end_time": "2022-04-20T13:58:09.866504Z",
     "start_time": "2022-04-20T13:58:09.794841Z"
    }
   },
   "outputs": [],
   "source": [
    "from pulp import *\n",
    "\n",
    "class PulpSelection():\n",
    "    def __init__(self, df, pts_col=\"prediction\", sal_col=\"salary\", name_col=\"name\", salary_cap=50000):\n",
    "        self.df = df\n",
    "        self.vars = self.populate_vars(pts_col, sal_col, name_col)\n",
    "        self.model = self.optimize(salary_cap)\n",
    "        self.players = self.player_names()\n",
    "        self.selection = self.selection_df()\n",
    "        \n",
    "    def populate_vars(self, pts_col, sal_col, name_col):\n",
    "        df = self.df\n",
    "        salaries = {}\n",
    "        points = {}\n",
    "        for pos in df.pos.unique():\n",
    "            available_pos = df[df.pos == pos]\n",
    "            salary = list(available_pos[[name_col,sal_col]].set_index(name_col).to_dict().values())[0]\n",
    "            point = list(available_pos[[name_col,pts_col]].set_index(name_col).to_dict().values())[0]\n",
    "            salaries[pos] = salary\n",
    "            points[pos] = point\n",
    "            \n",
    "        self.salaries = salaries\n",
    "        self.points = points\n",
    "        return {k: LpVariable.dict(k, v, cat=\"Binary\") for k, v in points.items()}\n",
    "\n",
    "    def player_names(self):\n",
    "        players = {}\n",
    "        for d in self.vars.values():\n",
    "            for k,v in d.items():\n",
    "                players[v] = k\n",
    "        return players\n",
    "            \n",
    "    pos_num_available = {\n",
    "        \"QB\": 1,\n",
    "        \"RB\": 2,\n",
    "        \"WR\": 3,\n",
    "        \"TE\": 1,\n",
    "        \"DST\": 1\n",
    "    }\n",
    "\n",
    "    def optimize(self, salary_cap):\n",
    "        prob = LpProblem(\"FFModel\", LpMaximize)\n",
    "        rewards = []\n",
    "        costs = []\n",
    "\n",
    "        for pos, players in self.vars.items():\n",
    "            costs += lpSum([self.salaries[pos][i] * self.vars[pos][i] for i in players])\n",
    "            rewards += lpSum([self.points[pos][i] * self.vars[pos][i] for i in players])\n",
    "            if pos in ['RB','WR','TE']:\n",
    "                prob += lpSum([self.vars[pos][i] for i in players]) <= self.pos_num_available[pos]+1\n",
    "                prob += lpSum([self.vars[pos][i] for i in players]) >= self.pos_num_available[pos]\n",
    "            else:\n",
    "                prob += lpSum([self.vars[pos][i] for i in players]) == self.pos_num_available[pos]\n",
    "        prob += lpSum(prob.variables()) == 9    # flex -> max of 9 total players\n",
    "\n",
    "        prob += lpSum(rewards)\n",
    "        prob += lpSum(costs) <= salary_cap\n",
    "        print(prob.solve(pulp.PULP_CBC_CMD(msg=False)))  #suppress solver output\n",
    "        return prob\n",
    "    \n",
    "    def selection_df(self):\n",
    "        selections = [self.players[p] for p in self.model.variables() if p.varValue > 0]\n",
    "        team = self.df[self.df.name.isin(selections)]\n",
    "        return team"
   ]
  },
  {
   "cell_type": "code",
   "execution_count": 50,
   "metadata": {},
   "outputs": [],
   "source": [
    "def pick_team(pred_df, pts_col, act_pts='fpts'):\n",
    "    pred_df[pts_col] = pred_df[pts_col].fillna(0.0)\n",
    "    model = PulpSelection(pred_df, pts_col=pts_col)\n",
    "    team = model.selection\n",
    "\n",
    "    columns_to_keep = ['name','pos','salary',pts_col,act_pts]\n",
    "    team = team[[col for col in columns_to_keep if col in team]]\n",
    "    print(f\"Total predicted points: {sum(team[pts_col])}\", end=\"  \")\n",
    "    if 'fpts' in team:\n",
    "        print(f\"Total actual points: {sum(team[act_pts])}\", end=\"  \")\n",
    "    print(f\"Total Salary: {sum(team['salary'])}\")\n",
    "    print(team)\n",
    "    return team"
   ]
  },
  {
   "cell_type": "code",
   "execution_count": 69,
   "metadata": {},
   "outputs": [
    {
     "name": "stdout",
     "output_type": "stream",
     "text": [
      "1\n",
      "Total predicted points: 133.57833333333332  Total Salary: 49900\n",
      "               name  pos  salary  mean_pred\n",
      "5       Jonnu Smith   TE    4300  10.893333\n",
      "10         DJ Moore   WR    5600  12.806667\n",
      "115  Justin Herbert   QB    5600  19.148333\n",
      "116     Chase Brown   RB    6200  17.802500\n",
      "120    Travis Kelce   TE    5600  14.490000\n",
      "146    Alvin Kamara   RB    7700  18.925000\n",
      "175  Denver Broncos  DST    3300  11.175000\n",
      "198   Ladd McConkey   WR    6100  14.790000\n",
      "244    Brian Thomas   WR    5500  13.547500\n"
     ]
    }
   ],
   "source": [
    "team = pick_team(merged, 'mean_pred')"
   ]
  },
  {
   "cell_type": "code",
   "execution_count": 52,
   "metadata": {
    "ExecuteTime": {
     "end_time": "2022-04-20T17:01:01.370737Z",
     "start_time": "2022-04-20T17:01:01.343783Z"
    }
   },
   "outputs": [
    {
     "name": "stdout",
     "output_type": "stream",
     "text": [
      "1\n",
      "Total predicted points: 143.6  Total Salary: 50000\n",
      "               name  pos  salary  prediction_1\n",
      "7       Rico Dowdle   RB    5500          15.5\n",
      "115  Justin Herbert   QB    5600          20.9\n",
      "116     Chase Brown   RB    6200          19.6\n",
      "146    Alvin Kamara   RB    7700          22.1\n",
      "156   Jakobi Meyers   WR    5300          13.0\n",
      "175  Denver Broncos  DST    3300           9.3\n",
      "198   Ladd McConkey   WR    6100          15.8\n",
      "213     Evan Engram   TE    4800          13.9\n",
      "244    Brian Thomas   WR    5500          13.5\n"
     ]
    }
   ],
   "source": [
    "team = pick_team(merged, 'prediction_1')"
   ]
  },
  {
   "cell_type": "markdown",
   "metadata": {},
   "source": [
    "## Save Picks to CSV"
   ]
  },
  {
   "cell_type": "code",
   "execution_count": 70,
   "metadata": {},
   "outputs": [],
   "source": [
    "remote_dir = f\"{primary_dir}/Weekly Team Picks/Week {week:02}/\"\n",
    "local_dir = \"2024_weekly_picks/\"\n",
    "fname = f\"Adam_week{week}_picks.csv\"\n",
    "\n",
    "# save version in each location\n",
    "for d in [local_dir, remote_dir]:\n",
    "    team[['pos','name','salary']].to_csv(d+fname, index=False)"
   ]
  },
  {
   "cell_type": "markdown",
   "metadata": {
    "jp-MarkdownHeadingCollapsed": true
   },
   "source": [
    "# Optimal Picks per Week"
   ]
  },
  {
   "cell_type": "code",
   "execution_count": 19,
   "metadata": {},
   "outputs": [
    {
     "data": {
      "text/html": [
       "<div>\n",
       "<style scoped>\n",
       "    .dataframe tbody tr th:only-of-type {\n",
       "        vertical-align: middle;\n",
       "    }\n",
       "\n",
       "    .dataframe tbody tr th {\n",
       "        vertical-align: top;\n",
       "    }\n",
       "\n",
       "    .dataframe thead th {\n",
       "        text-align: right;\n",
       "    }\n",
       "</style>\n",
       "<table border=\"1\" class=\"dataframe\">\n",
       "  <thead>\n",
       "    <tr style=\"text-align: right;\">\n",
       "      <th></th>\n",
       "      <th>name</th>\n",
       "      <th>pos</th>\n",
       "      <th>salary</th>\n",
       "      <th>prediction</th>\n",
       "      <th>fpts</th>\n",
       "    </tr>\n",
       "  </thead>\n",
       "  <tbody>\n",
       "    <tr>\n",
       "      <th>0</th>\n",
       "      <td>Patrick Mahomes</td>\n",
       "      <td>QB</td>\n",
       "      <td>8100</td>\n",
       "      <td>25.420</td>\n",
       "      <td>21.34</td>\n",
       "    </tr>\n",
       "    <tr>\n",
       "      <th>1</th>\n",
       "      <td>Joe Burrow</td>\n",
       "      <td>QB</td>\n",
       "      <td>6300</td>\n",
       "      <td>20.025</td>\n",
       "      <td>14.80</td>\n",
       "    </tr>\n",
       "    <tr>\n",
       "      <th>2</th>\n",
       "      <td>Trevor Lawrence</td>\n",
       "      <td>QB</td>\n",
       "      <td>6500</td>\n",
       "      <td>20.465</td>\n",
       "      <td>15.74</td>\n",
       "    </tr>\n",
       "    <tr>\n",
       "      <th>4</th>\n",
       "      <td>Sam Howell</td>\n",
       "      <td>QB</td>\n",
       "      <td>5500</td>\n",
       "      <td>16.570</td>\n",
       "      <td>18.34</td>\n",
       "    </tr>\n",
       "    <tr>\n",
       "      <th>5</th>\n",
       "      <td>Dak Prescott</td>\n",
       "      <td>QB</td>\n",
       "      <td>6200</td>\n",
       "      <td>18.470</td>\n",
       "      <td>NaN</td>\n",
       "    </tr>\n",
       "    <tr>\n",
       "      <th>...</th>\n",
       "      <td>...</td>\n",
       "      <td>...</td>\n",
       "      <td>...</td>\n",
       "      <td>...</td>\n",
       "      <td>...</td>\n",
       "    </tr>\n",
       "    <tr>\n",
       "      <th>351</th>\n",
       "      <td>Jason Brownlee</td>\n",
       "      <td>WR</td>\n",
       "      <td>3000</td>\n",
       "      <td>0.225</td>\n",
       "      <td>NaN</td>\n",
       "    </tr>\n",
       "    <tr>\n",
       "      <th>354</th>\n",
       "      <td>Brandon Bolden</td>\n",
       "      <td>RB</td>\n",
       "      <td>4000</td>\n",
       "      <td>0.365</td>\n",
       "      <td>NaN</td>\n",
       "    </tr>\n",
       "    <tr>\n",
       "      <th>355</th>\n",
       "      <td>Davis Allen</td>\n",
       "      <td>TE</td>\n",
       "      <td>2500</td>\n",
       "      <td>0.195</td>\n",
       "      <td>NaN</td>\n",
       "    </tr>\n",
       "    <tr>\n",
       "      <th>356</th>\n",
       "      <td>Mike Boone</td>\n",
       "      <td>RB</td>\n",
       "      <td>4000</td>\n",
       "      <td>0.580</td>\n",
       "      <td>1.10</td>\n",
       "    </tr>\n",
       "    <tr>\n",
       "      <th>369</th>\n",
       "      <td>Khari Blasingame</td>\n",
       "      <td>RB</td>\n",
       "      <td>4500</td>\n",
       "      <td>0.280</td>\n",
       "      <td>1.10</td>\n",
       "    </tr>\n",
       "  </tbody>\n",
       "</table>\n",
       "<p>312 rows × 5 columns</p>\n",
       "</div>"
      ],
      "text/plain": [
       "                 name pos  salary  prediction   fpts\n",
       "0     Patrick Mahomes  QB    8100      25.420  21.34\n",
       "1          Joe Burrow  QB    6300      20.025  14.80\n",
       "2     Trevor Lawrence  QB    6500      20.465  15.74\n",
       "4          Sam Howell  QB    5500      16.570  18.34\n",
       "5        Dak Prescott  QB    6200      18.470    NaN\n",
       "..                ...  ..     ...         ...    ...\n",
       "351    Jason Brownlee  WR    3000       0.225    NaN\n",
       "354    Brandon Bolden  RB    4000       0.365    NaN\n",
       "355       Davis Allen  TE    2500       0.195    NaN\n",
       "356        Mike Boone  RB    4000       0.580   1.10\n",
       "369  Khari Blasingame  RB    4500       0.280   1.10\n",
       "\n",
       "[312 rows x 5 columns]"
      ]
     },
     "execution_count": 19,
     "metadata": {},
     "output_type": "execute_result"
    }
   ],
   "source": [
    "# salary + scoring\n",
    "df = df.join(week_df[['name', 'fpts']].set_index('name'), on='name')\n",
    "df"
   ]
  },
  {
   "cell_type": "code",
   "execution_count": 20,
   "metadata": {},
   "outputs": [],
   "source": [
    "def show_optimal_picks(df, pts_col='fpts', sal_col='salary'):\n",
    "    week = df.dropna()\n",
    "    model = PulpSelection(week, pts_col=pts_col)\n",
    "    team = model.selection\n",
    "    print(\"\\nTotal points: {}     Total salary: {}\\n\".format(sum(team[pts_col]), sum(team[sal_col])))\n",
    "    return team"
   ]
  },
  {
   "cell_type": "code",
   "execution_count": 21,
   "metadata": {},
   "outputs": [
    {
     "name": "stdout",
     "output_type": "stream",
     "text": [
      "Welcome to the CBC MILP Solver \n",
      "Version: 2.10.3 \n",
      "Build Date: Dec 15 2019 \n",
      "\n",
      "command line - /usr/local/Caskroom/miniconda/base/envs/default/lib/python3.10/site-packages/pulp/solverdir/cbc/osx/64/cbc /var/folders/cv/pyjmd76x58dbyxrhzycj6c880000gp/T/277c43891ee94cf3b082240ccce60552-pulp.mps max timeMode elapsed branch printingOptions all solution /var/folders/cv/pyjmd76x58dbyxrhzycj6c880000gp/T/277c43891ee94cf3b082240ccce60552-pulp.sol (default strategy 1)\n",
      "At line 2 NAME          MODEL\n",
      "At line 3 ROWS\n",
      "At line 15 COLUMNS\n",
      "At line 1690 RHS\n",
      "At line 1701 BOUNDS\n",
      "At line 1952 ENDATA\n",
      "Problem MODEL has 10 rows, 250 columns and 947 elements\n",
      "Coin0008I MODEL read with 0 errors\n",
      "Option for timeMode changed from cpu to elapsed\n",
      "Continuous objective value is 242.62 - 0.00 seconds\n",
      "Cgl0004I processed model has 7 rows, 230 columns (230 integer (226 of which binary)) and 690 elements\n",
      "Cbc0038I Initial state - 0 integers unsatisfied sum - 0\n",
      "Cbc0038I Solution found of -242.62\n",
      "Cbc0038I Cleaned solution of -242.62\n",
      "Cbc0038I Before mini branch and bound, 230 integers at bound fixed and 0 continuous\n",
      "Cbc0038I Mini branch and bound did not improve solution (0.00 seconds)\n",
      "Cbc0038I After 0.00 seconds - Feasibility pump exiting with objective of -242.62 - took 0.00 seconds\n",
      "Cbc0012I Integer solution of -242.62 found by feasibility pump after 0 iterations and 0 nodes (0.00 seconds)\n",
      "Cbc0001I Search completed - best objective -242.62, took 0 iterations and 0 nodes (0.00 seconds)\n",
      "Cbc0035I Maximum depth 0, 0 variables fixed on reduced cost\n",
      "Cuts at root node changed objective from -242.62 to -242.62\n",
      "Probing was tried 0 times and created 0 cuts of which 0 were active after adding rounds of cuts (0.000 seconds)\n",
      "Gomory was tried 0 times and created 0 cuts of which 0 were active after adding rounds of cuts (0.000 seconds)\n",
      "Knapsack was tried 0 times and created 0 cuts of which 0 were active after adding rounds of cuts (0.000 seconds)\n",
      "Clique was tried 0 times and created 0 cuts of which 0 were active after adding rounds of cuts (0.000 seconds)\n",
      "MixedIntegerRounding2 was tried 0 times and created 0 cuts of which 0 were active after adding rounds of cuts (0.000 seconds)\n",
      "FlowCover was tried 0 times and created 0 cuts of which 0 were active after adding rounds of cuts (0.000 seconds)\n",
      "TwoMirCuts was tried 0 times and created 0 cuts of which 0 were active after adding rounds of cuts (0.000 seconds)\n",
      "ZeroHalf was tried 0 times and created 0 cuts of which 0 were active after adding rounds of cuts (0.000 seconds)\n",
      "\n",
      "Result - Optimal solution found\n",
      "\n",
      "Objective value:                242.62000000\n",
      "Enumerated nodes:               0\n",
      "Total iterations:               0\n",
      "Time (CPU seconds):             0.00\n",
      "Time (Wallclock seconds):       0.00\n",
      "\n",
      "Option for printingOptions changed from normal to all\n",
      "Total time (CPU seconds):       0.00   (Wallclock seconds):       0.01\n",
      "\n",
      "1\n",
      "\n",
      "Total points: 242.62     Total salary: 54900\n",
      "\n"
     ]
    },
    {
     "data": {
      "text/html": [
       "<div>\n",
       "<style scoped>\n",
       "    .dataframe tbody tr th:only-of-type {\n",
       "        vertical-align: middle;\n",
       "    }\n",
       "\n",
       "    .dataframe tbody tr th {\n",
       "        vertical-align: top;\n",
       "    }\n",
       "\n",
       "    .dataframe thead th {\n",
       "        text-align: right;\n",
       "    }\n",
       "</style>\n",
       "<table border=\"1\" class=\"dataframe\">\n",
       "  <thead>\n",
       "    <tr style=\"text-align: right;\">\n",
       "      <th></th>\n",
       "      <th>name</th>\n",
       "      <th>pos</th>\n",
       "      <th>salary</th>\n",
       "      <th>prediction</th>\n",
       "      <th>fpts</th>\n",
       "    </tr>\n",
       "  </thead>\n",
       "  <tbody>\n",
       "    <tr>\n",
       "      <th>11</th>\n",
       "      <td>Drake London</td>\n",
       "      <td>WR</td>\n",
       "      <td>4800</td>\n",
       "      <td>12.345</td>\n",
       "      <td>24.50</td>\n",
       "    </tr>\n",
       "    <tr>\n",
       "      <th>28</th>\n",
       "      <td>Jared Goff</td>\n",
       "      <td>QB</td>\n",
       "      <td>6400</td>\n",
       "      <td>16.830</td>\n",
       "      <td>25.42</td>\n",
       "    </tr>\n",
       "    <tr>\n",
       "      <th>63</th>\n",
       "      <td>Raheem Mostert</td>\n",
       "      <td>RB</td>\n",
       "      <td>6400</td>\n",
       "      <td>15.740</td>\n",
       "      <td>37.20</td>\n",
       "    </tr>\n",
       "    <tr>\n",
       "      <th>67</th>\n",
       "      <td>Cooper Kupp</td>\n",
       "      <td>WR</td>\n",
       "      <td>9000</td>\n",
       "      <td>20.780</td>\n",
       "      <td>30.80</td>\n",
       "    </tr>\n",
       "    <tr>\n",
       "      <th>69</th>\n",
       "      <td>Kyren Williams</td>\n",
       "      <td>RB</td>\n",
       "      <td>6500</td>\n",
       "      <td>15.255</td>\n",
       "      <td>24.80</td>\n",
       "    </tr>\n",
       "    <tr>\n",
       "      <th>88</th>\n",
       "      <td>Tyreek Hill</td>\n",
       "      <td>WR</td>\n",
       "      <td>9300</td>\n",
       "      <td>22.715</td>\n",
       "      <td>31.30</td>\n",
       "    </tr>\n",
       "    <tr>\n",
       "      <th>90</th>\n",
       "      <td>Adam Thielen</td>\n",
       "      <td>WR</td>\n",
       "      <td>5900</td>\n",
       "      <td>13.610</td>\n",
       "      <td>31.50</td>\n",
       "    </tr>\n",
       "    <tr>\n",
       "      <th>92</th>\n",
       "      <td>Minnesota Vikings</td>\n",
       "      <td>Def</td>\n",
       "      <td>3000</td>\n",
       "      <td>6.075</td>\n",
       "      <td>21.00</td>\n",
       "    </tr>\n",
       "    <tr>\n",
       "      <th>97</th>\n",
       "      <td>Dalton Schultz</td>\n",
       "      <td>TE</td>\n",
       "      <td>3600</td>\n",
       "      <td>8.195</td>\n",
       "      <td>16.10</td>\n",
       "    </tr>\n",
       "  </tbody>\n",
       "</table>\n",
       "</div>"
      ],
      "text/plain": [
       "                 name  pos  salary  prediction   fpts\n",
       "11       Drake London   WR    4800      12.345  24.50\n",
       "28         Jared Goff   QB    6400      16.830  25.42\n",
       "63     Raheem Mostert   RB    6400      15.740  37.20\n",
       "67        Cooper Kupp   WR    9000      20.780  30.80\n",
       "69     Kyren Williams   RB    6500      15.255  24.80\n",
       "88        Tyreek Hill   WR    9300      22.715  31.30\n",
       "90       Adam Thielen   WR    5900      13.610  31.50\n",
       "92  Minnesota Vikings  Def    3000       6.075  21.00\n",
       "97     Dalton Schultz   TE    3600       8.195  16.10"
      ]
     },
     "execution_count": 21,
     "metadata": {},
     "output_type": "execute_result"
    }
   ],
   "source": [
    "show_optimal_picks(df)"
   ]
  },
  {
   "cell_type": "markdown",
   "metadata": {
    "jp-MarkdownHeadingCollapsed": true
   },
   "source": [
    "# Scoring submission"
   ]
  },
  {
   "cell_type": "code",
   "execution_count": 4,
   "metadata": {},
   "outputs": [],
   "source": [
    "def get_scores(year, week):\n",
    "    res = []\n",
    "    for pos in ['QB','RB','WR','TE','dst']:\n",
    "        url = (f\"https://fantasydata.com/nfl/fantasy-football-leaders?scope=game\"\n",
    "               f\"&sp={year}_REG&week_from={week}&week_to={week}&position={pos}\"\n",
    "                \"&scoring=fpts_draftkings&order_by=fpts_draftkings&sort_dir=desc\")\n",
    "        df = pd.read_html(url)[0]\n",
    "        if pos == 'dst':\n",
    "            df = df.rename(columns={'TEAM': 'name'})\n",
    "            df['pos'] = 'DST'\n",
    "        else:\n",
    "            df.columns = df.columns.droplevel(0)\n",
    "        df = df.rename(columns=str.lower)\n",
    "        res.append(df[['name','pos','fpts']])\n",
    "    return pd.concat(res)"
   ]
  },
  {
   "cell_type": "code",
   "execution_count": 5,
   "metadata": {},
   "outputs": [
    {
     "data": {
      "text/html": [
       "<div>\n",
       "<style scoped>\n",
       "    .dataframe tbody tr th:only-of-type {\n",
       "        vertical-align: middle;\n",
       "    }\n",
       "\n",
       "    .dataframe tbody tr th {\n",
       "        vertical-align: top;\n",
       "    }\n",
       "\n",
       "    .dataframe thead th {\n",
       "        text-align: right;\n",
       "    }\n",
       "</style>\n",
       "<table border=\"1\" class=\"dataframe\">\n",
       "  <thead>\n",
       "    <tr style=\"text-align: right;\">\n",
       "      <th></th>\n",
       "      <th>name</th>\n",
       "      <th>pos</th>\n",
       "      <th>fpts</th>\n",
       "    </tr>\n",
       "  </thead>\n",
       "  <tbody>\n",
       "    <tr>\n",
       "      <th>0</th>\n",
       "      <td>Jayden Daniels</td>\n",
       "      <td>QB</td>\n",
       "      <td>32.4</td>\n",
       "    </tr>\n",
       "    <tr>\n",
       "      <th>1</th>\n",
       "      <td>Tua Tagovailoa</td>\n",
       "      <td>QB</td>\n",
       "      <td>31.5</td>\n",
       "    </tr>\n",
       "    <tr>\n",
       "      <th>2</th>\n",
       "      <td>Caleb Williams</td>\n",
       "      <td>QB</td>\n",
       "      <td>29.9</td>\n",
       "    </tr>\n",
       "    <tr>\n",
       "      <th>3</th>\n",
       "      <td>Patrick Mahomes</td>\n",
       "      <td>QB</td>\n",
       "      <td>28.8</td>\n",
       "    </tr>\n",
       "    <tr>\n",
       "      <th>4</th>\n",
       "      <td>Sam Darnold</td>\n",
       "      <td>QB</td>\n",
       "      <td>24.1</td>\n",
       "    </tr>\n",
       "    <tr>\n",
       "      <th>...</th>\n",
       "      <td>...</td>\n",
       "      <td>...</td>\n",
       "      <td>...</td>\n",
       "    </tr>\n",
       "    <tr>\n",
       "      <th>21</th>\n",
       "      <td>New York Giants</td>\n",
       "      <td>DST</td>\n",
       "      <td>1.0</td>\n",
       "    </tr>\n",
       "    <tr>\n",
       "      <th>22</th>\n",
       "      <td>Las Vegas Raiders</td>\n",
       "      <td>DST</td>\n",
       "      <td>0.0</td>\n",
       "    </tr>\n",
       "    <tr>\n",
       "      <th>23</th>\n",
       "      <td>Los Angeles Chargers</td>\n",
       "      <td>DST</td>\n",
       "      <td>0.0</td>\n",
       "    </tr>\n",
       "    <tr>\n",
       "      <th>24</th>\n",
       "      <td>San Francisco 49ers</td>\n",
       "      <td>DST</td>\n",
       "      <td>-2.0</td>\n",
       "    </tr>\n",
       "    <tr>\n",
       "      <th>25</th>\n",
       "      <td>Los Angeles Rams</td>\n",
       "      <td>DST</td>\n",
       "      <td>-3.0</td>\n",
       "    </tr>\n",
       "  </tbody>\n",
       "</table>\n",
       "<p>329 rows × 3 columns</p>\n",
       "</div>"
      ],
      "text/plain": [
       "                    name  pos  fpts\n",
       "0         Jayden Daniels   QB  32.4\n",
       "1         Tua Tagovailoa   QB  31.5\n",
       "2         Caleb Williams   QB  29.9\n",
       "3        Patrick Mahomes   QB  28.8\n",
       "4            Sam Darnold   QB  24.1\n",
       "..                   ...  ...   ...\n",
       "21       New York Giants  DST   1.0\n",
       "22     Las Vegas Raiders  DST   0.0\n",
       "23  Los Angeles Chargers  DST   0.0\n",
       "24   San Francisco 49ers  DST  -2.0\n",
       "25      Los Angeles Rams  DST  -3.0\n",
       "\n",
       "[329 rows x 3 columns]"
      ]
     },
     "execution_count": 5,
     "metadata": {},
     "output_type": "execute_result"
    }
   ],
   "source": [
    "score_df = get_scores(year, week)\n",
    "score_df"
   ]
  },
  {
   "cell_type": "code",
   "execution_count": 6,
   "metadata": {},
   "outputs": [],
   "source": [
    "# save scoring dataframe\n",
    "score_df.to_csv(f\"{data_dir}/week{week}_scores.csv\", index=False)"
   ]
  },
  {
   "cell_type": "code",
   "execution_count": 7,
   "metadata": {},
   "outputs": [],
   "source": [
    "def score_submission(df, score_df):\n",
    "    df = df.join(score_df[['name', 'fpts']].set_index('name'), on='name')  # join in scores dataframe\n",
    "    df = df.fillna(0)  # fill empties with 0\n",
    "    print(f\"Total Points in Week {week}:\", sum(df['fpts']))\n",
    "    return df"
   ]
  },
  {
   "cell_type": "code",
   "execution_count": 24,
   "metadata": {},
   "outputs": [
    {
     "data": {
      "text/html": [
       "<div>\n",
       "<style scoped>\n",
       "    .dataframe tbody tr th:only-of-type {\n",
       "        vertical-align: middle;\n",
       "    }\n",
       "\n",
       "    .dataframe tbody tr th {\n",
       "        vertical-align: top;\n",
       "    }\n",
       "\n",
       "    .dataframe thead th {\n",
       "        text-align: right;\n",
       "    }\n",
       "</style>\n",
       "<table border=\"1\" class=\"dataframe\">\n",
       "  <thead>\n",
       "    <tr style=\"text-align: right;\">\n",
       "      <th></th>\n",
       "      <th>name</th>\n",
       "      <th>pos</th>\n",
       "      <th>fpts</th>\n",
       "    </tr>\n",
       "  </thead>\n",
       "  <tbody>\n",
       "    <tr>\n",
       "      <th>24</th>\n",
       "      <td>Amon-Ra St. Brown</td>\n",
       "      <td>WR</td>\n",
       "      <td>12.2</td>\n",
       "    </tr>\n",
       "  </tbody>\n",
       "</table>\n",
       "</div>"
      ],
      "text/plain": [
       "                 name pos  fpts\n",
       "24  Amon-Ra St. Brown  WR  12.2"
      ]
     },
     "execution_count": 24,
     "metadata": {},
     "output_type": "execute_result"
    }
   ],
   "source": [
    "score_df[score_df['name'].str.contains(\"Amon\")]"
   ]
  },
  {
   "cell_type": "markdown",
   "metadata": {
    "jp-MarkdownHeadingCollapsed": true
   },
   "source": [
    "# Score mine"
   ]
  },
  {
   "cell_type": "code",
   "execution_count": 8,
   "metadata": {},
   "outputs": [
    {
     "name": "stdout",
     "output_type": "stream",
     "text": [
      "Total Points in Week 12: 103.2\n"
     ]
    }
   ],
   "source": [
    "local_dir = \"2024_weekly_picks/\"\n",
    "fname = f\"Adam_week{week}_picks.csv\"\n",
    "team = pd.read_csv(local_dir+fname)\n",
    "\n",
    "team = score_submission(team, score_df)"
   ]
  },
  {
   "cell_type": "code",
   "execution_count": 9,
   "metadata": {},
   "outputs": [
    {
     "data": {
      "text/html": [
       "<div>\n",
       "<style scoped>\n",
       "    .dataframe tbody tr th:only-of-type {\n",
       "        vertical-align: middle;\n",
       "    }\n",
       "\n",
       "    .dataframe tbody tr th {\n",
       "        vertical-align: top;\n",
       "    }\n",
       "\n",
       "    .dataframe thead th {\n",
       "        text-align: right;\n",
       "    }\n",
       "</style>\n",
       "<table border=\"1\" class=\"dataframe\">\n",
       "  <thead>\n",
       "    <tr style=\"text-align: right;\">\n",
       "      <th></th>\n",
       "      <th>pos</th>\n",
       "      <th>name</th>\n",
       "      <th>salary</th>\n",
       "      <th>fpts</th>\n",
       "    </tr>\n",
       "  </thead>\n",
       "  <tbody>\n",
       "    <tr>\n",
       "      <th>0</th>\n",
       "      <td>QB</td>\n",
       "      <td>Justin Herbert</td>\n",
       "      <td>5400</td>\n",
       "      <td>17.6</td>\n",
       "    </tr>\n",
       "    <tr>\n",
       "      <th>1</th>\n",
       "      <td>TE</td>\n",
       "      <td>Travis Kelce</td>\n",
       "      <td>5800</td>\n",
       "      <td>12.2</td>\n",
       "    </tr>\n",
       "    <tr>\n",
       "      <th>2</th>\n",
       "      <td>TE</td>\n",
       "      <td>Will Dissly</td>\n",
       "      <td>3500</td>\n",
       "      <td>8.7</td>\n",
       "    </tr>\n",
       "    <tr>\n",
       "      <th>3</th>\n",
       "      <td>WR</td>\n",
       "      <td>Jakobi Meyers</td>\n",
       "      <td>5100</td>\n",
       "      <td>25.1</td>\n",
       "    </tr>\n",
       "    <tr>\n",
       "      <th>4</th>\n",
       "      <td>RB</td>\n",
       "      <td>De'Von Achane</td>\n",
       "      <td>7500</td>\n",
       "      <td>20.6</td>\n",
       "    </tr>\n",
       "    <tr>\n",
       "      <th>5</th>\n",
       "      <td>RB</td>\n",
       "      <td>Christian Mccaffrey</td>\n",
       "      <td>8500</td>\n",
       "      <td>0.0</td>\n",
       "    </tr>\n",
       "    <tr>\n",
       "      <th>6</th>\n",
       "      <td>WR</td>\n",
       "      <td>Deandre Hopkins</td>\n",
       "      <td>5400</td>\n",
       "      <td>0.0</td>\n",
       "    </tr>\n",
       "    <tr>\n",
       "      <th>7</th>\n",
       "      <td>DST</td>\n",
       "      <td>Denver Broncos</td>\n",
       "      <td>3200</td>\n",
       "      <td>10.0</td>\n",
       "    </tr>\n",
       "    <tr>\n",
       "      <th>8</th>\n",
       "      <td>WR</td>\n",
       "      <td>Jauan Jennings</td>\n",
       "      <td>5600</td>\n",
       "      <td>9.0</td>\n",
       "    </tr>\n",
       "  </tbody>\n",
       "</table>\n",
       "</div>"
      ],
      "text/plain": [
       "   pos                 name  salary  fpts\n",
       "0   QB       Justin Herbert    5400  17.6\n",
       "1   TE         Travis Kelce    5800  12.2\n",
       "2   TE          Will Dissly    3500   8.7\n",
       "3   WR        Jakobi Meyers    5100  25.1\n",
       "4   RB        De'Von Achane    7500  20.6\n",
       "5   RB  Christian Mccaffrey    8500   0.0\n",
       "6   WR      Deandre Hopkins    5400   0.0\n",
       "7  DST       Denver Broncos    3200  10.0\n",
       "8   WR       Jauan Jennings    5600   9.0"
      ]
     },
     "execution_count": 9,
     "metadata": {},
     "output_type": "execute_result"
    }
   ],
   "source": [
    "team"
   ]
  },
  {
   "cell_type": "markdown",
   "metadata": {
    "jp-MarkdownHeadingCollapsed": true
   },
   "source": [
    "# Score all in dir"
   ]
  },
  {
   "cell_type": "code",
   "execution_count": 17,
   "metadata": {},
   "outputs": [],
   "source": [
    "def standardize_submissions(df):\n",
    "    \"takes in submissions of all different types and standardizes them to be scored automatically\"\n",
    "    df.columns = map(str.lower, df.columns)  # lowercase column names\n",
    "    df = df.head(9)   # only keep player rows - first 9\n",
    "    # rename position to pos if it exists in columns\n",
    "    if 'position' in df.columns: \n",
    "        df = df.rename({'position':'pos'}, axis=1)\n",
    "    df = df.loc[:,~df.columns.duplicated()]   #remove duplicated columns if any\n",
    "    df.loc[df.pos.isin(['D','Def']),'pos'] = 'DST'  # default to using DST as defense\n",
    "    df = df.rename({'player':'name'}, axis=1)  # rename player to name\n",
    "    df['name'] = df['name'].str.strip()   # strip whitespace from name column\n",
    "    # df.loc[df['pos']=='DST', 'name'] = df['name'].apply(lambda x: apply_defense_map(x))  # map defense names\n",
    "    # check if name contains a comma -> convert from last, first to first last in prep for the join\n",
    "    # if ',' in df.loc[df['pos']=='QB', 'name'].item():\n",
    "    #     df = change_last_name_first(df)\n",
    "    return df"
   ]
  },
  {
   "cell_type": "code",
   "execution_count": 18,
   "metadata": {},
   "outputs": [],
   "source": [
    "import os\n",
    "\n",
    "def score_all_in_dir(directory, score_df):\n",
    "    for f in os.listdir(directory):\n",
    "        # if not (f.startswith(\"Sebastian\") or f.startswith(\"Rashod\")):\n",
    "        # if not (f.startswith('SCORED_') or f.startswith('all_players_') or f.startswith('Week6_Totals')) :\n",
    "            \n",
    "        if f.endswith('.csv'):\n",
    "            j = pd.read_csv(directory+f)\n",
    "        elif f.endswith('.xlsx'):\n",
    "            j = pd.read_excel(directory+f)\n",
    "        print(f)\n",
    "        try:\n",
    "            df = standardize_submissions(j)\n",
    "            df = score_submission(df, score_df)\n",
    "            print(df, end='\\n\\n')\n",
    "        except Exception as e:\n",
    "            print(e)\n",
    "            return j"
   ]
  },
  {
   "cell_type": "code",
   "execution_count": 19,
   "metadata": {},
   "outputs": [],
   "source": [
    "pick_dir = f\"Weekly Team Picks/Week {format(week, '02d')}/\""
   ]
  },
  {
   "cell_type": "code",
   "execution_count": 20,
   "metadata": {},
   "outputs": [
    {
     "name": "stdout",
     "output_type": "stream",
     "text": [
      "SpencerR_week12_2024.csv\n",
      "Total Points in Week 12: 105.7\n",
      "      id first_name    last_name              name  \\\n",
      "0  20016      Miami     Dolphins    Miami Dolphins   \n",
      "1  17692     Jayden      Daniels    Jayden Daniels   \n",
      "2  13517     Jakobi       Meyers     Jakobi Meyers   \n",
      "3  17674     Marvin     Harrison   Marvin Harrison   \n",
      "4  16919        Zay      Flowers       Zay Flowers   \n",
      "5  11707        Joe        Mixon         Joe Mixon   \n",
      "6  15907      Brian     Robinson    Brian Robinson   \n",
      "7   8783     Travis        Kelce      Travis Kelce   \n",
      "8  16855       Luke  Schoonmaker  Luke Schoonmaker   \n",
      "\n",
      "                                       url  injury  actions actions_trigger  \\\n",
      "0    /football/player/miami-dolphins-20016     0.0  &#9881;            open   \n",
      "1    /football/player/jayden-daniels-17692     0.0  &#9881;            open   \n",
      "2     /football/player/jakobi-meyers-13517     0.0  &#9881;            open   \n",
      "3   /football/player/marvin-harrison-17674     0.0  &#9881;            open   \n",
      "4       /football/player/zay-flowers-16919     0.0  &#9881;            open   \n",
      "5         /football/player/joe-mixon-11707     0.0  &#9881;            open   \n",
      "6    /football/player/brian-robinson-15907     0.0  &#9881;            open   \n",
      "7       /football/player/travis-kelce-8783     0.0  &#9881;            open   \n",
      "8  /football/player/luke-schoonmaker-16855     0.0  &#9881;            open   \n",
      "\n",
      "   lock exclude  ...  proj_third_party_three proj_custom value dfsopp    pa  \\\n",
      "0   0.0       i  ...                       0           0   2.4    0.0   0.0   \n",
      "1   0.0       i  ...                       0           0   3.0    5.3  28.2   \n",
      "2   0.0       i  ...                       0           0   2.5    1.6   0.1   \n",
      "3   0.0       i  ...                       0           0   2.1    1.2   0.0   \n",
      "4   0.0       i  ...                       0           0   2.1    1.1   0.0   \n",
      "5   0.0       i  ...                       0           0   2.2    2.8   0.0   \n",
      "6   0.0       i  ...                       0           0   2.3    3.1   0.0   \n",
      "7   0.0       i  ...                       0           0   2.9    1.5   0.0   \n",
      "8   0.0       i  ...                       0           0   3.3    2.2   0.0   \n",
      "\n",
      "     ra  targets  touches  week  fpts  \n",
      "0   0.0      0.0      0.0    12  12.0  \n",
      "1   9.1      0.0      9.1    12  32.4  \n",
      "2   0.4      7.9      8.3    12  25.1  \n",
      "3   0.1      7.1      7.2    12   0.0  \n",
      "4   0.5      7.1      7.6    12   0.0  \n",
      "5  18.7      3.5     22.2    12   9.5  \n",
      "6  14.8      2.5     17.3    12   0.0  \n",
      "7   0.1      8.5      8.6    12  12.2  \n",
      "8   0.0      5.5      5.5    12  14.5  \n",
      "\n",
      "[9 rows x 43 columns]\n",
      "\n",
      "ashley_mendoza_week12_picks.csv\n",
      "Total Points in Week 12: 110.5\n",
      "                 name  pos  salary  fpts\n",
      "0     Aidan O'Connell   QB    4000   0.0\n",
      "1           Joe Mixon   RB    8000   9.5\n",
      "2      Saquon Barkley   RB    8200  49.2\n",
      "3          Puka Nacua   WR    7100  23.7\n",
      "4   Anon-Ra St. Brown   WR    8300   0.0\n",
      "5       Jakobi Meyers   WR    5100  25.1\n",
      "6      Andrew DePaola   TE    2500   0.0\n",
      "7            Ben Sims   TE    2500   0.0\n",
      "8  Indianapolis Colts  DST    2300   3.0\n",
      "\n",
      "samet_arda_week12_picks.csv\n",
      "Total Points in Week 12: 126.4\n",
      "                  name      pos  fd salary  fpts\n",
      "0       Justin Herbert       QB       5400   0.0\n",
      "1        De'Von Achane       RB       7500  20.6\n",
      "2  Christian McCaffrey       RB       8500   8.8\n",
      "3        Jakobi Meyers       WR       5100  25.1\n",
      "4      DeAndre Hopkins       WR       5400  14.5\n",
      "5           Puka Nacua       WR       7100  23.7\n",
      "6         Travis Kelce       TE       5800  12.2\n",
      "7     Luke Schoonmaker  FLEX/TE       2500  14.5\n",
      "8     Cleveland Browns      DST       2600   7.0\n",
      "\n",
      "Richard_Latham_week12_picks.csv\n",
      "Total Points in Week 12: 108.6\n",
      "             name  pos  fd salary  fpts\n",
      "0  Baker Mayfield   QB       6100  19.7\n",
      "1     Cooper Kupp   WR       7500  20.0\n",
      "2    Nico Collins   WR       7600  20.2\n",
      "3  Jauan Jennings   WR       5600   9.0\n",
      "4   Derrick Henry   RB       7800   0.0\n",
      "5   Rachaad White   RB       5400  11.7\n",
      "6    Tucker Kraft   TE       3900  10.6\n",
      "7       Cole Kmet   TE       3600  13.4\n",
      "8   Chicago Bears  DST       2500   4.0\n",
      "\n",
      "Adam_week12_picks.csv\n",
      "Total Points in Week 12: 76.9\n",
      "   pos                 name  salary  fpts\n",
      "0   QB       Justin Herbert    5400   0.0\n",
      "1   TE         Travis Kelce    5800  12.2\n",
      "2   TE          Will Dissly    3500   0.0\n",
      "3   WR        Jakobi Meyers    5100  25.1\n",
      "4   RB        De'Von Achane    7500  20.6\n",
      "5   RB  Christian Mccaffrey    8500   0.0\n",
      "6   WR      Deandre Hopkins    5400   0.0\n",
      "7  DST       Denver Broncos    3200  10.0\n",
      "8   WR       Jauan Jennings    5600   9.0\n",
      "\n",
      "antonio_trani_week12_picks.csv\n",
      "Total Points in Week 12: 88.9\n",
      "                  name  pos  salary  fpts\n",
      "0       Brian Robinson   RB  5600.0   0.0\n",
      "1       Kayshon Boutte   WR  3500.0   1.6\n",
      "2  Christian McCaffrey   RB  8500.0   8.8\n",
      "3        De'Von Achane   RB  7500.0  20.6\n",
      "4        Jakobi Meyers   WR  5100.0  25.1\n",
      "5      DeMario Douglas   WR  4500.0  11.3\n",
      "6     Cleveland Browns  DST  2600.0   7.0\n",
      "7     Luke Schoonmaker   TE  2500.0  14.5\n",
      "8        Lamar Jackson   QB  8000.0   0.0\n",
      "\n",
      "riley_froehlich_week12_picks.csv\n",
      "Total Points in Week 12: 8.0\n",
      "                  name   pos  fd salary  fpts\n",
      "0      McLaurin, Terry    WR       6800   0.0\n",
      "1        Conner, James    RB       6500   0.0\n",
      "2       Henry, Derrick    RB       7800   0.0\n",
      "3        Godwin, Chris    WR       3000   0.0\n",
      "4      Bateman, Rashod    WR       4300   0.0\n",
      "5       Jackson, Lamar    QB       8000   0.0\n",
      "6        Andrews, Mark    TE       4100   0.0\n",
      "7  Philadelphia Eagles   DST       2900   8.0\n",
      "8       Hubbard, Chuba  FLEX       6600   0.0\n",
      "\n",
      "Rashod_week_12.xlsx\n",
      "Total Points in Week 12: 117.1\n",
      "                  name  pos  salary  fpts\n",
      "0       Jayden Daniels   QB    7000  32.4\n",
      "1            Joe Mixon   RB    8000   9.5\n",
      "2        De'Von Achane   RB    7500  20.6\n",
      "3        Ladd McConkey   WR    6000   0.0\n",
      "4       Kayshon Boutte   WR    3500   1.6\n",
      "5        Jaylen Waddle   WR    5300  31.4\n",
      "6         Travis Kelce   TE    5800  12.2\n",
      "7  Lil'Jordan Humphrey   WR    3400   2.4\n",
      "8  Pittsburgh Steelers  DST    3500   7.0\n",
      "\n",
      "Erik_Euler_week12_picks.csv\n",
      "Total Points in Week 12: 98.10000000000001\n",
      "               name   pos  salary  fpts\n",
      "0      Bucky Irving    RB  5300.0  27.1\n",
      "1  Javonte Williams    RB  5200.0   2.4\n",
      "2     Jakobi Meyers    WR  5100.0  25.1\n",
      "3    Terry McLaurin    WR  6800.0  24.2\n",
      "4      Deebo Samuel    WR  6500.0   0.0\n",
      "5    Justin Herbert    QB  5400.0   0.0\n",
      "6         Zach Ertz    TE  3800.0  15.8\n",
      "7       Chiefs D/ST   DST  3900.0   0.0\n",
      "8   Jonathan Taylor  FLEX  7100.0   3.5\n",
      "\n"
     ]
    }
   ],
   "source": [
    "score_all_in_dir(primary_dir+pick_dir, score_df)"
   ]
  },
  {
   "cell_type": "markdown",
   "metadata": {},
   "source": [
    "# Scoring Analytics"
   ]
  },
  {
   "cell_type": "code",
   "execution_count": 66,
   "metadata": {},
   "outputs": [],
   "source": [
    "def final_scored_df(pred_df, score_df):\n",
    "    # standardize names\n",
    "    score_df = standardize_names(score_df)\n",
    "    pred_df = standardize_names(pred_df)\n",
    "    # add join key\n",
    "    score_df['id'] = score_df['name'].str.lower()\n",
    "    pred_df['id'] = pred_df['name'].str.lower()\n",
    "    # inner join\n",
    "    df = pd.merge(pred_df, score_df[['id','fpts']], on='id', how='inner', indicator=True)\n",
    "    # filter out players with 0 fantasy points\n",
    "    df = df[df['fpts']>0]\n",
    "    return df"
   ]
  },
  {
   "cell_type": "code",
   "execution_count": null,
   "metadata": {},
   "outputs": [],
   "source": [
    "# # check mismatches\n",
    "# outer_df = pd.merge(pred_df, score_df[['id','fpts']], on='id', how='outer', indicator=True)\n",
    "# mismatches = outer_df[outer_df['_merge'] != 'both']\n",
    "# mismatches"
   ]
  },
  {
   "cell_type": "code",
   "execution_count": 70,
   "metadata": {},
   "outputs": [],
   "source": [
    "def rmse(df, pred, true='fpts'):\n",
    "    squared_error = (df[true] - df[pred]) ** 2\n",
    "    return float(np.sqrt(squared_error.mean()))"
   ]
  },
  {
   "cell_type": "code",
   "execution_count": 56,
   "metadata": {
    "ExecuteTime": {
     "end_time": "2022-04-20T17:01:01.370737Z",
     "start_time": "2022-04-20T17:01:01.343783Z"
    },
    "scrolled": true
   },
   "outputs": [],
   "source": [
    "def pick_team(pred_df, pts_col):\n",
    "    pred_df[pts_col] = pred_df[pts_col].fillna(0.0)\n",
    "    model = PulpSelection(pred_df, pts_col=pts_col)\n",
    "    team = model.selection\n",
    "    team = team[['name','pos','salary',pts_col,'fpts']]\n",
    "    print(\"Total predicted points: {}   Total actual points: {}   Total Salary: {}\\n\".format(sum(team[pts_col]), sum(team['fpts']), sum(team['salary'])))\n",
    "    print(team)\n",
    "    return team"
   ]
  },
  {
   "cell_type": "markdown",
   "metadata": {},
   "source": [
    "### Week 8"
   ]
  },
  {
   "cell_type": "code",
   "execution_count": 143,
   "metadata": {},
   "outputs": [],
   "source": [
    "week = 8"
   ]
  },
  {
   "cell_type": "code",
   "execution_count": 144,
   "metadata": {},
   "outputs": [],
   "source": [
    "pred_df = pd.read_csv(f\"{data_dir}/week{week}_predictions.csv\")\n",
    "score_df = pd.read_csv(f\"{data_dir}/week{week}_scores.csv\")"
   ]
  },
  {
   "cell_type": "code",
   "execution_count": 145,
   "metadata": {},
   "outputs": [
    {
     "name": "stdout",
     "output_type": "stream",
     "text": [
      "fixed Chig Okonkwo\n"
     ]
    },
    {
     "data": {
      "text/html": [
       "<div>\n",
       "<style scoped>\n",
       "    .dataframe tbody tr th:only-of-type {\n",
       "        vertical-align: middle;\n",
       "    }\n",
       "\n",
       "    .dataframe tbody tr th {\n",
       "        vertical-align: top;\n",
       "    }\n",
       "\n",
       "    .dataframe thead th {\n",
       "        text-align: right;\n",
       "    }\n",
       "</style>\n",
       "<table border=\"1\" class=\"dataframe\">\n",
       "  <thead>\n",
       "    <tr style=\"text-align: right;\">\n",
       "      <th></th>\n",
       "      <th>name</th>\n",
       "      <th>pos</th>\n",
       "      <th>salary</th>\n",
       "      <th>prediction</th>\n",
       "      <th>prediction_1</th>\n",
       "      <th>prediction_2</th>\n",
       "      <th>mean_pred</th>\n",
       "      <th>pred_count</th>\n",
       "      <th>id</th>\n",
       "      <th>fpts</th>\n",
       "      <th>_merge</th>\n",
       "    </tr>\n",
       "  </thead>\n",
       "  <tbody>\n",
       "    <tr>\n",
       "      <th>0</th>\n",
       "      <td>Justin Herbert</td>\n",
       "      <td>QB</td>\n",
       "      <td>5400</td>\n",
       "      <td>16.11</td>\n",
       "      <td>16.2</td>\n",
       "      <td>15.3</td>\n",
       "      <td>15.870000</td>\n",
       "      <td>3</td>\n",
       "      <td>justin herbert</td>\n",
       "      <td>24.1</td>\n",
       "      <td>both</td>\n",
       "    </tr>\n",
       "    <tr>\n",
       "      <th>1</th>\n",
       "      <td>Bo Nix</td>\n",
       "      <td>QB</td>\n",
       "      <td>5600</td>\n",
       "      <td>16.79</td>\n",
       "      <td>19.3</td>\n",
       "      <td>16.8</td>\n",
       "      <td>17.630000</td>\n",
       "      <td>3</td>\n",
       "      <td>bo nix</td>\n",
       "      <td>29.8</td>\n",
       "      <td>both</td>\n",
       "    </tr>\n",
       "    <tr>\n",
       "      <th>2</th>\n",
       "      <td>Matthew Stafford</td>\n",
       "      <td>QB</td>\n",
       "      <td>5500</td>\n",
       "      <td>15.74</td>\n",
       "      <td>15.7</td>\n",
       "      <td>13.2</td>\n",
       "      <td>14.880000</td>\n",
       "      <td>3</td>\n",
       "      <td>matthew stafford</td>\n",
       "      <td>25.8</td>\n",
       "      <td>both</td>\n",
       "    </tr>\n",
       "    <tr>\n",
       "      <th>3</th>\n",
       "      <td>Jalen Mcmillan</td>\n",
       "      <td>WR</td>\n",
       "      <td>3700</td>\n",
       "      <td>10.72</td>\n",
       "      <td>10.4</td>\n",
       "      <td>14.1</td>\n",
       "      <td>11.740000</td>\n",
       "      <td>3</td>\n",
       "      <td>jalen mcmillan</td>\n",
       "      <td>9.2</td>\n",
       "      <td>both</td>\n",
       "    </tr>\n",
       "    <tr>\n",
       "      <th>4</th>\n",
       "      <td>Brock Purdy</td>\n",
       "      <td>QB</td>\n",
       "      <td>6300</td>\n",
       "      <td>18.21</td>\n",
       "      <td>18.7</td>\n",
       "      <td>19.0</td>\n",
       "      <td>18.636667</td>\n",
       "      <td>3</td>\n",
       "      <td>brock purdy</td>\n",
       "      <td>26.0</td>\n",
       "      <td>both</td>\n",
       "    </tr>\n",
       "    <tr>\n",
       "      <th>...</th>\n",
       "      <td>...</td>\n",
       "      <td>...</td>\n",
       "      <td>...</td>\n",
       "      <td>...</td>\n",
       "      <td>...</td>\n",
       "      <td>...</td>\n",
       "      <td>...</td>\n",
       "      <td>...</td>\n",
       "      <td>...</td>\n",
       "      <td>...</td>\n",
       "      <td>...</td>\n",
       "    </tr>\n",
       "    <tr>\n",
       "      <th>273</th>\n",
       "      <td>Isaac Guerendo</td>\n",
       "      <td>RB</td>\n",
       "      <td>6100</td>\n",
       "      <td>1.17</td>\n",
       "      <td>2.0</td>\n",
       "      <td>5.0</td>\n",
       "      <td>2.723333</td>\n",
       "      <td>3</td>\n",
       "      <td>isaac guerendo</td>\n",
       "      <td>19.2</td>\n",
       "      <td>both</td>\n",
       "    </tr>\n",
       "    <tr>\n",
       "      <th>274</th>\n",
       "      <td>Patrick Taylor</td>\n",
       "      <td>RB</td>\n",
       "      <td>4600</td>\n",
       "      <td>0.33</td>\n",
       "      <td>0.3</td>\n",
       "      <td>2.6</td>\n",
       "      <td>1.076667</td>\n",
       "      <td>3</td>\n",
       "      <td>patrick taylor</td>\n",
       "      <td>0.9</td>\n",
       "      <td>both</td>\n",
       "    </tr>\n",
       "    <tr>\n",
       "      <th>276</th>\n",
       "      <td>Hunter Long</td>\n",
       "      <td>TE</td>\n",
       "      <td>2500</td>\n",
       "      <td>0.36</td>\n",
       "      <td>0.6</td>\n",
       "      <td>1.8</td>\n",
       "      <td>0.920000</td>\n",
       "      <td>3</td>\n",
       "      <td>hunter long</td>\n",
       "      <td>2.8</td>\n",
       "      <td>both</td>\n",
       "    </tr>\n",
       "    <tr>\n",
       "      <th>279</th>\n",
       "      <td>Tim Jones</td>\n",
       "      <td>WR</td>\n",
       "      <td>3000</td>\n",
       "      <td>0.40</td>\n",
       "      <td>0.3</td>\n",
       "      <td>1.4</td>\n",
       "      <td>0.700000</td>\n",
       "      <td>3</td>\n",
       "      <td>tim jones</td>\n",
       "      <td>3.0</td>\n",
       "      <td>both</td>\n",
       "    </tr>\n",
       "    <tr>\n",
       "      <th>280</th>\n",
       "      <td>Jermaine Burton</td>\n",
       "      <td>WR</td>\n",
       "      <td>3000</td>\n",
       "      <td>0.35</td>\n",
       "      <td>0.4</td>\n",
       "      <td>4.8</td>\n",
       "      <td>1.850000</td>\n",
       "      <td>3</td>\n",
       "      <td>jermaine burton</td>\n",
       "      <td>5.1</td>\n",
       "      <td>both</td>\n",
       "    </tr>\n",
       "  </tbody>\n",
       "</table>\n",
       "<p>249 rows × 11 columns</p>\n",
       "</div>"
      ],
      "text/plain": [
       "                 name pos  salary  prediction  prediction_1  prediction_2  \\\n",
       "0      Justin Herbert  QB    5400       16.11          16.2          15.3   \n",
       "1              Bo Nix  QB    5600       16.79          19.3          16.8   \n",
       "2    Matthew Stafford  QB    5500       15.74          15.7          13.2   \n",
       "3      Jalen Mcmillan  WR    3700       10.72          10.4          14.1   \n",
       "4         Brock Purdy  QB    6300       18.21          18.7          19.0   \n",
       "..                ...  ..     ...         ...           ...           ...   \n",
       "273    Isaac Guerendo  RB    6100        1.17           2.0           5.0   \n",
       "274    Patrick Taylor  RB    4600        0.33           0.3           2.6   \n",
       "276       Hunter Long  TE    2500        0.36           0.6           1.8   \n",
       "279         Tim Jones  WR    3000        0.40           0.3           1.4   \n",
       "280   Jermaine Burton  WR    3000        0.35           0.4           4.8   \n",
       "\n",
       "     mean_pred  pred_count                id  fpts _merge  \n",
       "0    15.870000           3    justin herbert  24.1   both  \n",
       "1    17.630000           3            bo nix  29.8   both  \n",
       "2    14.880000           3  matthew stafford  25.8   both  \n",
       "3    11.740000           3    jalen mcmillan   9.2   both  \n",
       "4    18.636667           3       brock purdy  26.0   both  \n",
       "..         ...         ...               ...   ...    ...  \n",
       "273   2.723333           3    isaac guerendo  19.2   both  \n",
       "274   1.076667           3    patrick taylor   0.9   both  \n",
       "276   0.920000           3       hunter long   2.8   both  \n",
       "279   0.700000           3         tim jones   3.0   both  \n",
       "280   1.850000           3   jermaine burton   5.1   both  \n",
       "\n",
       "[249 rows x 11 columns]"
      ]
     },
     "execution_count": 145,
     "metadata": {},
     "output_type": "execute_result"
    }
   ],
   "source": [
    "df = final_scored_df(pred_df, score_df)\n",
    "df"
   ]
  },
  {
   "cell_type": "markdown",
   "metadata": {},
   "source": [
    "#### Pick scores"
   ]
  },
  {
   "cell_type": "code",
   "execution_count": 53,
   "metadata": {},
   "outputs": [],
   "source": [
    "week8 = {'mean_pred': 148.2, 'prediction': 170.0, 'prediction_1': 123.3, 'prediction_2': 85.8}"
   ]
  },
  {
   "cell_type": "code",
   "execution_count": 146,
   "metadata": {},
   "outputs": [
    {
     "name": "stdout",
     "output_type": "stream",
     "text": [
      "1\n",
      "Total predicted points: 132.57   Total actual points: 148.2   Total Salary: 50000\n",
      "\n",
      "                name  pos  salary  mean_pred  fpts\n",
      "1             Bo Nix   QB    5600  17.630000  29.8\n",
      "3     Jalen Mcmillan   WR    3700  11.740000   9.2\n",
      "7         Cade Otton   TE    3500   9.930000  29.1\n",
      "18       Tyreek Hill   WR    7000  18.176667  13.2\n",
      "27       Breece Hall   RB    7300  19.596667   9.9\n",
      "33     De'Von Achane   RB    6200  15.223333  26.7\n",
      "57    Denver Broncos  DST    3700  10.330000   7.0\n",
      "70      Malik Nabers   WR    7000  15.736667  14.1\n",
      "87  Javonte Williams   RB    6000  14.206667   9.2\n"
     ]
    }
   ],
   "source": [
    "team = pick_team(df, 'mean_pred')"
   ]
  },
  {
   "cell_type": "code",
   "execution_count": 147,
   "metadata": {},
   "outputs": [
    {
     "name": "stdout",
     "output_type": "stream",
     "text": [
      "1\n",
      "Total predicted points: 128.98   Total actual points: 170.0   Total Salary: 49900\n",
      "\n",
      "                    name  pos  salary  prediction  fpts\n",
      "3         Jalen Mcmillan   WR    3700       10.72   9.2\n",
      "5           Kyler Murray   QB    6400       18.66  25.2\n",
      "7             Cade Otton   TE    3500        9.99  29.1\n",
      "18           Tyreek Hill   WR    7000       19.13  13.2\n",
      "24  Los Angeles Chargers  DST    3300        8.23  12.0\n",
      "27           Breece Hall   RB    7300       18.49   9.9\n",
      "33         De'Von Achane   RB    6200       14.87  26.7\n",
      "40      Courtland Sutton   WR    5300       12.12  21.1\n",
      "43        Bijan Robinson   RB    7200       16.77  23.6\n"
     ]
    }
   ],
   "source": [
    "team = pick_team(df, 'prediction')"
   ]
  },
  {
   "cell_type": "code",
   "execution_count": 148,
   "metadata": {},
   "outputs": [
    {
     "name": "stdout",
     "output_type": "stream",
     "text": [
      "1\n",
      "Total predicted points: 141.1   Total actual points: 123.3   Total Salary: 50000\n",
      "\n",
      "                 name  pos  salary  prediction_1  fpts\n",
      "1              Bo Nix   QB    5600          19.3  29.8\n",
      "3      Jalen Mcmillan   WR    3700          10.4   9.2\n",
      "18        Tyreek Hill   WR    7000          18.7  13.2\n",
      "27        Breece Hall   RB    7300          21.5   9.9\n",
      "39       Travis Kelce   TE    6000          14.5  25.0\n",
      "45   Baltimore Ravens  DST    3400           8.6   3.0\n",
      "46        Aaron Jones   RB    6600          18.5  11.5\n",
      "102       Trey Palmer   WR    3500          10.4   4.9\n",
      "130      J.K. Dobbins   RB    6900          19.2  16.8\n"
     ]
    }
   ],
   "source": [
    "team = pick_team(df, 'prediction_1')"
   ]
  },
  {
   "cell_type": "code",
   "execution_count": 149,
   "metadata": {},
   "outputs": [
    {
     "name": "stdout",
     "output_type": "stream",
     "text": [
      "1\n",
      "Total predicted points: 140.9   Total actual points: 85.8   Total Salary: 50000\n",
      "\n",
      "               name  pos  salary  prediction_2  fpts\n",
      "3    Jalen Mcmillan   WR    3700          14.1   9.2\n",
      "17      Jordan Love   QB    7100          22.5   6.7\n",
      "18      Tyreek Hill   WR    7000          16.7  13.2\n",
      "27      Breece Hall   RB    7300          18.8   9.9\n",
      "57   Denver Broncos  DST    3700          14.2   7.0\n",
      "89        Cole Kmet   TE    4700          12.0   4.4\n",
      "113    James Conner   RB    6500          17.4  14.9\n",
      "132  Rashod Bateman   WR    4300          10.8   3.8\n",
      "133   Rachaad White   RB    5700          14.4  16.7\n"
     ]
    }
   ],
   "source": [
    "team = pick_team(df, 'prediction_2')"
   ]
  },
  {
   "cell_type": "markdown",
   "metadata": {},
   "source": [
    "#### RMSE"
   ]
  },
  {
   "cell_type": "code",
   "execution_count": 118,
   "metadata": {},
   "outputs": [
    {
     "data": {
      "text/plain": [
       "6.408603881010567"
      ]
     },
     "execution_count": 118,
     "metadata": {},
     "output_type": "execute_result"
    }
   ],
   "source": [
    "rmse(df, 'mean_pred', 'fpts')"
   ]
  },
  {
   "cell_type": "code",
   "execution_count": 119,
   "metadata": {},
   "outputs": [
    {
     "data": {
      "text/plain": [
       "6.4828071972430665"
      ]
     },
     "execution_count": 119,
     "metadata": {},
     "output_type": "execute_result"
    }
   ],
   "source": [
    "rmse(df, 'prediction', 'fpts')"
   ]
  },
  {
   "cell_type": "code",
   "execution_count": 120,
   "metadata": {},
   "outputs": [
    {
     "data": {
      "text/plain": [
       "6.403842345588202"
      ]
     },
     "execution_count": 120,
     "metadata": {},
     "output_type": "execute_result"
    }
   ],
   "source": [
    "rmse(df, 'prediction_1', 'fpts')"
   ]
  },
  {
   "cell_type": "code",
   "execution_count": 121,
   "metadata": {},
   "outputs": [
    {
     "data": {
      "text/plain": [
       "6.593129562637069"
      ]
     },
     "execution_count": 121,
     "metadata": {},
     "output_type": "execute_result"
    }
   ],
   "source": [
    "rmse(df, 'prediction_2', 'fpts')"
   ]
  },
  {
   "cell_type": "markdown",
   "metadata": {},
   "source": [
    "### Week 9"
   ]
  },
  {
   "cell_type": "code",
   "execution_count": 122,
   "metadata": {},
   "outputs": [],
   "source": [
    "week = 9"
   ]
  },
  {
   "cell_type": "code",
   "execution_count": 123,
   "metadata": {},
   "outputs": [],
   "source": [
    "pred_df = pd.read_csv(f\"{data_dir}/week{week}_predictions.csv\")\n",
    "score_df = pd.read_csv(f\"{data_dir}/week{week}_scores.csv\")"
   ]
  },
  {
   "cell_type": "code",
   "execution_count": 124,
   "metadata": {},
   "outputs": [
    {
     "name": "stdout",
     "output_type": "stream",
     "text": [
      "fixed Chig Okonkwo\n"
     ]
    },
    {
     "data": {
      "text/html": [
       "<div>\n",
       "<style scoped>\n",
       "    .dataframe tbody tr th:only-of-type {\n",
       "        vertical-align: middle;\n",
       "    }\n",
       "\n",
       "    .dataframe tbody tr th {\n",
       "        vertical-align: top;\n",
       "    }\n",
       "\n",
       "    .dataframe thead th {\n",
       "        text-align: right;\n",
       "    }\n",
       "</style>\n",
       "<table border=\"1\" class=\"dataframe\">\n",
       "  <thead>\n",
       "    <tr style=\"text-align: right;\">\n",
       "      <th></th>\n",
       "      <th>name</th>\n",
       "      <th>pos</th>\n",
       "      <th>salary</th>\n",
       "      <th>prediction</th>\n",
       "      <th>prediction_1</th>\n",
       "      <th>prediction_2</th>\n",
       "      <th>mean_pred</th>\n",
       "      <th>pred_count</th>\n",
       "      <th>id</th>\n",
       "      <th>fpts</th>\n",
       "      <th>_merge</th>\n",
       "    </tr>\n",
       "  </thead>\n",
       "  <tbody>\n",
       "    <tr>\n",
       "      <th>0</th>\n",
       "      <td>Josh Allen</td>\n",
       "      <td>QB</td>\n",
       "      <td>7700</td>\n",
       "      <td>23.59</td>\n",
       "      <td>22.6</td>\n",
       "      <td>18.8</td>\n",
       "      <td>21.663333</td>\n",
       "      <td>3</td>\n",
       "      <td>josh allen</td>\n",
       "      <td>23.1</td>\n",
       "      <td>both</td>\n",
       "    </tr>\n",
       "    <tr>\n",
       "      <th>1</th>\n",
       "      <td>Daniel Jones</td>\n",
       "      <td>QB</td>\n",
       "      <td>5200</td>\n",
       "      <td>16.05</td>\n",
       "      <td>17.6</td>\n",
       "      <td>12.6</td>\n",
       "      <td>15.416667</td>\n",
       "      <td>3</td>\n",
       "      <td>daniel jones</td>\n",
       "      <td>25.4</td>\n",
       "      <td>both</td>\n",
       "    </tr>\n",
       "    <tr>\n",
       "      <th>2</th>\n",
       "      <td>Gardner Minshew</td>\n",
       "      <td>QB</td>\n",
       "      <td>4500</td>\n",
       "      <td>13.67</td>\n",
       "      <td>14.2</td>\n",
       "      <td>12.0</td>\n",
       "      <td>13.290000</td>\n",
       "      <td>3</td>\n",
       "      <td>gardner minshew</td>\n",
       "      <td>4.0</td>\n",
       "      <td>both</td>\n",
       "    </tr>\n",
       "    <tr>\n",
       "      <th>3</th>\n",
       "      <td>Sam Darnold</td>\n",
       "      <td>QB</td>\n",
       "      <td>6000</td>\n",
       "      <td>18.23</td>\n",
       "      <td>19.6</td>\n",
       "      <td>14.4</td>\n",
       "      <td>17.410000</td>\n",
       "      <td>3</td>\n",
       "      <td>sam darnold</td>\n",
       "      <td>22.0</td>\n",
       "      <td>both</td>\n",
       "    </tr>\n",
       "    <tr>\n",
       "      <th>4</th>\n",
       "      <td>Matthew Stafford</td>\n",
       "      <td>QB</td>\n",
       "      <td>5700</td>\n",
       "      <td>17.23</td>\n",
       "      <td>17.1</td>\n",
       "      <td>14.8</td>\n",
       "      <td>16.376667</td>\n",
       "      <td>3</td>\n",
       "      <td>matthew stafford</td>\n",
       "      <td>18.9</td>\n",
       "      <td>both</td>\n",
       "    </tr>\n",
       "    <tr>\n",
       "      <th>...</th>\n",
       "      <td>...</td>\n",
       "      <td>...</td>\n",
       "      <td>...</td>\n",
       "      <td>...</td>\n",
       "      <td>...</td>\n",
       "      <td>...</td>\n",
       "      <td>...</td>\n",
       "      <td>...</td>\n",
       "      <td>...</td>\n",
       "      <td>...</td>\n",
       "      <td>...</td>\n",
       "    </tr>\n",
       "    <tr>\n",
       "      <th>258</th>\n",
       "      <td>Deejay Dallas</td>\n",
       "      <td>RB</td>\n",
       "      <td>4000</td>\n",
       "      <td>0.74</td>\n",
       "      <td>0.5</td>\n",
       "      <td>0.1</td>\n",
       "      <td>0.446667</td>\n",
       "      <td>3</td>\n",
       "      <td>deejay dallas</td>\n",
       "      <td>0.2</td>\n",
       "      <td>both</td>\n",
       "    </tr>\n",
       "    <tr>\n",
       "      <th>259</th>\n",
       "      <td>Jaheim Bell</td>\n",
       "      <td>TE</td>\n",
       "      <td>2500</td>\n",
       "      <td>0.61</td>\n",
       "      <td>0.4</td>\n",
       "      <td>0.7</td>\n",
       "      <td>0.570000</td>\n",
       "      <td>3</td>\n",
       "      <td>jaheim bell</td>\n",
       "      <td>1.1</td>\n",
       "      <td>both</td>\n",
       "    </tr>\n",
       "    <tr>\n",
       "      <th>261</th>\n",
       "      <td>Ryan Flournoy</td>\n",
       "      <td>WR</td>\n",
       "      <td>3000</td>\n",
       "      <td>0.34</td>\n",
       "      <td>0.4</td>\n",
       "      <td>1.8</td>\n",
       "      <td>0.846667</td>\n",
       "      <td>3</td>\n",
       "      <td>ryan flournoy</td>\n",
       "      <td>2.3</td>\n",
       "      <td>both</td>\n",
       "    </tr>\n",
       "    <tr>\n",
       "      <th>263</th>\n",
       "      <td>Jamycal Hasty</td>\n",
       "      <td>RB</td>\n",
       "      <td>4000</td>\n",
       "      <td>0.46</td>\n",
       "      <td>1.4</td>\n",
       "      <td>2.7</td>\n",
       "      <td>1.520000</td>\n",
       "      <td>3</td>\n",
       "      <td>jamycal hasty</td>\n",
       "      <td>0.7</td>\n",
       "      <td>both</td>\n",
       "    </tr>\n",
       "    <tr>\n",
       "      <th>270</th>\n",
       "      <td>Julius Chestnut</td>\n",
       "      <td>RB</td>\n",
       "      <td>4000</td>\n",
       "      <td>0.24</td>\n",
       "      <td>3.9</td>\n",
       "      <td>5.9</td>\n",
       "      <td>3.346667</td>\n",
       "      <td>3</td>\n",
       "      <td>julius chestnut</td>\n",
       "      <td>2.2</td>\n",
       "      <td>both</td>\n",
       "    </tr>\n",
       "  </tbody>\n",
       "</table>\n",
       "<p>235 rows × 11 columns</p>\n",
       "</div>"
      ],
      "text/plain": [
       "                 name pos  salary  prediction  prediction_1  prediction_2  \\\n",
       "0          Josh Allen  QB    7700       23.59          22.6          18.8   \n",
       "1        Daniel Jones  QB    5200       16.05          17.6          12.6   \n",
       "2     Gardner Minshew  QB    4500       13.67          14.2          12.0   \n",
       "3         Sam Darnold  QB    6000       18.23          19.6          14.4   \n",
       "4    Matthew Stafford  QB    5700       17.23          17.1          14.8   \n",
       "..                ...  ..     ...         ...           ...           ...   \n",
       "258     Deejay Dallas  RB    4000        0.74           0.5           0.1   \n",
       "259       Jaheim Bell  TE    2500        0.61           0.4           0.7   \n",
       "261     Ryan Flournoy  WR    3000        0.34           0.4           1.8   \n",
       "263     Jamycal Hasty  RB    4000        0.46           1.4           2.7   \n",
       "270   Julius Chestnut  RB    4000        0.24           3.9           5.9   \n",
       "\n",
       "     mean_pred  pred_count                id  fpts _merge  \n",
       "0    21.663333           3        josh allen  23.1   both  \n",
       "1    15.416667           3      daniel jones  25.4   both  \n",
       "2    13.290000           3   gardner minshew   4.0   both  \n",
       "3    17.410000           3       sam darnold  22.0   both  \n",
       "4    16.376667           3  matthew stafford  18.9   both  \n",
       "..         ...         ...               ...   ...    ...  \n",
       "258   0.446667           3     deejay dallas   0.2   both  \n",
       "259   0.570000           3       jaheim bell   1.1   both  \n",
       "261   0.846667           3     ryan flournoy   2.3   both  \n",
       "263   1.520000           3     jamycal hasty   0.7   both  \n",
       "270   3.346667           3   julius chestnut   2.2   both  \n",
       "\n",
       "[235 rows x 11 columns]"
      ]
     },
     "execution_count": 124,
     "metadata": {},
     "output_type": "execute_result"
    }
   ],
   "source": [
    "df = final_scored_df(pred_df, score_df)\n",
    "df"
   ]
  },
  {
   "cell_type": "markdown",
   "metadata": {},
   "source": [
    "#### Pick scores"
   ]
  },
  {
   "cell_type": "code",
   "execution_count": 56,
   "metadata": {},
   "outputs": [],
   "source": [
    "week9 = {'mean_pred': 164.0, 'prediction': 119.2, 'prediction_1': 139.5, 'prediction_2': 190.1}"
   ]
  },
  {
   "cell_type": "code",
   "execution_count": 139,
   "metadata": {},
   "outputs": [
    {
     "name": "stdout",
     "output_type": "stream",
     "text": [
      "1\n",
      "Total predicted points: 125.91333333333334   Total actual points: 164.0   Total Salary: 49900\n",
      "\n",
      "                name  pos  salary  mean_pred  fpts\n",
      "11     New York Jets  DST    2400   6.876667  14.0\n",
      "13       Jalen Hurts   QB    7800  22.976667  29.9\n",
      "17       Chris Olave   WR    6100  15.023333   2.3\n",
      "29    Bijan Robinson   RB    7400  18.536667  21.5\n",
      "39       David Moore   WR    3000   7.010000   4.0\n",
      "40       Aaron Jones   RB    6600  16.206667  12.2\n",
      "41     De'Von Achane   RB    6700  16.226667  32.1\n",
      "47  Courtland Sutton   WR    5400  12.336667  26.3\n",
      "70        Cade Otton   TE    4500  10.720000  21.7\n"
     ]
    }
   ],
   "source": [
    "team = pick_team(df, 'mean_pred')"
   ]
  },
  {
   "cell_type": "code",
   "execution_count": 140,
   "metadata": {},
   "outputs": [
    {
     "name": "stdout",
     "output_type": "stream",
     "text": [
      "1\n",
      "Total predicted points: 127.89   Total actual points: 119.2   Total Salary: 50000\n",
      "\n",
      "               name  pos  salary  prediction  fpts\n",
      "0        Josh Allen   QB    7700       23.59  23.1\n",
      "11    New York Jets  DST    2400        6.93  14.0\n",
      "17      Chris Olave   WR    6100       16.27   2.3\n",
      "23     Drake London   WR    6700       16.66  10.7\n",
      "25   Cedric Tillman   WR    4300       10.90  19.5\n",
      "29   Bijan Robinson   RB    7400       17.81  21.5\n",
      "31      Breece Hall   RB    7500       17.71  10.5\n",
      "38   Dalton Schultz   TE    4100        9.58   5.1\n",
      "48  Ray-Ray Mccloud   WR    3800        8.44  12.5\n"
     ]
    }
   ],
   "source": [
    "team = pick_team(df, 'prediction')"
   ]
  },
  {
   "cell_type": "code",
   "execution_count": 141,
   "metadata": {},
   "outputs": [
    {
     "name": "stdout",
     "output_type": "stream",
     "text": [
      "1\n",
      "Total predicted points: 136.2   Total actual points: 139.5   Total Salary: 50000\n",
      "\n",
      "               name  pos  salary  prediction_1  fpts\n",
      "3       Sam Darnold   QB    6000          19.6  22.0\n",
      "11    New York Jets  DST    2400           7.0  14.0\n",
      "17      Chris Olave   WR    6100          14.7   2.3\n",
      "23     Drake London   WR    6700          16.8  10.7\n",
      "25   Cedric Tillman   WR    4300          10.9  19.5\n",
      "40      Aaron Jones   RB    6600          18.7  12.2\n",
      "65      David Njoku   TE    5500          13.8   7.9\n",
      "93      Chase Brown   RB    5900          16.8  29.7\n",
      "144   Chuba Hubbard   RB    6500          17.9  21.2\n"
     ]
    }
   ],
   "source": [
    "team = pick_team(df, 'prediction_1')"
   ]
  },
  {
   "cell_type": "code",
   "execution_count": 142,
   "metadata": {},
   "outputs": [
    {
     "name": "stdout",
     "output_type": "stream",
     "text": [
      "1\n",
      "Total predicted points: 137.3   Total actual points: 190.1   Total Salary: 49900\n",
      "\n",
      "                  name  pos  salary  prediction_2  fpts\n",
      "13         Jalen Hurts   QB    7800          24.7  29.9\n",
      "39         David Moore   WR    3000           7.7   4.0\n",
      "41       De'Von Achane   RB    6700          17.6  32.1\n",
      "47    Courtland Sutton   WR    5400          13.3  26.3\n",
      "50     Deandre Hopkins   WR    5000          12.8  28.6\n",
      "53        Travis Kelce   TE    6300          16.1  26.0\n",
      "58      Kyren Williams   RB    8000          22.1  10.5\n",
      "70          Cade Otton   TE    4500          11.8  21.7\n",
      "100  Minnesota Vikings  DST    3200          11.2  11.0\n"
     ]
    }
   ],
   "source": [
    "team = pick_team(df, 'prediction_2')"
   ]
  },
  {
   "cell_type": "markdown",
   "metadata": {},
   "source": [
    "#### RMSE"
   ]
  },
  {
   "cell_type": "code",
   "execution_count": 78,
   "metadata": {},
   "outputs": [
    {
     "data": {
      "text/plain": [
       "6.559237371342573"
      ]
     },
     "execution_count": 78,
     "metadata": {},
     "output_type": "execute_result"
    }
   ],
   "source": [
    "rmse(df, 'mean_pred', 'fpts')"
   ]
  },
  {
   "cell_type": "code",
   "execution_count": 79,
   "metadata": {},
   "outputs": [
    {
     "data": {
      "text/plain": [
       "6.785923226986376"
      ]
     },
     "execution_count": 79,
     "metadata": {},
     "output_type": "execute_result"
    }
   ],
   "source": [
    "rmse(df, 'prediction', 'fpts')"
   ]
  },
  {
   "cell_type": "code",
   "execution_count": 80,
   "metadata": {},
   "outputs": [
    {
     "data": {
      "text/plain": [
       "6.468272813625703"
      ]
     },
     "execution_count": 80,
     "metadata": {},
     "output_type": "execute_result"
    }
   ],
   "source": [
    "rmse(df, 'prediction_1', 'fpts')"
   ]
  },
  {
   "cell_type": "code",
   "execution_count": 81,
   "metadata": {},
   "outputs": [
    {
     "data": {
      "text/plain": [
       "6.661058634155653"
      ]
     },
     "execution_count": 81,
     "metadata": {},
     "output_type": "execute_result"
    }
   ],
   "source": [
    "rmse(df, 'prediction_2', 'fpts')"
   ]
  },
  {
   "cell_type": "markdown",
   "metadata": {},
   "source": [
    "### Week 10"
   ]
  },
  {
   "cell_type": "code",
   "execution_count": 150,
   "metadata": {},
   "outputs": [],
   "source": [
    "week = 10"
   ]
  },
  {
   "cell_type": "code",
   "execution_count": 151,
   "metadata": {},
   "outputs": [],
   "source": [
    "pred_df = pd.read_csv(f\"{data_dir}/week{week}_predictions.csv\")\n",
    "score_df = pd.read_csv(f\"{data_dir}/week{week}_scores.csv\")"
   ]
  },
  {
   "cell_type": "code",
   "execution_count": 152,
   "metadata": {},
   "outputs": [
    {
     "name": "stdout",
     "output_type": "stream",
     "text": [
      "fixed Chig Okonkwo\n"
     ]
    },
    {
     "data": {
      "text/html": [
       "<div>\n",
       "<style scoped>\n",
       "    .dataframe tbody tr th:only-of-type {\n",
       "        vertical-align: middle;\n",
       "    }\n",
       "\n",
       "    .dataframe tbody tr th {\n",
       "        vertical-align: top;\n",
       "    }\n",
       "\n",
       "    .dataframe thead th {\n",
       "        text-align: right;\n",
       "    }\n",
       "</style>\n",
       "<table border=\"1\" class=\"dataframe\">\n",
       "  <thead>\n",
       "    <tr style=\"text-align: right;\">\n",
       "      <th></th>\n",
       "      <th>name</th>\n",
       "      <th>pos</th>\n",
       "      <th>salary</th>\n",
       "      <th>prediction</th>\n",
       "      <th>prediction_1</th>\n",
       "      <th>prediction_2</th>\n",
       "      <th>mean_pred</th>\n",
       "      <th>pred_count</th>\n",
       "      <th>id</th>\n",
       "      <th>fpts</th>\n",
       "      <th>_merge</th>\n",
       "    </tr>\n",
       "  </thead>\n",
       "  <tbody>\n",
       "    <tr>\n",
       "      <th>0</th>\n",
       "      <td>Daniel Jones</td>\n",
       "      <td>QB</td>\n",
       "      <td>5300</td>\n",
       "      <td>17.30</td>\n",
       "      <td>17.3</td>\n",
       "      <td>15.2</td>\n",
       "      <td>16.600000</td>\n",
       "      <td>3</td>\n",
       "      <td>daniel jones</td>\n",
       "      <td>14.2</td>\n",
       "      <td>both</td>\n",
       "    </tr>\n",
       "    <tr>\n",
       "      <th>1</th>\n",
       "      <td>Justin Herbert</td>\n",
       "      <td>QB</td>\n",
       "      <td>5200</td>\n",
       "      <td>16.30</td>\n",
       "      <td>16.4</td>\n",
       "      <td>16.1</td>\n",
       "      <td>16.266667</td>\n",
       "      <td>3</td>\n",
       "      <td>justin herbert</td>\n",
       "      <td>19.8</td>\n",
       "      <td>both</td>\n",
       "    </tr>\n",
       "    <tr>\n",
       "      <th>2</th>\n",
       "      <td>Josh Allen</td>\n",
       "      <td>QB</td>\n",
       "      <td>7700</td>\n",
       "      <td>22.82</td>\n",
       "      <td>22.8</td>\n",
       "      <td>22.1</td>\n",
       "      <td>22.573333</td>\n",
       "      <td>3</td>\n",
       "      <td>josh allen</td>\n",
       "      <td>20.2</td>\n",
       "      <td>both</td>\n",
       "    </tr>\n",
       "    <tr>\n",
       "      <th>3</th>\n",
       "      <td>Brock Purdy</td>\n",
       "      <td>QB</td>\n",
       "      <td>6500</td>\n",
       "      <td>19.05</td>\n",
       "      <td>19.6</td>\n",
       "      <td>21.0</td>\n",
       "      <td>19.883333</td>\n",
       "      <td>3</td>\n",
       "      <td>brock purdy</td>\n",
       "      <td>26.8</td>\n",
       "      <td>both</td>\n",
       "    </tr>\n",
       "    <tr>\n",
       "      <th>4</th>\n",
       "      <td>Matthew Stafford</td>\n",
       "      <td>QB</td>\n",
       "      <td>5600</td>\n",
       "      <td>16.07</td>\n",
       "      <td>16.6</td>\n",
       "      <td>14.3</td>\n",
       "      <td>15.656667</td>\n",
       "      <td>3</td>\n",
       "      <td>matthew stafford</td>\n",
       "      <td>10.7</td>\n",
       "      <td>both</td>\n",
       "    </tr>\n",
       "    <tr>\n",
       "      <th>...</th>\n",
       "      <td>...</td>\n",
       "      <td>...</td>\n",
       "      <td>...</td>\n",
       "      <td>...</td>\n",
       "      <td>...</td>\n",
       "      <td>...</td>\n",
       "      <td>...</td>\n",
       "      <td>...</td>\n",
       "      <td>...</td>\n",
       "      <td>...</td>\n",
       "      <td>...</td>\n",
       "    </tr>\n",
       "    <tr>\n",
       "      <th>257</th>\n",
       "      <td>Xavier Hutchinson</td>\n",
       "      <td>WR</td>\n",
       "      <td>3600</td>\n",
       "      <td>0.49</td>\n",
       "      <td>2.5</td>\n",
       "      <td>5.8</td>\n",
       "      <td>2.930000</td>\n",
       "      <td>3</td>\n",
       "      <td>xavier hutchinson</td>\n",
       "      <td>2.6</td>\n",
       "      <td>both</td>\n",
       "    </tr>\n",
       "    <tr>\n",
       "      <th>259</th>\n",
       "      <td>Jamycal Hasty</td>\n",
       "      <td>RB</td>\n",
       "      <td>4100</td>\n",
       "      <td>0.45</td>\n",
       "      <td>0.9</td>\n",
       "      <td>2.3</td>\n",
       "      <td>1.216667</td>\n",
       "      <td>3</td>\n",
       "      <td>jamycal hasty</td>\n",
       "      <td>3.4</td>\n",
       "      <td>both</td>\n",
       "    </tr>\n",
       "    <tr>\n",
       "      <th>264</th>\n",
       "      <td>Malik Washington</td>\n",
       "      <td>WR</td>\n",
       "      <td>3000</td>\n",
       "      <td>0.33</td>\n",
       "      <td>1.1</td>\n",
       "      <td>1.1</td>\n",
       "      <td>0.843333</td>\n",
       "      <td>3</td>\n",
       "      <td>malik washington</td>\n",
       "      <td>10.5</td>\n",
       "      <td>both</td>\n",
       "    </tr>\n",
       "    <tr>\n",
       "      <th>267</th>\n",
       "      <td>Will Shipley</td>\n",
       "      <td>RB</td>\n",
       "      <td>4000</td>\n",
       "      <td>0.55</td>\n",
       "      <td>0.6</td>\n",
       "      <td>0.6</td>\n",
       "      <td>0.583333</td>\n",
       "      <td>3</td>\n",
       "      <td>will shipley</td>\n",
       "      <td>3.4</td>\n",
       "      <td>both</td>\n",
       "    </tr>\n",
       "    <tr>\n",
       "      <th>269</th>\n",
       "      <td>Isaiah Davis</td>\n",
       "      <td>RB</td>\n",
       "      <td>4000</td>\n",
       "      <td>0.49</td>\n",
       "      <td>0.4</td>\n",
       "      <td>0.8</td>\n",
       "      <td>0.563333</td>\n",
       "      <td>3</td>\n",
       "      <td>isaiah davis</td>\n",
       "      <td>2.0</td>\n",
       "      <td>both</td>\n",
       "    </tr>\n",
       "  </tbody>\n",
       "</table>\n",
       "<p>227 rows × 11 columns</p>\n",
       "</div>"
      ],
      "text/plain": [
       "                  name pos  salary  prediction  prediction_1  prediction_2  \\\n",
       "0         Daniel Jones  QB    5300       17.30          17.3          15.2   \n",
       "1       Justin Herbert  QB    5200       16.30          16.4          16.1   \n",
       "2           Josh Allen  QB    7700       22.82          22.8          22.1   \n",
       "3          Brock Purdy  QB    6500       19.05          19.6          21.0   \n",
       "4     Matthew Stafford  QB    5600       16.07          16.6          14.3   \n",
       "..                 ...  ..     ...         ...           ...           ...   \n",
       "257  Xavier Hutchinson  WR    3600        0.49           2.5           5.8   \n",
       "259      Jamycal Hasty  RB    4100        0.45           0.9           2.3   \n",
       "264   Malik Washington  WR    3000        0.33           1.1           1.1   \n",
       "267       Will Shipley  RB    4000        0.55           0.6           0.6   \n",
       "269       Isaiah Davis  RB    4000        0.49           0.4           0.8   \n",
       "\n",
       "     mean_pred  pred_count                 id  fpts _merge  \n",
       "0    16.600000           3       daniel jones  14.2   both  \n",
       "1    16.266667           3     justin herbert  19.8   both  \n",
       "2    22.573333           3         josh allen  20.2   both  \n",
       "3    19.883333           3        brock purdy  26.8   both  \n",
       "4    15.656667           3   matthew stafford  10.7   both  \n",
       "..         ...         ...                ...   ...    ...  \n",
       "257   2.930000           3  xavier hutchinson   2.6   both  \n",
       "259   1.216667           3      jamycal hasty   3.4   both  \n",
       "264   0.843333           3   malik washington  10.5   both  \n",
       "267   0.583333           3       will shipley   3.4   both  \n",
       "269   0.563333           3       isaiah davis   2.0   both  \n",
       "\n",
       "[227 rows x 11 columns]"
      ]
     },
     "execution_count": 152,
     "metadata": {},
     "output_type": "execute_result"
    }
   ],
   "source": [
    "df = final_scored_df(pred_df, score_df)\n",
    "df"
   ]
  },
  {
   "cell_type": "markdown",
   "metadata": {},
   "source": [
    "#### Pick scores"
   ]
  },
  {
   "cell_type": "code",
   "execution_count": 57,
   "metadata": {},
   "outputs": [],
   "source": [
    "week10 = {'mean_pred': 166.1, 'prediction': 102.1, 'prediction_1': 165.5, 'prediction_2': 124.6}"
   ]
  },
  {
   "cell_type": "code",
   "execution_count": 153,
   "metadata": {},
   "outputs": [
    {
     "name": "stdout",
     "output_type": "stream",
     "text": [
      "1\n",
      "Total predicted points: 128.94   Total actual points: 166.1   Total Salary: 50000\n",
      "\n",
      "                 name  pos  salary  mean_pred  fpts\n",
      "1      Justin Herbert   QB    5200  16.266667  19.8\n",
      "20      Chicago Bears  DST    3000   8.956667   4.0\n",
      "23      George Kittle   TE    5800  15.666667  14.7\n",
      "30      De'Von Achane   RB    7100  17.196667  10.2\n",
      "31    Deandre Hopkins   WR    5300  13.030000   9.6\n",
      "32        Chase Brown   RB    6000  15.666667  23.4\n",
      "68   Courtland Sutton   WR    5600  12.556667  19.0\n",
      "87      Ja'Marr Chase   WR    8400  19.383333  58.4\n",
      "132      Mike Gesicki   TE    3600  10.216667   7.0\n"
     ]
    }
   ],
   "source": [
    "team = pick_team(df, 'mean_pred')"
   ]
  },
  {
   "cell_type": "code",
   "execution_count": 154,
   "metadata": {},
   "outputs": [
    {
     "name": "stdout",
     "output_type": "stream",
     "text": [
      "1\n",
      "Total predicted points: 126.73   Total actual points: 102.1   Total Salary: 49900\n",
      "\n",
      "               name  pos  salary  prediction  fpts\n",
      "0      Daniel Jones   QB    5300       17.30  14.2\n",
      "20    Chicago Bears  DST    3000        7.77   4.0\n",
      "22    Derrick Henry   RB    8200       21.35  14.1\n",
      "23    George Kittle   TE    5800       15.20  14.7\n",
      "25      Jonnu Smith   TE    3700        9.21   7.5\n",
      "30    De'Von Achane   RB    7100       17.09  10.2\n",
      "31  Deandre Hopkins   WR    5300       12.69   9.6\n",
      "39       Puka Nacua   WR    7100       16.39  18.8\n",
      "45  Demario Douglas   WR    4400        9.73   9.0\n"
     ]
    }
   ],
   "source": [
    "team = pick_team(df, 'prediction')"
   ]
  },
  {
   "cell_type": "code",
   "execution_count": 155,
   "metadata": {},
   "outputs": [
    {
     "name": "stdout",
     "output_type": "stream",
     "text": [
      "1\n",
      "Total predicted points: 138.4   Total actual points: 165.5   Total Salary: 50000\n",
      "\n",
      "                name  pos  salary  prediction_1  fpts\n",
      "0       Daniel Jones   QB    5300          17.3  14.2\n",
      "20     Chicago Bears  DST    3000           8.6   4.0\n",
      "31   Deandre Hopkins   WR    5300          12.6   9.6\n",
      "32       Chase Brown   RB    6000          18.4  23.4\n",
      "36      Alvin Kamara   RB    8100          20.4  15.9\n",
      "54      Mark Andrews   TE    4100          11.6  18.8\n",
      "76        Josh Downs   WR    6200          13.8  14.2\n",
      "87     Ja'Marr Chase   WR    8400          21.2  58.4\n",
      "132     Mike Gesicki   TE    3600          14.5   7.0\n"
     ]
    }
   ],
   "source": [
    "team = pick_team(df, 'prediction_1')"
   ]
  },
  {
   "cell_type": "code",
   "execution_count": 156,
   "metadata": {},
   "outputs": [
    {
     "name": "stdout",
     "output_type": "stream",
     "text": [
      "1\n",
      "Total predicted points: 138.3   Total actual points: 124.6   Total Salary: 50000\n",
      "\n",
      "                 name  pos  salary  prediction_2  fpts\n",
      "3         Brock Purdy   QB    6500          21.0  26.8\n",
      "20      Chicago Bears  DST    3000          10.5   4.0\n",
      "30      De'Von Achane   RB    7100          17.3  10.2\n",
      "31    Deandre Hopkins   WR    5300          13.8   9.6\n",
      "54       Mark Andrews   TE    4100          12.1  18.8\n",
      "55       Tyrone Tracy   RB    6000          15.2  19.4\n",
      "68   Courtland Sutton   WR    5600          14.7  19.0\n",
      "84   Justin Jefferson   WR    8800          23.8   9.8\n",
      "132      Mike Gesicki   TE    3600           9.9   7.0\n"
     ]
    }
   ],
   "source": [
    "team = pick_team(df, 'prediction_2')"
   ]
  },
  {
   "cell_type": "markdown",
   "metadata": {},
   "source": [
    "#### RMSE"
   ]
  },
  {
   "cell_type": "code",
   "execution_count": 157,
   "metadata": {},
   "outputs": [
    {
     "data": {
      "text/plain": [
       "6.2988787431922395"
      ]
     },
     "execution_count": 157,
     "metadata": {},
     "output_type": "execute_result"
    }
   ],
   "source": [
    "rmse(df, 'mean_pred', 'fpts')"
   ]
  },
  {
   "cell_type": "code",
   "execution_count": 86,
   "metadata": {},
   "outputs": [
    {
     "data": {
      "text/plain": [
       "6.409456601046991"
      ]
     },
     "execution_count": 86,
     "metadata": {},
     "output_type": "execute_result"
    }
   ],
   "source": [
    "rmse(df, 'prediction', 'fpts')"
   ]
  },
  {
   "cell_type": "code",
   "execution_count": 87,
   "metadata": {},
   "outputs": [
    {
     "data": {
      "text/plain": [
       "6.244606483370958"
      ]
     },
     "execution_count": 87,
     "metadata": {},
     "output_type": "execute_result"
    }
   ],
   "source": [
    "rmse(df, 'prediction_1', 'fpts')"
   ]
  },
  {
   "cell_type": "code",
   "execution_count": 88,
   "metadata": {},
   "outputs": [
    {
     "data": {
      "text/plain": [
       "6.491037535089311"
      ]
     },
     "execution_count": 88,
     "metadata": {},
     "output_type": "execute_result"
    }
   ],
   "source": [
    "rmse(df, 'prediction_2', 'fpts')"
   ]
  },
  {
   "cell_type": "markdown",
   "metadata": {},
   "source": [
    "### Week 11"
   ]
  },
  {
   "cell_type": "code",
   "execution_count": 158,
   "metadata": {},
   "outputs": [],
   "source": [
    "week = 11"
   ]
  },
  {
   "cell_type": "code",
   "execution_count": 159,
   "metadata": {},
   "outputs": [],
   "source": [
    "pred_df = pd.read_csv(f\"{data_dir}/week{week}_predictions.csv\")\n",
    "score_df = pd.read_csv(f\"{data_dir}/week{week}_scores.csv\")"
   ]
  },
  {
   "cell_type": "code",
   "execution_count": 160,
   "metadata": {},
   "outputs": [
    {
     "name": "stdout",
     "output_type": "stream",
     "text": [
      "fixed Chig Okonkwo\n"
     ]
    },
    {
     "data": {
      "text/html": [
       "<div>\n",
       "<style scoped>\n",
       "    .dataframe tbody tr th:only-of-type {\n",
       "        vertical-align: middle;\n",
       "    }\n",
       "\n",
       "    .dataframe tbody tr th {\n",
       "        vertical-align: top;\n",
       "    }\n",
       "\n",
       "    .dataframe thead th {\n",
       "        text-align: right;\n",
       "    }\n",
       "</style>\n",
       "<table border=\"1\" class=\"dataframe\">\n",
       "  <thead>\n",
       "    <tr style=\"text-align: right;\">\n",
       "      <th></th>\n",
       "      <th>name</th>\n",
       "      <th>pos</th>\n",
       "      <th>salary</th>\n",
       "      <th>prediction</th>\n",
       "      <th>prediction_1</th>\n",
       "      <th>prediction_2</th>\n",
       "      <th>mean_pred</th>\n",
       "      <th>pred_count</th>\n",
       "      <th>id</th>\n",
       "      <th>fpts</th>\n",
       "      <th>_merge</th>\n",
       "    </tr>\n",
       "  </thead>\n",
       "  <tbody>\n",
       "    <tr>\n",
       "      <th>0</th>\n",
       "      <td>Justin Herbert</td>\n",
       "      <td>QB</td>\n",
       "      <td>5300</td>\n",
       "      <td>17.58</td>\n",
       "      <td>17.9</td>\n",
       "      <td>17.8</td>\n",
       "      <td>17.760000</td>\n",
       "      <td>3</td>\n",
       "      <td>justin herbert</td>\n",
       "      <td>25.4</td>\n",
       "      <td>both</td>\n",
       "    </tr>\n",
       "    <tr>\n",
       "      <th>1</th>\n",
       "      <td>Brock Purdy</td>\n",
       "      <td>QB</td>\n",
       "      <td>6600</td>\n",
       "      <td>19.43</td>\n",
       "      <td>20.0</td>\n",
       "      <td>18.8</td>\n",
       "      <td>19.410000</td>\n",
       "      <td>3</td>\n",
       "      <td>brock purdy</td>\n",
       "      <td>19.4</td>\n",
       "      <td>both</td>\n",
       "    </tr>\n",
       "    <tr>\n",
       "      <th>2</th>\n",
       "      <td>Josh Allen</td>\n",
       "      <td>QB</td>\n",
       "      <td>7800</td>\n",
       "      <td>22.39</td>\n",
       "      <td>22.2</td>\n",
       "      <td>20.6</td>\n",
       "      <td>21.730000</td>\n",
       "      <td>3</td>\n",
       "      <td>josh allen</td>\n",
       "      <td>25.0</td>\n",
       "      <td>both</td>\n",
       "    </tr>\n",
       "    <tr>\n",
       "      <th>3</th>\n",
       "      <td>Lamar Jackson</td>\n",
       "      <td>QB</td>\n",
       "      <td>8000</td>\n",
       "      <td>22.01</td>\n",
       "      <td>21.9</td>\n",
       "      <td>21.9</td>\n",
       "      <td>21.936667</td>\n",
       "      <td>3</td>\n",
       "      <td>lamar jackson</td>\n",
       "      <td>15.9</td>\n",
       "      <td>both</td>\n",
       "    </tr>\n",
       "    <tr>\n",
       "      <th>4</th>\n",
       "      <td>Geno Smith</td>\n",
       "      <td>QB</td>\n",
       "      <td>5700</td>\n",
       "      <td>16.20</td>\n",
       "      <td>16.8</td>\n",
       "      <td>15.3</td>\n",
       "      <td>16.100000</td>\n",
       "      <td>3</td>\n",
       "      <td>geno smith</td>\n",
       "      <td>16.7</td>\n",
       "      <td>both</td>\n",
       "    </tr>\n",
       "    <tr>\n",
       "      <th>...</th>\n",
       "      <td>...</td>\n",
       "      <td>...</td>\n",
       "      <td>...</td>\n",
       "      <td>...</td>\n",
       "      <td>...</td>\n",
       "      <td>...</td>\n",
       "      <td>...</td>\n",
       "      <td>...</td>\n",
       "      <td>...</td>\n",
       "      <td>...</td>\n",
       "      <td>...</td>\n",
       "    </tr>\n",
       "    <tr>\n",
       "      <th>261</th>\n",
       "      <td>Eric Saubert</td>\n",
       "      <td>TE</td>\n",
       "      <td>2500</td>\n",
       "      <td>0.27</td>\n",
       "      <td>0.4</td>\n",
       "      <td>1.4</td>\n",
       "      <td>0.690000</td>\n",
       "      <td>3</td>\n",
       "      <td>eric saubert</td>\n",
       "      <td>1.7</td>\n",
       "      <td>both</td>\n",
       "    </tr>\n",
       "    <tr>\n",
       "      <th>263</th>\n",
       "      <td>Patrick Ricard</td>\n",
       "      <td>RB</td>\n",
       "      <td>4000</td>\n",
       "      <td>0.54</td>\n",
       "      <td>0.4</td>\n",
       "      <td>2.2</td>\n",
       "      <td>1.046667</td>\n",
       "      <td>3</td>\n",
       "      <td>patrick ricard</td>\n",
       "      <td>1.5</td>\n",
       "      <td>both</td>\n",
       "    </tr>\n",
       "    <tr>\n",
       "      <th>264</th>\n",
       "      <td>Jase Mcclellan</td>\n",
       "      <td>RB</td>\n",
       "      <td>4000</td>\n",
       "      <td>0.30</td>\n",
       "      <td>0.3</td>\n",
       "      <td>0.6</td>\n",
       "      <td>0.400000</td>\n",
       "      <td>3</td>\n",
       "      <td>jase mcclellan</td>\n",
       "      <td>1.5</td>\n",
       "      <td>both</td>\n",
       "    </tr>\n",
       "    <tr>\n",
       "      <th>265</th>\n",
       "      <td>Ryan Flournoy</td>\n",
       "      <td>WR</td>\n",
       "      <td>3000</td>\n",
       "      <td>0.31</td>\n",
       "      <td>0.5</td>\n",
       "      <td>0.7</td>\n",
       "      <td>0.503333</td>\n",
       "      <td>3</td>\n",
       "      <td>ryan flournoy</td>\n",
       "      <td>3.9</td>\n",
       "      <td>both</td>\n",
       "    </tr>\n",
       "    <tr>\n",
       "      <th>269</th>\n",
       "      <td>Allen Robinson</td>\n",
       "      <td>WR</td>\n",
       "      <td>3100</td>\n",
       "      <td>0.36</td>\n",
       "      <td>0.4</td>\n",
       "      <td>1.0</td>\n",
       "      <td>0.586667</td>\n",
       "      <td>3</td>\n",
       "      <td>allen robinson</td>\n",
       "      <td>1.7</td>\n",
       "      <td>both</td>\n",
       "    </tr>\n",
       "  </tbody>\n",
       "</table>\n",
       "<p>243 rows × 11 columns</p>\n",
       "</div>"
      ],
      "text/plain": [
       "               name pos  salary  prediction  prediction_1  prediction_2  \\\n",
       "0    Justin Herbert  QB    5300       17.58          17.9          17.8   \n",
       "1       Brock Purdy  QB    6600       19.43          20.0          18.8   \n",
       "2        Josh Allen  QB    7800       22.39          22.2          20.6   \n",
       "3     Lamar Jackson  QB    8000       22.01          21.9          21.9   \n",
       "4        Geno Smith  QB    5700       16.20          16.8          15.3   \n",
       "..              ...  ..     ...         ...           ...           ...   \n",
       "261    Eric Saubert  TE    2500        0.27           0.4           1.4   \n",
       "263  Patrick Ricard  RB    4000        0.54           0.4           2.2   \n",
       "264  Jase Mcclellan  RB    4000        0.30           0.3           0.6   \n",
       "265   Ryan Flournoy  WR    3000        0.31           0.5           0.7   \n",
       "269  Allen Robinson  WR    3100        0.36           0.4           1.0   \n",
       "\n",
       "     mean_pred  pred_count              id  fpts _merge  \n",
       "0    17.760000           3  justin herbert  25.4   both  \n",
       "1    19.410000           3     brock purdy  19.4   both  \n",
       "2    21.730000           3      josh allen  25.0   both  \n",
       "3    21.936667           3   lamar jackson  15.9   both  \n",
       "4    16.100000           3      geno smith  16.7   both  \n",
       "..         ...         ...             ...   ...    ...  \n",
       "261   0.690000           3    eric saubert   1.7   both  \n",
       "263   1.046667           3  patrick ricard   1.5   both  \n",
       "264   0.400000           3  jase mcclellan   1.5   both  \n",
       "265   0.503333           3   ryan flournoy   3.9   both  \n",
       "269   0.586667           3  allen robinson   1.7   both  \n",
       "\n",
       "[243 rows x 11 columns]"
      ]
     },
     "execution_count": 160,
     "metadata": {},
     "output_type": "execute_result"
    }
   ],
   "source": [
    "df = final_scored_df(pred_df, score_df)\n",
    "df"
   ]
  },
  {
   "cell_type": "markdown",
   "metadata": {},
   "source": [
    "#### Pick scores"
   ]
  },
  {
   "cell_type": "code",
   "execution_count": 58,
   "metadata": {},
   "outputs": [],
   "source": [
    "week11 = {'mean_pred': 131.6, 'prediction': 121.5, 'prediction_1': 157.5, 'prediction_2': 108.8}"
   ]
  },
  {
   "cell_type": "code",
   "execution_count": 161,
   "metadata": {},
   "outputs": [
    {
     "name": "stdout",
     "output_type": "stream",
     "text": [
      "1\n",
      "Total predicted points: 124.55000000000001   Total actual points: 131.6   Total Salary: 50000\n",
      "\n",
      "               name  pos  salary  mean_pred  fpts\n",
      "0    Justin Herbert   QB    5300  17.760000  25.4\n",
      "23   T.J. Hockenson   TE    4700  11.153333   3.3\n",
      "25    De'Von Achane   RB    7200  18.050000  20.5\n",
      "28    Chicago Bears  DST    2400   6.746667   4.0\n",
      "39    Jakobi Meyers   WR    5600  13.173333   8.8\n",
      "40      Chase Brown   RB    6500  15.046667  19.3\n",
      "45  Deandre Hopkins   WR    5700  12.843333   5.9\n",
      "48   Jauan Jennings   WR    5300  12.323333  25.1\n",
      "51     Jahmyr Gibbs   RB    7300  17.453333  19.3\n"
     ]
    }
   ],
   "source": [
    "team = pick_team(df, 'mean_pred')"
   ]
  },
  {
   "cell_type": "code",
   "execution_count": 162,
   "metadata": {},
   "outputs": [
    {
     "name": "stdout",
     "output_type": "stream",
     "text": [
      "1\n",
      "Total predicted points: 123.86   Total actual points: 121.5   Total Salary: 50000\n",
      "\n",
      "              name  pos  salary  prediction  fpts\n",
      "0   Justin Herbert   QB    5300       17.58  25.4\n",
      "21  Miami Dolphins  DST    3000        7.59   6.0\n",
      "23  T.J. Hockenson   TE    4700       11.76   3.3\n",
      "25   De'Von Achane   RB    7200       17.85  20.5\n",
      "30  Kayshon Boutte   WR    3500        8.52   7.3\n",
      "35    Travis Kelce   TE    6300       15.02   2.8\n",
      "39   Jakobi Meyers   WR    5600       12.92   8.8\n",
      "41    Drake London   WR    6700       15.42   9.1\n",
      "53       Joe Mixon   RB    7700       17.20  38.3\n"
     ]
    }
   ],
   "source": [
    "team = pick_team(df, 'prediction')"
   ]
  },
  {
   "cell_type": "code",
   "execution_count": 163,
   "metadata": {},
   "outputs": [
    {
     "name": "stdout",
     "output_type": "stream",
     "text": [
      "1\n",
      "Total predicted points: 129.1   Total actual points: 157.5   Total Salary: 50000\n",
      "\n",
      "                name  pos  salary  prediction_1  fpts\n",
      "0     Justin Herbert   QB    5300          17.9  25.4\n",
      "24  Tennessee Titans  DST    2300           6.7   4.0\n",
      "25     De'Von Achane   RB    7200          19.0  20.5\n",
      "30    Kayshon Boutte   WR    3500           8.9   7.3\n",
      "35      Travis Kelce   TE    6300          15.9   2.8\n",
      "40       Chase Brown   RB    6500          16.5  19.3\n",
      "48    Jauan Jennings   WR    5300          11.9  25.1\n",
      "53         Joe Mixon   RB    7700          18.9  38.3\n",
      "58  Courtland Sutton   WR    5900          13.4  14.8\n"
     ]
    }
   ],
   "source": [
    "team = pick_team(df, 'prediction_1')"
   ]
  },
  {
   "cell_type": "code",
   "execution_count": 164,
   "metadata": {},
   "outputs": [
    {
     "name": "stdout",
     "output_type": "stream",
     "text": [
      "1\n",
      "Total predicted points: 133.6   Total actual points: 108.8   Total Salary: 50000\n",
      "\n",
      "               name  pos  salary  prediction_2  fpts\n",
      "0    Justin Herbert   QB    5300          17.8  25.4\n",
      "28    Chicago Bears  DST    2400           8.5   4.0\n",
      "39    Jakobi Meyers   WR    5600          13.6   8.8\n",
      "48   Jauan Jennings   WR    5300          13.4  25.1\n",
      "51     Jahmyr Gibbs   RB    7300          18.9  19.3\n",
      "59   Kyren Williams   RB    7900          20.1   8.6\n",
      "86    Tyler Conklin   TE    3200           7.3   1.7\n",
      "89     Deebo Samuel   WR    6800          18.3   6.1\n",
      "121   Calvin Ridley   WR    6200          15.7   9.8\n"
     ]
    }
   ],
   "source": [
    "team = pick_team(df, 'prediction_2')"
   ]
  },
  {
   "cell_type": "markdown",
   "metadata": {},
   "source": [
    "#### RMSE"
   ]
  },
  {
   "cell_type": "code",
   "execution_count": 165,
   "metadata": {},
   "outputs": [
    {
     "data": {
      "text/plain": [
       "7.259905318945617"
      ]
     },
     "execution_count": 165,
     "metadata": {},
     "output_type": "execute_result"
    }
   ],
   "source": [
    "rmse(df, 'mean_pred', 'fpts')"
   ]
  },
  {
   "cell_type": "code",
   "execution_count": 93,
   "metadata": {},
   "outputs": [
    {
     "data": {
      "text/plain": [
       "7.248403996317201"
      ]
     },
     "execution_count": 93,
     "metadata": {},
     "output_type": "execute_result"
    }
   ],
   "source": [
    "rmse(df, 'prediction', 'fpts')"
   ]
  },
  {
   "cell_type": "code",
   "execution_count": 94,
   "metadata": {},
   "outputs": [
    {
     "data": {
      "text/plain": [
       "7.129276566534638"
      ]
     },
     "execution_count": 94,
     "metadata": {},
     "output_type": "execute_result"
    }
   ],
   "source": [
    "rmse(df, 'prediction_1', 'fpts')"
   ]
  },
  {
   "cell_type": "code",
   "execution_count": 95,
   "metadata": {},
   "outputs": [
    {
     "data": {
      "text/plain": [
       "7.551807349150475"
      ]
     },
     "execution_count": 95,
     "metadata": {},
     "output_type": "execute_result"
    }
   ],
   "source": [
    "rmse(df, 'prediction_2', 'fpts')"
   ]
  },
  {
   "cell_type": "markdown",
   "metadata": {},
   "source": [
    "### Week 12"
   ]
  },
  {
   "cell_type": "code",
   "execution_count": 166,
   "metadata": {},
   "outputs": [],
   "source": [
    "week = 12"
   ]
  },
  {
   "cell_type": "code",
   "execution_count": 167,
   "metadata": {},
   "outputs": [],
   "source": [
    "pred_df = pd.read_csv(f\"{data_dir}/week{week}_predictions.csv\")\n",
    "score_df = pd.read_csv(f\"{data_dir}/week{week}_scores.csv\")"
   ]
  },
  {
   "cell_type": "code",
   "execution_count": 168,
   "metadata": {},
   "outputs": [
    {
     "name": "stdout",
     "output_type": "stream",
     "text": [
      "fixed Chig Okonkwo\n"
     ]
    },
    {
     "data": {
      "text/html": [
       "<div>\n",
       "<style scoped>\n",
       "    .dataframe tbody tr th:only-of-type {\n",
       "        vertical-align: middle;\n",
       "    }\n",
       "\n",
       "    .dataframe tbody tr th {\n",
       "        vertical-align: top;\n",
       "    }\n",
       "\n",
       "    .dataframe thead th {\n",
       "        text-align: right;\n",
       "    }\n",
       "</style>\n",
       "<table border=\"1\" class=\"dataframe\">\n",
       "  <thead>\n",
       "    <tr style=\"text-align: right;\">\n",
       "      <th></th>\n",
       "      <th>name</th>\n",
       "      <th>pos</th>\n",
       "      <th>salary</th>\n",
       "      <th>prediction</th>\n",
       "      <th>prediction_1</th>\n",
       "      <th>prediction_2</th>\n",
       "      <th>prediction_3</th>\n",
       "      <th>prediction_prop</th>\n",
       "      <th>prediction_4</th>\n",
       "      <th>mean_pred</th>\n",
       "      <th>pred_count</th>\n",
       "      <th>id</th>\n",
       "      <th>fpts</th>\n",
       "      <th>_merge</th>\n",
       "    </tr>\n",
       "  </thead>\n",
       "  <tbody>\n",
       "    <tr>\n",
       "      <th>0</th>\n",
       "      <td>Luke Schoonmaker</td>\n",
       "      <td>TE</td>\n",
       "      <td>2500</td>\n",
       "      <td>8.38</td>\n",
       "      <td>5.9</td>\n",
       "      <td>3.4</td>\n",
       "      <td>4.20</td>\n",
       "      <td>7.0</td>\n",
       "      <td>8.4</td>\n",
       "      <td>6.213333</td>\n",
       "      <td>6</td>\n",
       "      <td>luke schoonmaker</td>\n",
       "      <td>14.5</td>\n",
       "      <td>both</td>\n",
       "    </tr>\n",
       "    <tr>\n",
       "      <th>1</th>\n",
       "      <td>Justin Herbert</td>\n",
       "      <td>QB</td>\n",
       "      <td>5400</td>\n",
       "      <td>17.27</td>\n",
       "      <td>19.7</td>\n",
       "      <td>18.6</td>\n",
       "      <td>18.40</td>\n",
       "      <td>18.5</td>\n",
       "      <td>18.7</td>\n",
       "      <td>18.528333</td>\n",
       "      <td>6</td>\n",
       "      <td>justin herbert</td>\n",
       "      <td>17.6</td>\n",
       "      <td>both</td>\n",
       "    </tr>\n",
       "    <tr>\n",
       "      <th>2</th>\n",
       "      <td>Tommy Devito</td>\n",
       "      <td>QB</td>\n",
       "      <td>4000</td>\n",
       "      <td>12.82</td>\n",
       "      <td>13.6</td>\n",
       "      <td>13.6</td>\n",
       "      <td>14.00</td>\n",
       "      <td>13.5</td>\n",
       "      <td>13.5</td>\n",
       "      <td>13.503333</td>\n",
       "      <td>6</td>\n",
       "      <td>tommy devito</td>\n",
       "      <td>10.8</td>\n",
       "      <td>both</td>\n",
       "    </tr>\n",
       "    <tr>\n",
       "      <th>3</th>\n",
       "      <td>Caleb Williams</td>\n",
       "      <td>QB</td>\n",
       "      <td>5100</td>\n",
       "      <td>15.62</td>\n",
       "      <td>15.1</td>\n",
       "      <td>14.1</td>\n",
       "      <td>14.80</td>\n",
       "      <td>14.5</td>\n",
       "      <td>14.4</td>\n",
       "      <td>14.753333</td>\n",
       "      <td>6</td>\n",
       "      <td>caleb williams</td>\n",
       "      <td>29.9</td>\n",
       "      <td>both</td>\n",
       "    </tr>\n",
       "    <tr>\n",
       "      <th>4</th>\n",
       "      <td>Kyler Murray</td>\n",
       "      <td>QB</td>\n",
       "      <td>6200</td>\n",
       "      <td>18.58</td>\n",
       "      <td>18.7</td>\n",
       "      <td>18.2</td>\n",
       "      <td>20.60</td>\n",
       "      <td>18.0</td>\n",
       "      <td>18.7</td>\n",
       "      <td>18.796667</td>\n",
       "      <td>6</td>\n",
       "      <td>kyler murray</td>\n",
       "      <td>11.3</td>\n",
       "      <td>both</td>\n",
       "    </tr>\n",
       "    <tr>\n",
       "      <th>...</th>\n",
       "      <td>...</td>\n",
       "      <td>...</td>\n",
       "      <td>...</td>\n",
       "      <td>...</td>\n",
       "      <td>...</td>\n",
       "      <td>...</td>\n",
       "      <td>...</td>\n",
       "      <td>...</td>\n",
       "      <td>...</td>\n",
       "      <td>...</td>\n",
       "      <td>...</td>\n",
       "      <td>...</td>\n",
       "      <td>...</td>\n",
       "      <td>...</td>\n",
       "    </tr>\n",
       "    <tr>\n",
       "      <th>253</th>\n",
       "      <td>Craig Reynolds</td>\n",
       "      <td>RB</td>\n",
       "      <td>4000</td>\n",
       "      <td>0.92</td>\n",
       "      <td>0.7</td>\n",
       "      <td>1.4</td>\n",
       "      <td>0.05</td>\n",
       "      <td>NaN</td>\n",
       "      <td>NaN</td>\n",
       "      <td>0.767500</td>\n",
       "      <td>4</td>\n",
       "      <td>craig reynolds</td>\n",
       "      <td>0.6</td>\n",
       "      <td>both</td>\n",
       "    </tr>\n",
       "    <tr>\n",
       "      <th>266</th>\n",
       "      <td>Hassan Haskins</td>\n",
       "      <td>RB</td>\n",
       "      <td>4000</td>\n",
       "      <td>0.46</td>\n",
       "      <td>1.1</td>\n",
       "      <td>NaN</td>\n",
       "      <td>0.70</td>\n",
       "      <td>NaN</td>\n",
       "      <td>NaN</td>\n",
       "      <td>0.753333</td>\n",
       "      <td>3</td>\n",
       "      <td>hassan haskins</td>\n",
       "      <td>0.3</td>\n",
       "      <td>both</td>\n",
       "    </tr>\n",
       "    <tr>\n",
       "      <th>268</th>\n",
       "      <td>Julius Chestnut</td>\n",
       "      <td>RB</td>\n",
       "      <td>4000</td>\n",
       "      <td>0.22</td>\n",
       "      <td>2.3</td>\n",
       "      <td>0.5</td>\n",
       "      <td>2.90</td>\n",
       "      <td>NaN</td>\n",
       "      <td>NaN</td>\n",
       "      <td>1.480000</td>\n",
       "      <td>4</td>\n",
       "      <td>julius chestnut</td>\n",
       "      <td>1.5</td>\n",
       "      <td>both</td>\n",
       "    </tr>\n",
       "    <tr>\n",
       "      <th>270</th>\n",
       "      <td>Brevyn Spann-Ford</td>\n",
       "      <td>TE</td>\n",
       "      <td>2500</td>\n",
       "      <td>0.00</td>\n",
       "      <td>3.5</td>\n",
       "      <td>2.4</td>\n",
       "      <td>0.35</td>\n",
       "      <td>NaN</td>\n",
       "      <td>NaN</td>\n",
       "      <td>2.083333</td>\n",
       "      <td>3</td>\n",
       "      <td>brevyn spann-ford</td>\n",
       "      <td>4.4</td>\n",
       "      <td>both</td>\n",
       "    </tr>\n",
       "    <tr>\n",
       "      <th>272</th>\n",
       "      <td>Brandon Allen</td>\n",
       "      <td>QB</td>\n",
       "      <td>4000</td>\n",
       "      <td>0.00</td>\n",
       "      <td>NaN</td>\n",
       "      <td>0.0</td>\n",
       "      <td>16.60</td>\n",
       "      <td>12.5</td>\n",
       "      <td>13.7</td>\n",
       "      <td>14.266667</td>\n",
       "      <td>3</td>\n",
       "      <td>brandon allen</td>\n",
       "      <td>10.5</td>\n",
       "      <td>both</td>\n",
       "    </tr>\n",
       "  </tbody>\n",
       "</table>\n",
       "<p>233 rows × 14 columns</p>\n",
       "</div>"
      ],
      "text/plain": [
       "                  name pos  salary  prediction  prediction_1  prediction_2  \\\n",
       "0     Luke Schoonmaker  TE    2500        8.38           5.9           3.4   \n",
       "1       Justin Herbert  QB    5400       17.27          19.7          18.6   \n",
       "2         Tommy Devito  QB    4000       12.82          13.6          13.6   \n",
       "3       Caleb Williams  QB    5100       15.62          15.1          14.1   \n",
       "4         Kyler Murray  QB    6200       18.58          18.7          18.2   \n",
       "..                 ...  ..     ...         ...           ...           ...   \n",
       "253     Craig Reynolds  RB    4000        0.92           0.7           1.4   \n",
       "266     Hassan Haskins  RB    4000        0.46           1.1           NaN   \n",
       "268    Julius Chestnut  RB    4000        0.22           2.3           0.5   \n",
       "270  Brevyn Spann-Ford  TE    2500        0.00           3.5           2.4   \n",
       "272      Brandon Allen  QB    4000        0.00           NaN           0.0   \n",
       "\n",
       "     prediction_3  prediction_prop  prediction_4  mean_pred  pred_count  \\\n",
       "0            4.20              7.0           8.4   6.213333           6   \n",
       "1           18.40             18.5          18.7  18.528333           6   \n",
       "2           14.00             13.5          13.5  13.503333           6   \n",
       "3           14.80             14.5          14.4  14.753333           6   \n",
       "4           20.60             18.0          18.7  18.796667           6   \n",
       "..            ...              ...           ...        ...         ...   \n",
       "253          0.05              NaN           NaN   0.767500           4   \n",
       "266          0.70              NaN           NaN   0.753333           3   \n",
       "268          2.90              NaN           NaN   1.480000           4   \n",
       "270          0.35              NaN           NaN   2.083333           3   \n",
       "272         16.60             12.5          13.7  14.266667           3   \n",
       "\n",
       "                    id  fpts _merge  \n",
       "0     luke schoonmaker  14.5   both  \n",
       "1       justin herbert  17.6   both  \n",
       "2         tommy devito  10.8   both  \n",
       "3       caleb williams  29.9   both  \n",
       "4         kyler murray  11.3   both  \n",
       "..                 ...   ...    ...  \n",
       "253     craig reynolds   0.6   both  \n",
       "266     hassan haskins   0.3   both  \n",
       "268    julius chestnut   1.5   both  \n",
       "270  brevyn spann-ford   4.4   both  \n",
       "272      brandon allen  10.5   both  \n",
       "\n",
       "[233 rows x 14 columns]"
      ]
     },
     "execution_count": 168,
     "metadata": {},
     "output_type": "execute_result"
    }
   ],
   "source": [
    "df = final_scored_df(pred_df, score_df)\n",
    "df"
   ]
  },
  {
   "cell_type": "markdown",
   "metadata": {},
   "source": [
    "#### Pick scores"
   ]
  },
  {
   "cell_type": "code",
   "execution_count": 59,
   "metadata": {},
   "outputs": [],
   "source": [
    "week12 = {'mean_pred': 132.5, 'prediction': 144.0, 'prediction_1': 143.4, 'prediction_2': 147.6, \n",
    "          'prediction_3': 197.1, 'prediction_prop': 117.8, 'prediction_4': 117.0}"
   ]
  },
  {
   "cell_type": "code",
   "execution_count": 169,
   "metadata": {},
   "outputs": [
    {
     "name": "stdout",
     "output_type": "stream",
     "text": [
      "1\n",
      "Total predicted points: 128.10083333333333   Total actual points: 132.5   Total Salary: 49900\n",
      "\n",
      "               name  pos  salary  mean_pred  fpts\n",
      "1    Justin Herbert   QB    5400  18.528333  17.6\n",
      "9      Travis Kelce   TE    5800  15.225000  12.2\n",
      "19      Will Dissly   TE    3500   8.676667   8.7\n",
      "27    Jakobi Meyers   WR    5100  12.310000  25.1\n",
      "31    De'Von Achane   RB    7500  18.880000  20.6\n",
      "33  Deandre Hopkins   WR    5400  11.518333  14.5\n",
      "39   Denver Broncos  DST    3200  10.662500  10.0\n",
      "58        Joe Mixon   RB    8000  18.975000   9.5\n",
      "74    Ladd Mcconkey   WR    6000  13.325000  14.3\n"
     ]
    }
   ],
   "source": [
    "team = pick_team(df, 'mean_pred')"
   ]
  },
  {
   "cell_type": "code",
   "execution_count": 170,
   "metadata": {},
   "outputs": [
    {
     "name": "stdout",
     "output_type": "stream",
     "text": [
      "1\n",
      "Total predicted points: 129.13   Total actual points: 144.0   Total Salary: 49900\n",
      "\n",
      "                   name  pos  salary  prediction  fpts\n",
      "0      Luke Schoonmaker   TE    2500        8.38  14.5\n",
      "1        Justin Herbert   QB    5400       17.27  17.6\n",
      "9          Travis Kelce   TE    5800       16.85  12.2\n",
      "22     Cleveland Browns  DST    2600        6.75   7.0\n",
      "27        Jakobi Meyers   WR    5100       12.81  25.1\n",
      "31        De'Von Achane   RB    7500       17.93  20.6\n",
      "32  Christian Mccaffrey   RB    8500       20.40   8.8\n",
      "33      Deandre Hopkins   WR    5400       12.76  14.5\n",
      "35           Puka Nacua   WR    7100       15.98  23.7\n"
     ]
    }
   ],
   "source": [
    "team = pick_team(df, 'prediction')"
   ]
  },
  {
   "cell_type": "code",
   "execution_count": 194,
   "metadata": {},
   "outputs": [
    {
     "name": "stdout",
     "output_type": "stream",
     "text": [
      "1\n",
      "Total predicted points: 141.7   Total actual points: 143.4   Total Salary: 50000\n",
      "\n",
      "              name  pos  salary  prediction_1  fpts\n",
      "5   Jayden Daniels   QB    7000          23.5  32.4\n",
      "9     Travis Kelce   TE    5800          16.8  12.2\n",
      "19     Will Dissly   TE    3500          11.2   8.7\n",
      "27   Jakobi Meyers   WR    5100          12.9  25.1\n",
      "28  Kayshon Boutte   WR    3500           9.1   1.6\n",
      "31   De'Von Achane   RB    7500          21.7  20.6\n",
      "56  Houston Texans  DST    3600           9.8  19.0\n",
      "58       Joe Mixon   RB    8000          21.5   9.5\n",
      "74   Ladd Mcconkey   WR    6000          15.2  14.3\n"
     ]
    }
   ],
   "source": [
    "team = pick_team(df, 'prediction_1')"
   ]
  },
  {
   "cell_type": "code",
   "execution_count": 195,
   "metadata": {},
   "outputs": [
    {
     "name": "stdout",
     "output_type": "stream",
     "text": [
      "1\n",
      "Total predicted points: 139.4   Total actual points: 147.6   Total Salary: 50000\n",
      "\n",
      "                  name  pos  salary  prediction_2  fpts\n",
      "1       Justin Herbert   QB    5400          18.6  17.6\n",
      "9         Travis Kelce   TE    5800          15.0  12.2\n",
      "27       Jakobi Meyers   WR    5100          14.1  25.1\n",
      "39      Denver Broncos  DST    3200          12.3  10.0\n",
      "45        Jahmyr Gibbs   RB    7300          18.8  24.9\n",
      "81       Rachaad White   RB    5400          15.0  11.7\n",
      "93   Amon-Ra St. Brown   WR    8300          19.8  12.2\n",
      "125       Bucky Irving   RB    5300          13.6  27.1\n",
      "134      Joshua Palmer   WR    4200          12.2   6.8\n"
     ]
    }
   ],
   "source": [
    "team = pick_team(df, 'prediction_2')"
   ]
  },
  {
   "cell_type": "code",
   "execution_count": 196,
   "metadata": {},
   "outputs": [
    {
     "name": "stdout",
     "output_type": "stream",
     "text": [
      "1\n",
      "Total predicted points: 128.5   Total actual points: 197.1   Total Salary: 49900\n",
      "\n",
      "                      name  pos  salary  prediction_3  fpts\n",
      "5           Jayden Daniels   QB    7000         24.20  32.4\n",
      "31           De'Von Achane   RB    7500         17.15  20.6\n",
      "42          Terry Mclaurin   WR    6800         13.40  24.2\n",
      "45            Jahmyr Gibbs   RB    7300         17.25  24.9\n",
      "46               Zach Ertz   TE    3800          8.55  15.8\n",
      "56          Houston Texans  DST    3600         17.40  19.0\n",
      "107               Dj Moore   WR    5500         10.30  29.9\n",
      "162  Nick Westbrook-Ikhine   WR    4100          7.65  12.8\n",
      "241         Ameer Abdullah   RB    4300         12.60  17.5\n"
     ]
    }
   ],
   "source": [
    "team = pick_team(df, 'prediction_3')"
   ]
  },
  {
   "cell_type": "code",
   "execution_count": 197,
   "metadata": {},
   "outputs": [
    {
     "name": "stdout",
     "output_type": "stream",
     "text": [
      "1\n",
      "Total predicted points: 122.5   Total actual points: 117.8   Total Salary: 50000\n",
      "\n",
      "                   name  pos  salary  prediction_prop  fpts\n",
      "1        Justin Herbert   QB    5400             18.5  17.6\n",
      "9          Travis Kelce   TE    5800             15.0  12.2\n",
      "27        Jakobi Meyers   WR    5100             12.5  25.1\n",
      "31        De'Von Achane   RB    7500             19.0  20.6\n",
      "43       Brian Robinson   RB    5600             14.0   3.4\n",
      "74        Ladd Mcconkey   WR    6000             14.5  14.3\n",
      "93    Amon-Ra St. Brown   WR    8300             18.5  12.2\n",
      "130        Hunter Henry   TE    4000             10.5   9.4\n",
      "163  Indianapolis Colts  DST    2300              0.0   3.0\n"
     ]
    }
   ],
   "source": [
    "team = pick_team(df, 'prediction_prop')"
   ]
  },
  {
   "cell_type": "code",
   "execution_count": 198,
   "metadata": {},
   "outputs": [
    {
     "name": "stdout",
     "output_type": "stream",
     "text": [
      "1\n",
      "Total predicted points: 124.60000000000001   Total actual points: 117.0   Total Salary: 50000\n",
      "\n",
      "                  name  pos  salary  prediction_4  fpts\n",
      "0     Luke Schoonmaker   TE    2500           8.4  14.5\n",
      "1       Justin Herbert   QB    5400          18.7  17.6\n",
      "9         Travis Kelce   TE    5800          15.5  12.2\n",
      "31       De'Von Achane   RB    7500          19.0  20.6\n",
      "63          Dk Metcalf   WR    6600          15.3   9.9\n",
      "70   Carolina Panthers  DST    2200           0.0   4.0\n",
      "74       Ladd Mcconkey   WR    6000          13.8  14.3\n",
      "93   Amon-Ra St. Brown   WR    8300          18.6  12.2\n",
      "220        Kareem Hunt   RB    5700          15.3  11.7\n"
     ]
    }
   ],
   "source": [
    "team = pick_team(df, 'prediction_4')"
   ]
  },
  {
   "cell_type": "markdown",
   "metadata": {},
   "source": [
    "#### RMSE"
   ]
  },
  {
   "cell_type": "code",
   "execution_count": 173,
   "metadata": {},
   "outputs": [
    {
     "data": {
      "text/plain": [
       "6.568589697853038"
      ]
     },
     "execution_count": 173,
     "metadata": {},
     "output_type": "execute_result"
    }
   ],
   "source": [
    "rmse(df, 'mean_pred', 'fpts')"
   ]
  },
  {
   "cell_type": "code",
   "execution_count": 174,
   "metadata": {},
   "outputs": [
    {
     "data": {
      "text/plain": [
       "6.761557297068854"
      ]
     },
     "execution_count": 174,
     "metadata": {},
     "output_type": "execute_result"
    }
   ],
   "source": [
    "rmse(df, 'prediction', 'fpts')"
   ]
  },
  {
   "cell_type": "code",
   "execution_count": 175,
   "metadata": {},
   "outputs": [
    {
     "data": {
      "text/plain": [
       "6.56774553292691"
      ]
     },
     "execution_count": 175,
     "metadata": {},
     "output_type": "execute_result"
    }
   ],
   "source": [
    "rmse(df, 'prediction_1', 'fpts')"
   ]
  },
  {
   "cell_type": "code",
   "execution_count": 176,
   "metadata": {},
   "outputs": [
    {
     "data": {
      "text/plain": [
       "6.705824852806829"
      ]
     },
     "execution_count": 176,
     "metadata": {},
     "output_type": "execute_result"
    }
   ],
   "source": [
    "rmse(df, 'prediction_2', 'fpts')"
   ]
  },
  {
   "cell_type": "code",
   "execution_count": 177,
   "metadata": {},
   "outputs": [
    {
     "data": {
      "text/plain": [
       "7.17286238200143"
      ]
     },
     "execution_count": 177,
     "metadata": {},
     "output_type": "execute_result"
    }
   ],
   "source": [
    "rmse(df, 'prediction_3', 'fpts')"
   ]
  },
  {
   "cell_type": "code",
   "execution_count": 178,
   "metadata": {},
   "outputs": [
    {
     "data": {
      "text/plain": [
       "8.061682251287303"
      ]
     },
     "execution_count": 178,
     "metadata": {},
     "output_type": "execute_result"
    }
   ],
   "source": [
    "rmse(df, 'prediction_prop', 'fpts')"
   ]
  },
  {
   "cell_type": "code",
   "execution_count": 179,
   "metadata": {},
   "outputs": [
    {
     "data": {
      "text/plain": [
       "8.048294542637281"
      ]
     },
     "execution_count": 179,
     "metadata": {},
     "output_type": "execute_result"
    }
   ],
   "source": [
    "rmse(df, 'prediction_4', 'fpts')"
   ]
  },
  {
   "cell_type": "markdown",
   "metadata": {},
   "source": [
    "## Weekly totals Comparison"
   ]
  },
  {
   "cell_type": "code",
   "execution_count": 60,
   "metadata": {},
   "outputs": [
    {
     "data": {
      "text/html": [
       "<div>\n",
       "<style scoped>\n",
       "    .dataframe tbody tr th:only-of-type {\n",
       "        vertical-align: middle;\n",
       "    }\n",
       "\n",
       "    .dataframe tbody tr th {\n",
       "        vertical-align: top;\n",
       "    }\n",
       "\n",
       "    .dataframe thead th {\n",
       "        text-align: right;\n",
       "    }\n",
       "</style>\n",
       "<table border=\"1\" class=\"dataframe\">\n",
       "  <thead>\n",
       "    <tr style=\"text-align: right;\">\n",
       "      <th></th>\n",
       "      <th>mean_pred</th>\n",
       "      <th>prediction</th>\n",
       "      <th>prediction_1</th>\n",
       "      <th>prediction_2</th>\n",
       "      <th>prediction_3</th>\n",
       "      <th>prediction_prop</th>\n",
       "      <th>prediction_4</th>\n",
       "    </tr>\n",
       "  </thead>\n",
       "  <tbody>\n",
       "    <tr>\n",
       "      <th>0</th>\n",
       "      <td>148.2</td>\n",
       "      <td>170.0</td>\n",
       "      <td>123.3</td>\n",
       "      <td>85.8</td>\n",
       "      <td>NaN</td>\n",
       "      <td>NaN</td>\n",
       "      <td>NaN</td>\n",
       "    </tr>\n",
       "    <tr>\n",
       "      <th>1</th>\n",
       "      <td>164.0</td>\n",
       "      <td>119.2</td>\n",
       "      <td>139.5</td>\n",
       "      <td>190.1</td>\n",
       "      <td>NaN</td>\n",
       "      <td>NaN</td>\n",
       "      <td>NaN</td>\n",
       "    </tr>\n",
       "    <tr>\n",
       "      <th>2</th>\n",
       "      <td>166.1</td>\n",
       "      <td>102.1</td>\n",
       "      <td>165.5</td>\n",
       "      <td>124.6</td>\n",
       "      <td>NaN</td>\n",
       "      <td>NaN</td>\n",
       "      <td>NaN</td>\n",
       "    </tr>\n",
       "    <tr>\n",
       "      <th>3</th>\n",
       "      <td>131.6</td>\n",
       "      <td>121.5</td>\n",
       "      <td>157.5</td>\n",
       "      <td>108.8</td>\n",
       "      <td>NaN</td>\n",
       "      <td>NaN</td>\n",
       "      <td>NaN</td>\n",
       "    </tr>\n",
       "    <tr>\n",
       "      <th>4</th>\n",
       "      <td>132.5</td>\n",
       "      <td>144.0</td>\n",
       "      <td>143.4</td>\n",
       "      <td>147.6</td>\n",
       "      <td>197.1</td>\n",
       "      <td>117.8</td>\n",
       "      <td>117.0</td>\n",
       "    </tr>\n",
       "  </tbody>\n",
       "</table>\n",
       "</div>"
      ],
      "text/plain": [
       "   mean_pred  prediction  prediction_1  prediction_2  prediction_3  \\\n",
       "0      148.2       170.0         123.3          85.8           NaN   \n",
       "1      164.0       119.2         139.5         190.1           NaN   \n",
       "2      166.1       102.1         165.5         124.6           NaN   \n",
       "3      131.6       121.5         157.5         108.8           NaN   \n",
       "4      132.5       144.0         143.4         147.6         197.1   \n",
       "\n",
       "   prediction_prop  prediction_4  \n",
       "0              NaN           NaN  \n",
       "1              NaN           NaN  \n",
       "2              NaN           NaN  \n",
       "3              NaN           NaN  \n",
       "4            117.8         117.0  "
      ]
     },
     "execution_count": 60,
     "metadata": {},
     "output_type": "execute_result"
    }
   ],
   "source": [
    "df = pd.DataFrame([week8, week9, week10, week11, week12])\n",
    "df"
   ]
  },
  {
   "cell_type": "code",
   "execution_count": 66,
   "metadata": {},
   "outputs": [
    {
     "data": {
      "text/plain": [
       "mean_pred          742.4\n",
       "prediction         656.8\n",
       "prediction_1       729.2\n",
       "prediction_2       656.9\n",
       "prediction_3       197.1\n",
       "prediction_prop    117.8\n",
       "prediction_4       117.0\n",
       "dtype: float64"
      ]
     },
     "execution_count": 66,
     "metadata": {},
     "output_type": "execute_result"
    }
   ],
   "source": [
    "df.sum()"
   ]
  },
  {
   "cell_type": "code",
   "execution_count": 67,
   "metadata": {},
   "outputs": [
    {
     "data": {
      "text/plain": [
       "mean_pred          148.48\n",
       "prediction         131.36\n",
       "prediction_1       145.84\n",
       "prediction_2       131.38\n",
       "prediction_3       197.10\n",
       "prediction_prop    117.80\n",
       "prediction_4       117.00\n",
       "dtype: float64"
      ]
     },
     "execution_count": 67,
     "metadata": {},
     "output_type": "execute_result"
    }
   ],
   "source": [
    "df.mean()"
   ]
  },
  {
   "cell_type": "code",
   "execution_count": 68,
   "metadata": {},
   "outputs": [],
   "source": [
    "# %pip install matplotlib"
   ]
  },
  {
   "cell_type": "code",
   "execution_count": 64,
   "metadata": {},
   "outputs": [
    {
     "name": "stderr",
     "output_type": "stream",
     "text": [
      "Matplotlib is building the font cache; this may take a moment.\n"
     ]
    }
   ],
   "source": [
    "import matplotlib.pyplot as plt"
   ]
  },
  {
   "cell_type": "code",
   "execution_count": 65,
   "metadata": {},
   "outputs": [
    {
     "data": {
      "image/png": "[encoded data removed]",
      "text/plain": [
       "<Figure size 640x480 with 1 Axes>"
      ]
     },
     "metadata": {},
     "output_type": "display_data"
    }
   ],
   "source": [
    "df.plot()\n",
    "plt.show()"
   ]
  },
  {
   "cell_type": "code",
   "execution_count": null,
   "metadata": {},
   "outputs": [],
   "source": []
  }
 ],
 "metadata": {
  "kernelspec": {
   "display_name": "Python 3 (ipykernel)",
   "language": "python",
   "name": "python3"
  },
  "language_info": {
   "codemirror_mode": {
    "name": "ipython",
    "version": 3
   },
   "file_extension": ".py",
   "mimetype": "text/x-python",
   "name": "python",
   "nbconvert_exporter": "python",
   "pygments_lexer": "ipython3",
   "version": "3.12.6"
  },
  "varInspector": {
   "cols": {
    "lenName": 16,
    "lenType": 16,
    "lenVar": 40
   },
   "kernels_config": {
    "python": {
     "delete_cmd_postfix": "",
     "delete_cmd_prefix": "del ",
     "library": "var_list.py",
     "varRefreshCmd": "print(var_dic_list())"
    },
    "r": {
     "delete_cmd_postfix": ") ",
     "delete_cmd_prefix": "rm(",
     "library": "var_list.r",
     "varRefreshCmd": "cat(var_dic_list()) "
    }
   },
   "types_to_exclude": [
    "module",
    "function",
    "builtin_function_or_method",
    "instance",
    "_Feature"
   ],
   "window_display": false
  }
 },
 "nbformat": 4,
 "nbformat_minor": 4
}
