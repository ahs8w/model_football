{
 "cells": [
  {
   "cell_type": "code",
   "execution_count": null,
   "metadata": {},
   "outputs": [],
   "source": [
    "# SOURCE:\n",
    "# https://github.com/breeko/Fantasy_LP/blob/master/fantasy_lp_final.ipynb"
   ]
  },
  {
   "cell_type": "code",
   "execution_count": null,
   "metadata": {},
   "outputs": [],
   "source": [
    "# !python -m pip install pulp"
   ]
  },
  {
   "cell_type": "code",
   "execution_count": 1,
   "metadata": {
    "ExecuteTime": {
     "end_time": "2021-10-19T01:12:21.619318Z",
     "start_time": "2021-10-19T01:12:21.293395Z"
    }
   },
   "outputs": [],
   "source": [
    "import urllib, json\n",
    "import pandas as pd\n",
    "import re\n",
    "from itertools import permutations\n",
    "\n",
    "from pulp import *"
   ]
  },
  {
   "cell_type": "markdown",
   "metadata": {},
   "source": [
    "# Fantasy Football Using Linear Progamming\n",
    "\n",
    "I'll be using python, pandas and PuLP to make my decision. We'll be working off the naive assumption that whatever the person scored last time, he will score this time and we'll optimize for the highest possible score given our salary and position constraints.\n",
    "\n",
    "First we have to download and clean up the data a bit."
   ]
  },
  {
   "cell_type": "code",
   "execution_count": 2,
   "metadata": {
    "ExecuteTime": {
     "end_time": "2021-10-19T01:12:47.115634Z",
     "start_time": "2021-10-19T01:12:47.113479Z"
    }
   },
   "outputs": [],
   "source": [
    "LATEST_URL = \"https://api.draftkings.com/draftgroups/v1/draftgroups/21434/draftables?format=json\""
   ]
  },
  {
   "cell_type": "code",
   "execution_count": 3,
   "metadata": {
    "ExecuteTime": {
     "end_time": "2021-10-19T01:12:48.983679Z",
     "start_time": "2021-10-19T01:12:47.665119Z"
    }
   },
   "outputs": [],
   "source": [
    "response = urllib.request.urlopen(LATEST_URL)\n",
    "data = json.loads(response.read())\n",
    "current = pd.DataFrame.from_dict(data[\"draftables\"])"
   ]
  },
  {
   "cell_type": "code",
   "execution_count": 4,
   "metadata": {
    "ExecuteTime": {
     "end_time": "2021-10-19T01:12:49.074759Z",
     "start_time": "2021-10-19T01:12:49.071722Z"
    }
   },
   "outputs": [],
   "source": [
    "# Remove players that are out or questionable\n",
    "current = current[current.status == \"None\"]"
   ]
  },
  {
   "cell_type": "code",
   "execution_count": 5,
   "metadata": {
    "ExecuteTime": {
     "end_time": "2021-10-19T01:12:49.634017Z",
     "start_time": "2021-10-19T01:12:49.595203Z"
    }
   },
   "outputs": [
    {
     "data": {
      "text/html": [
       "<div>\n",
       "<style scoped>\n",
       "    .dataframe tbody tr th:only-of-type {\n",
       "        vertical-align: middle;\n",
       "    }\n",
       "\n",
       "    .dataframe tbody tr th {\n",
       "        vertical-align: top;\n",
       "    }\n",
       "\n",
       "    .dataframe thead th {\n",
       "        text-align: right;\n",
       "    }\n",
       "</style>\n",
       "<table border=\"1\" class=\"dataframe\">\n",
       "  <thead>\n",
       "    <tr style=\"text-align: right;\">\n",
       "      <th></th>\n",
       "      <th>draftableId</th>\n",
       "      <th>firstName</th>\n",
       "      <th>lastName</th>\n",
       "      <th>displayName</th>\n",
       "      <th>shortName</th>\n",
       "      <th>playerId</th>\n",
       "      <th>playerDkId</th>\n",
       "      <th>position</th>\n",
       "      <th>rosterSlotId</th>\n",
       "      <th>salary</th>\n",
       "      <th>...</th>\n",
       "      <th>playerImage50</th>\n",
       "      <th>playerImage160</th>\n",
       "      <th>competition</th>\n",
       "      <th>draftStatAttributes</th>\n",
       "      <th>playerAttributes</th>\n",
       "      <th>playerGameAttributes</th>\n",
       "      <th>teamId</th>\n",
       "      <th>teamAbbreviation</th>\n",
       "      <th>draftAlerts</th>\n",
       "      <th>playerGameHash</th>\n",
       "    </tr>\n",
       "  </thead>\n",
       "  <tbody>\n",
       "    <tr>\n",
       "      <th>0</th>\n",
       "      <td>11239044</td>\n",
       "      <td>Alvin</td>\n",
       "      <td>Kamara</td>\n",
       "      <td>Alvin Kamara</td>\n",
       "      <td>A. Kamara</td>\n",
       "      <td>750846</td>\n",
       "      <td>0</td>\n",
       "      <td>RB</td>\n",
       "      <td>67</td>\n",
       "      <td>9500</td>\n",
       "      <td>...</td>\n",
       "      <td>https://d327rxwuxd0q0c.cloudfront.net/m/nfl_50...</td>\n",
       "      <td>https://d327rxwuxd0q0c.cloudfront.net/m/nfl_re...</td>\n",
       "      <td>{'competitionId': 5523589, 'name': 'CLE @ NO',...</td>\n",
       "      <td>[{'id': 90, 'value': '32.0', 'sortValue': '32....</td>\n",
       "      <td>[]</td>\n",
       "      <td>[]</td>\n",
       "      <td>350</td>\n",
       "      <td>NO</td>\n",
       "      <td>[]</td>\n",
       "      <td>750846-5523589</td>\n",
       "    </tr>\n",
       "    <tr>\n",
       "      <th>1</th>\n",
       "      <td>11239045</td>\n",
       "      <td>Alvin</td>\n",
       "      <td>Kamara</td>\n",
       "      <td>Alvin Kamara</td>\n",
       "      <td>A. Kamara</td>\n",
       "      <td>750846</td>\n",
       "      <td>0</td>\n",
       "      <td>RB</td>\n",
       "      <td>70</td>\n",
       "      <td>9500</td>\n",
       "      <td>...</td>\n",
       "      <td>https://d327rxwuxd0q0c.cloudfront.net/m/nfl_50...</td>\n",
       "      <td>https://d327rxwuxd0q0c.cloudfront.net/m/nfl_re...</td>\n",
       "      <td>{'competitionId': 5523589, 'name': 'CLE @ NO',...</td>\n",
       "      <td>[{'id': 90, 'value': '32.0', 'sortValue': '32....</td>\n",
       "      <td>[]</td>\n",
       "      <td>[]</td>\n",
       "      <td>350</td>\n",
       "      <td>NO</td>\n",
       "      <td>[]</td>\n",
       "      <td>750846-5523589</td>\n",
       "    </tr>\n",
       "    <tr>\n",
       "      <th>2</th>\n",
       "      <td>11239046</td>\n",
       "      <td>Todd</td>\n",
       "      <td>Gurley II</td>\n",
       "      <td>Todd Gurley II</td>\n",
       "      <td>T. Gurley II</td>\n",
       "      <td>694641</td>\n",
       "      <td>0</td>\n",
       "      <td>RB</td>\n",
       "      <td>67</td>\n",
       "      <td>9200</td>\n",
       "      <td>...</td>\n",
       "      <td>https://d327rxwuxd0q0c.cloudfront.net/m/nfl_50...</td>\n",
       "      <td>https://d327rxwuxd0q0c.cloudfront.net/m/nfl_re...</td>\n",
       "      <td>{'competitionId': 5523601, 'name': 'ARI @ LAR'...</td>\n",
       "      <td>[{'id': 90, 'value': '29.5', 'sortValue': '29....</td>\n",
       "      <td>[]</td>\n",
       "      <td>[]</td>\n",
       "      <td>343</td>\n",
       "      <td>LAR</td>\n",
       "      <td>[]</td>\n",
       "      <td>694641-5523601</td>\n",
       "    </tr>\n",
       "    <tr>\n",
       "      <th>3</th>\n",
       "      <td>11239047</td>\n",
       "      <td>Todd</td>\n",
       "      <td>Gurley II</td>\n",
       "      <td>Todd Gurley II</td>\n",
       "      <td>T. Gurley II</td>\n",
       "      <td>694641</td>\n",
       "      <td>0</td>\n",
       "      <td>RB</td>\n",
       "      <td>70</td>\n",
       "      <td>9200</td>\n",
       "      <td>...</td>\n",
       "      <td>https://d327rxwuxd0q0c.cloudfront.net/m/nfl_50...</td>\n",
       "      <td>https://d327rxwuxd0q0c.cloudfront.net/m/nfl_re...</td>\n",
       "      <td>{'competitionId': 5523601, 'name': 'ARI @ LAR'...</td>\n",
       "      <td>[{'id': 90, 'value': '29.5', 'sortValue': '29....</td>\n",
       "      <td>[]</td>\n",
       "      <td>[]</td>\n",
       "      <td>343</td>\n",
       "      <td>LAR</td>\n",
       "      <td>[]</td>\n",
       "      <td>694641-5523601</td>\n",
       "    </tr>\n",
       "    <tr>\n",
       "      <th>6</th>\n",
       "      <td>11239276</td>\n",
       "      <td>Antonio</td>\n",
       "      <td>Brown</td>\n",
       "      <td>Antonio Brown</td>\n",
       "      <td>A. Brown</td>\n",
       "      <td>406214</td>\n",
       "      <td>0</td>\n",
       "      <td>WR</td>\n",
       "      <td>68</td>\n",
       "      <td>8800</td>\n",
       "      <td>...</td>\n",
       "      <td>https://d327rxwuxd0q0c.cloudfront.net/m/nfl_50...</td>\n",
       "      <td>https://d327rxwuxd0q0c.cloudfront.net/m/nfl_re...</td>\n",
       "      <td>{'competitionId': 5523565, 'name': 'KC @ PIT',...</td>\n",
       "      <td>[{'id': 90, 'value': '20.0', 'sortValue': '20....</td>\n",
       "      <td>[]</td>\n",
       "      <td>[]</td>\n",
       "      <td>356</td>\n",
       "      <td>PIT</td>\n",
       "      <td>[]</td>\n",
       "      <td>406214-5523565</td>\n",
       "    </tr>\n",
       "  </tbody>\n",
       "</table>\n",
       "<p>5 rows × 24 columns</p>\n",
       "</div>"
      ],
      "text/plain": [
       "   draftableId firstName   lastName     displayName     shortName  playerId  \\\n",
       "0     11239044     Alvin     Kamara    Alvin Kamara     A. Kamara    750846   \n",
       "1     11239045     Alvin     Kamara    Alvin Kamara     A. Kamara    750846   \n",
       "2     11239046      Todd  Gurley II  Todd Gurley II  T. Gurley II    694641   \n",
       "3     11239047      Todd  Gurley II  Todd Gurley II  T. Gurley II    694641   \n",
       "6     11239276   Antonio      Brown   Antonio Brown      A. Brown    406214   \n",
       "\n",
       "   playerDkId position  rosterSlotId  salary  ...  \\\n",
       "0           0       RB            67    9500  ...   \n",
       "1           0       RB            70    9500  ...   \n",
       "2           0       RB            67    9200  ...   \n",
       "3           0       RB            70    9200  ...   \n",
       "6           0       WR            68    8800  ...   \n",
       "\n",
       "                                       playerImage50  \\\n",
       "0  https://d327rxwuxd0q0c.cloudfront.net/m/nfl_50...   \n",
       "1  https://d327rxwuxd0q0c.cloudfront.net/m/nfl_50...   \n",
       "2  https://d327rxwuxd0q0c.cloudfront.net/m/nfl_50...   \n",
       "3  https://d327rxwuxd0q0c.cloudfront.net/m/nfl_50...   \n",
       "6  https://d327rxwuxd0q0c.cloudfront.net/m/nfl_50...   \n",
       "\n",
       "                                      playerImage160  \\\n",
       "0  https://d327rxwuxd0q0c.cloudfront.net/m/nfl_re...   \n",
       "1  https://d327rxwuxd0q0c.cloudfront.net/m/nfl_re...   \n",
       "2  https://d327rxwuxd0q0c.cloudfront.net/m/nfl_re...   \n",
       "3  https://d327rxwuxd0q0c.cloudfront.net/m/nfl_re...   \n",
       "6  https://d327rxwuxd0q0c.cloudfront.net/m/nfl_re...   \n",
       "\n",
       "                                         competition  \\\n",
       "0  {'competitionId': 5523589, 'name': 'CLE @ NO',...   \n",
       "1  {'competitionId': 5523589, 'name': 'CLE @ NO',...   \n",
       "2  {'competitionId': 5523601, 'name': 'ARI @ LAR'...   \n",
       "3  {'competitionId': 5523601, 'name': 'ARI @ LAR'...   \n",
       "6  {'competitionId': 5523565, 'name': 'KC @ PIT',...   \n",
       "\n",
       "                                 draftStatAttributes playerAttributes  \\\n",
       "0  [{'id': 90, 'value': '32.0', 'sortValue': '32....               []   \n",
       "1  [{'id': 90, 'value': '32.0', 'sortValue': '32....               []   \n",
       "2  [{'id': 90, 'value': '29.5', 'sortValue': '29....               []   \n",
       "3  [{'id': 90, 'value': '29.5', 'sortValue': '29....               []   \n",
       "6  [{'id': 90, 'value': '20.0', 'sortValue': '20....               []   \n",
       "\n",
       "  playerGameAttributes teamId teamAbbreviation draftAlerts  playerGameHash  \n",
       "0                   []    350               NO          []  750846-5523589  \n",
       "1                   []    350               NO          []  750846-5523589  \n",
       "2                   []    343              LAR          []  694641-5523601  \n",
       "3                   []    343              LAR          []  694641-5523601  \n",
       "6                   []    356              PIT          []  406214-5523565  \n",
       "\n",
       "[5 rows x 24 columns]"
      ]
     },
     "execution_count": 5,
     "metadata": {},
     "output_type": "execute_result"
    }
   ],
   "source": [
    "current.head()"
   ]
  },
  {
   "cell_type": "markdown",
   "metadata": {},
   "source": [
    "The previous points the player scored is nested inside a \"draftStatAttributes\" field. For some reason its in a list. What we want is the \"value\" float in the list. It's not always the first element so we need to extract that."
   ]
  },
  {
   "cell_type": "code",
   "execution_count": 6,
   "metadata": {
    "ExecuteTime": {
     "end_time": "2021-10-19T01:12:53.424632Z",
     "start_time": "2021-10-19T01:12:53.421490Z"
    }
   },
   "outputs": [],
   "source": [
    "def get_float(l, key):\n",
    "    \"\"\" Returns first float value from a list of dictionaries based on key. Defaults to 0.0 \"\"\"\n",
    "    for d in l:\n",
    "        try:\n",
    "            return float(d.get(key))\n",
    "        except:\n",
    "            pass\n",
    "    return 0.0"
   ]
  },
  {
   "cell_type": "code",
   "execution_count": 7,
   "metadata": {
    "ExecuteTime": {
     "end_time": "2021-10-19T01:12:54.151731Z",
     "start_time": "2021-10-19T01:12:54.147851Z"
    }
   },
   "outputs": [],
   "source": [
    "points = [get_float(x, \"value\") for x in current.draftStatAttributes]\n",
    "current[\"points\"] = points"
   ]
  },
  {
   "cell_type": "markdown",
   "metadata": {},
   "source": [
    "We now have everything we need. A few of the records are duplicated, so we can just trim everything down and group by the fields we need: position, displayName, salary and points."
   ]
  },
  {
   "cell_type": "code",
   "execution_count": 8,
   "metadata": {
    "ExecuteTime": {
     "end_time": "2021-10-19T01:12:57.711251Z",
     "start_time": "2021-10-19T01:12:57.702424Z"
    }
   },
   "outputs": [],
   "source": [
    "availables = current[[\"position\", \"displayName\", \"salary\", \"points\"]].groupby([\"position\", \"displayName\", \"salary\", \"points\"]).agg(\"count\")\n",
    "availables = availables.reset_index()"
   ]
  },
  {
   "cell_type": "code",
   "execution_count": 11,
   "metadata": {
    "ExecuteTime": {
     "end_time": "2021-10-19T01:13:08.588138Z",
     "start_time": "2021-10-19T01:13:08.579289Z"
    }
   },
   "outputs": [
    {
     "data": {
      "text/html": [
       "<div>\n",
       "<style scoped>\n",
       "    .dataframe tbody tr th:only-of-type {\n",
       "        vertical-align: middle;\n",
       "    }\n",
       "\n",
       "    .dataframe tbody tr th {\n",
       "        vertical-align: top;\n",
       "    }\n",
       "\n",
       "    .dataframe thead th {\n",
       "        text-align: right;\n",
       "    }\n",
       "</style>\n",
       "<table border=\"1\" class=\"dataframe\">\n",
       "  <thead>\n",
       "    <tr style=\"text-align: right;\">\n",
       "      <th></th>\n",
       "      <th>position</th>\n",
       "      <th>displayName</th>\n",
       "      <th>salary</th>\n",
       "      <th>points</th>\n",
       "    </tr>\n",
       "  </thead>\n",
       "  <tbody>\n",
       "    <tr>\n",
       "      <th>86</th>\n",
       "      <td>RB</td>\n",
       "      <td>Aaron Jones</td>\n",
       "      <td>5000</td>\n",
       "      <td>0.0</td>\n",
       "    </tr>\n",
       "    <tr>\n",
       "      <th>87</th>\n",
       "      <td>RB</td>\n",
       "      <td>Adrian Peterson</td>\n",
       "      <td>5500</td>\n",
       "      <td>15.8</td>\n",
       "    </tr>\n",
       "    <tr>\n",
       "      <th>88</th>\n",
       "      <td>RB</td>\n",
       "      <td>Alex Armah</td>\n",
       "      <td>3000</td>\n",
       "      <td>3.3</td>\n",
       "    </tr>\n",
       "    <tr>\n",
       "      <th>89</th>\n",
       "      <td>RB</td>\n",
       "      <td>Alfred Blue</td>\n",
       "      <td>3900</td>\n",
       "      <td>6.6</td>\n",
       "    </tr>\n",
       "    <tr>\n",
       "      <th>90</th>\n",
       "      <td>RB</td>\n",
       "      <td>Alfred Morris</td>\n",
       "      <td>3600</td>\n",
       "      <td>6.4</td>\n",
       "    </tr>\n",
       "    <tr>\n",
       "      <th>91</th>\n",
       "      <td>RB</td>\n",
       "      <td>Alvin Kamara</td>\n",
       "      <td>9500</td>\n",
       "      <td>32.0</td>\n",
       "    </tr>\n",
       "    <tr>\n",
       "      <th>92</th>\n",
       "      <td>RB</td>\n",
       "      <td>Ameer Abdullah</td>\n",
       "      <td>3600</td>\n",
       "      <td>0.0</td>\n",
       "    </tr>\n",
       "    <tr>\n",
       "      <th>93</th>\n",
       "      <td>RB</td>\n",
       "      <td>Andy Janovich</td>\n",
       "      <td>3000</td>\n",
       "      <td>1.1</td>\n",
       "    </tr>\n",
       "    <tr>\n",
       "      <th>94</th>\n",
       "      <td>RB</td>\n",
       "      <td>Anthony Sherman</td>\n",
       "      <td>3000</td>\n",
       "      <td>5.3</td>\n",
       "    </tr>\n",
       "    <tr>\n",
       "      <th>95</th>\n",
       "      <td>RB</td>\n",
       "      <td>Austin Ekeler</td>\n",
       "      <td>4400</td>\n",
       "      <td>18.2</td>\n",
       "    </tr>\n",
       "  </tbody>\n",
       "</table>\n",
       "</div>"
      ],
      "text/plain": [
       "   position      displayName  salary  points\n",
       "86       RB      Aaron Jones    5000     0.0\n",
       "87       RB  Adrian Peterson    5500    15.8\n",
       "88       RB       Alex Armah    3000     3.3\n",
       "89       RB      Alfred Blue    3900     6.6\n",
       "90       RB    Alfred Morris    3600     6.4\n",
       "91       RB     Alvin Kamara    9500    32.0\n",
       "92       RB   Ameer Abdullah    3600     0.0\n",
       "93       RB    Andy Janovich    3000     1.1\n",
       "94       RB  Anthony Sherman    3000     5.3\n",
       "95       RB    Austin Ekeler    4400    18.2"
      ]
     },
     "execution_count": 11,
     "metadata": {},
     "output_type": "execute_result"
    }
   ],
   "source": [
    "availables[availables.position==\"RB\"].head(10)"
   ]
  },
  {
   "cell_type": "markdown",
   "metadata": {},
   "source": [
    "Since we have a constraint on position (i.e. only one QB, two RB, etc), we need to pivot our salaries and points on position. We also need to define the number of each position we will be constrained to."
   ]
  },
  {
   "cell_type": "markdown",
   "metadata": {},
   "source": [
    "DraftKings has a Flex position that can be filled by any running back, wide receiver or tight end. In order to allow an extra running back, wide receiver or tight end, we'll need to increase the allocation for these conditions by 1 and put in an extra condition that says that we cannot pick more 5 total for those."
   ]
  },
  {
   "cell_type": "code",
   "execution_count": 12,
   "metadata": {
    "ExecuteTime": {
     "end_time": "2021-10-19T01:15:35.052559Z",
     "start_time": "2021-10-19T01:15:35.032329Z"
    }
   },
   "outputs": [],
   "source": [
    "salaries = {}\n",
    "points = {}\n",
    "for pos in availables.position.unique():\n",
    "    available_pos = availables[availables.position == pos]\n",
    "    salary = list(available_pos[[\"displayName\",\"salary\"]].set_index(\"displayName\").to_dict().values())[0]\n",
    "    point = list(available_pos[[\"displayName\",\"points\"]].set_index(\"displayName\").to_dict().values())[0]\n",
    "    salaries[pos] = salary\n",
    "    points[pos] = point\n",
    "\n",
    "pos_num_available = {\n",
    "    \"QB\": 1,\n",
    "    \"RB\": 3,\n",
    "    \"WR\": 4,\n",
    "    \"TE\": 2,\n",
    "    \"FLEX\": 1,\n",
    "    \"DST\": 1\n",
    "}\n",
    "\n",
    "pos_flex = {\n",
    "    \"QB\": 0,\n",
    "    \"RB\": 1,\n",
    "    \"WR\": 1,\n",
    "    \"TE\": 1,\n",
    "    \"FLEX\": 0,\n",
    "    \"DST\": 0\n",
    "}\n",
    "\n",
    "pos_flex_available = 5"
   ]
  },
  {
   "cell_type": "markdown",
   "metadata": {},
   "source": [
    "If we look at the salaries variable, it's just a dictionary of player names and salaries pivoted on position. points is the same."
   ]
  },
  {
   "cell_type": "code",
   "execution_count": 21,
   "metadata": {
    "ExecuteTime": {
     "end_time": "2021-10-19T01:17:18.803165Z",
     "start_time": "2021-10-19T01:17:18.798307Z"
    }
   },
   "outputs": [
    {
     "data": {
      "text/plain": [
       "{'A.J. Derby': 2500,\n",
       " 'Alan Cross': 2500,\n",
       " 'Alex Ellis': 2500,\n",
       " 'Anthony Firkser': 2500,\n",
       " 'Antony Auclair': 2500,\n",
       " 'Austin Hooper': 2900,\n",
       " 'Austin Seferian-Jenkins': 3200,\n",
       " 'Beau Brinkley': 2500,\n",
       " 'Benjamin Watson': 3400,\n",
       " 'Cameron Brate': 2800,\n",
       " 'Charles Clay': 3100,\n",
       " 'Chris Herndon': 2500,\n",
       " 'Chris Manhertz': 2500,\n",
       " 'Cole Wick': 2500,\n",
       " 'Dallas Goedert': 2700,\n",
       " 'Dan Arnold': 2500,\n",
       " 'Darren Fells': 2500,\n",
       " 'David Njoku': 3000,\n",
       " 'Demetrius Harris': 2700,\n",
       " 'Derek Carrier': 2500,\n",
       " 'Durham Smythe': 2500,\n",
       " 'Dwayne Allen': 2600,\n",
       " 'Eric Ebron': 3500,\n",
       " 'Eric Saubert': 2500,\n",
       " 'Eric Tomlinson': 2500,\n",
       " 'Erik Swoope': 2500,\n",
       " 'Gabe Holmes': 2500,\n",
       " 'Garrett Celek': 2600,\n",
       " 'Gavin Escobar': 2500,\n",
       " 'George Kittle': 3800,\n",
       " 'Gerald Everett': 2500,\n",
       " 'Hakeem Valles': 2700,\n",
       " 'Ian Thomas': 2900,\n",
       " 'Jake Butt': 2700,\n",
       " \"James O'Shaughnessy\": 2500,\n",
       " 'James Winchester': 2500,\n",
       " 'Jared Cook': 3600,\n",
       " 'Jason Croom': 2500,\n",
       " 'Jeff Heuerman': 2500,\n",
       " 'Jeremy Sprinkle': 2500,\n",
       " 'Jesse James': 2800,\n",
       " 'Jimmy Graham': 4800,\n",
       " 'Johnny Mundt': 2500,\n",
       " 'Jonnu Smith': 3100,\n",
       " 'Jordan Akins': 2600,\n",
       " 'Jordan Leggett': 2600,\n",
       " 'Jordan Reed': 5000,\n",
       " 'Jordan Thomas': 2500,\n",
       " 'Josh Hill': 2500,\n",
       " 'Joshua Perkins': 2500,\n",
       " 'Kevin McDermott': 2500,\n",
       " 'Khari Lee': 2500,\n",
       " 'Kyle Nelson': 2500,\n",
       " 'Kyle Rudolph': 4200,\n",
       " 'Lance Kendricks': 2500,\n",
       " 'Lee Smith': 2500,\n",
       " 'Levine Toilolo': 2500,\n",
       " 'Logan Paulsen': 2500,\n",
       " 'Logan Thomas': 2500,\n",
       " 'Luke Stocker': 2500,\n",
       " 'Luke Willson': 3000,\n",
       " 'Marcedes Lewis': 2500,\n",
       " 'Matt LaCosse': 2500,\n",
       " 'Michael Roberts': 2500,\n",
       " 'Mike Gesicki': 2800,\n",
       " 'Niles Paul': 2500,\n",
       " 'O.J. Howard': 3200,\n",
       " 'Orson Charles': 2500,\n",
       " 'Ricky Seals-Jones': 2900,\n",
       " 'Rob Gronkowski': 7000,\n",
       " 'Robert Tonyan': 2500,\n",
       " 'Ryan Griffin': 2700,\n",
       " 'Ryan Hewitt': 2500,\n",
       " 'Sean Culkin': 2500,\n",
       " 'Travis Kelce': 5900,\n",
       " 'Tyler Conklin': 2500,\n",
       " 'Tyler Higbee': 2800,\n",
       " 'Vance McDonald': 3100,\n",
       " 'Vernon Davis': 3300,\n",
       " 'Virgil Green': 2700,\n",
       " 'Xavier Grimble': 2500,\n",
       " 'Zach Ertz': 6100}"
      ]
     },
     "execution_count": 21,
     "metadata": {},
     "output_type": "execute_result"
    }
   ],
   "source": [
    "salaries[\"TE\"]"
   ]
  },
  {
   "cell_type": "code",
   "execution_count": 22,
   "metadata": {
    "ExecuteTime": {
     "end_time": "2021-10-19T01:18:07.554700Z",
     "start_time": "2021-10-19T01:18:07.552501Z"
    }
   },
   "outputs": [],
   "source": [
    "SALARY_CAP = 50000"
   ]
  },
  {
   "cell_type": "markdown",
   "metadata": {},
   "source": [
    "Now we have to define our variables. We want a variables for each position (e.g. QB). There will be an index for each player and the variable will be binary (0 or 1) meant to represent whether the player is included or excluded."
   ]
  },
  {
   "cell_type": "code",
   "execution_count": 23,
   "metadata": {
    "ExecuteTime": {
     "end_time": "2021-10-19T01:18:17.423368Z",
     "start_time": "2021-10-19T01:18:17.418770Z"
    }
   },
   "outputs": [],
   "source": [
    "_vars = {k: LpVariable.dict(k, v, cat=\"Binary\") for k, v in points.items()}"
   ]
  },
  {
   "cell_type": "markdown",
   "metadata": {},
   "source": [
    "Now we can setup our problem. Our cost will just be our salaries indexed for the player times 0 if we are choosing that player and 1 if we're not. Same is true for our reward. And finally we have a constraint on the positions available that we had defined earlier."
   ]
  },
  {
   "cell_type": "code",
   "execution_count": 26,
   "metadata": {
    "ExecuteTime": {
     "end_time": "2021-10-19T02:25:29.308559Z",
     "start_time": "2021-10-19T02:25:29.292501Z"
    }
   },
   "outputs": [],
   "source": [
    "prob = LpProblem(\"Fantasy\", LpMaximize)\n",
    "rewards = []\n",
    "costs = []\n",
    "position_constraints = []\n",
    "\n",
    "# Setting up the reward\n",
    "for k, v in _vars.items():\n",
    "    costs += lpSum([salaries[k][i] * _vars[k][i] for i in v])\n",
    "    rewards += lpSum([points[k][i] * _vars[k][i] for i in v])\n",
    "    prob += lpSum([_vars[k][i] for i in v]) <= pos_num_available[k]\n",
    "    prob += lpSum([pos_flex[k] * _vars[k][i] for i in v]) <= pos_flex_available\n",
    "    \n",
    "prob += lpSum(rewards)\n",
    "prob += lpSum(costs) <= SALARY_CAP"
   ]
  },
  {
   "cell_type": "code",
   "execution_count": 27,
   "metadata": {
    "ExecuteTime": {
     "end_time": "2021-10-19T02:25:32.001517Z",
     "start_time": "2021-10-19T02:25:30.709520Z"
    }
   },
   "outputs": [
    {
     "data": {
      "text/plain": [
       "1"
      ]
     },
     "execution_count": 27,
     "metadata": {},
     "output_type": "execute_result"
    }
   ],
   "source": [
    "prob.solve()"
   ]
  },
  {
   "cell_type": "markdown",
   "metadata": {},
   "source": [
    "The prob object is now solved. It has a variables function that has all our variables and each variable has a varValue which will be either 0 or 1. Below is a helper function to display the results."
   ]
  },
  {
   "cell_type": "code",
   "execution_count": 28,
   "metadata": {
    "ExecuteTime": {
     "end_time": "2021-10-19T02:25:36.041153Z",
     "start_time": "2021-10-19T02:25:36.036505Z"
    }
   },
   "outputs": [],
   "source": [
    "def summary(prob):\n",
    "    div = '---------------------------------------\\n'\n",
    "    print(\"Variables:\\n\")\n",
    "    score = str(prob.objective)\n",
    "    constraints = [str(const) for const in prob.constraints.values()]\n",
    "    for v in prob.variables():\n",
    "        score = score.replace(v.name, str(v.varValue))\n",
    "        constraints = [const.replace(v.name, str(v.varValue)) for const in constraints]\n",
    "        if v.varValue != 0:\n",
    "            print(v.name, \"=\", v.varValue)\n",
    "    print(div)\n",
    "    print(\"Constraints:\")\n",
    "    for constraint in constraints:\n",
    "        constraint_pretty = \" + \".join(re.findall(\"[0-9\\.]*\\*1.0\", constraint))\n",
    "        if constraint_pretty != \"\":\n",
    "            print(\"{} = {}\".format(constraint_pretty, eval(constraint_pretty)))\n",
    "    print(div)\n",
    "    print(\"Score:\")\n",
    "    score_pretty = \" + \".join(re.findall(\"[0-9\\.]+\\*1.0\", score))\n",
    "    print(\"{} = {}\".format(score_pretty, eval(score)))"
   ]
  },
  {
   "cell_type": "code",
   "execution_count": 29,
   "metadata": {
    "ExecuteTime": {
     "end_time": "2021-10-19T02:25:39.295886Z",
     "start_time": "2021-10-19T02:25:39.282072Z"
    }
   },
   "outputs": [
    {
     "name": "stdout",
     "output_type": "stream",
     "text": [
      "Variables:\n",
      "\n",
      "DST_Jets_ = 1.0\n",
      "QB_Ryan_Fitzpatrick = 1.0\n",
      "RB_James_Conner = 1.0\n",
      "RB_Melvin_Gordon_III = 1.0\n",
      "TE_Jared_Cook = 1.0\n",
      "TE_Jesse_James = 1.0\n",
      "WR_DeSean_Jackson = 1.0\n",
      "WR_JuJu_Smith_Schuster = 1.0\n",
      "WR_Kenny_Golladay = 1.0\n",
      "WR_Will_Fuller_V = 1.0\n",
      "---------------------------------------\n",
      "\n",
      "Constraints:\n",
      "2500*1.0 + 5500*1.0 + 6700*1.0 + 7400*1.0 + 3600*1.0 + 2800*1.0 + 4900*1.0 + 6400*1.0 + 4800*1.0 + 5300*1.0 = 49900.0\n",
      "---------------------------------------\n",
      "\n",
      "Score:\n",
      "13.0*1.0 + 39.6*1.0 + 28.9*1.0 + 30.6*1.0 + 19.5*1.0 + 18.4*1.0 + 30.3*1.0 + 27.0*1.0 + 21.2*1.0 + 28.3*1.0 = 256.8\n"
     ]
    }
   ],
   "source": [
    "summary(prob)"
   ]
  },
  {
   "cell_type": "markdown",
   "metadata": {},
   "source": [
    "## Greedy Search"
   ]
  },
  {
   "cell_type": "markdown",
   "metadata": {},
   "source": [
    "How much better is our search versus what most people do? Earlier I said that I would look at the numbers and do a relative kind of comparison, or just pick the top QB in points, then the top RB in points, and so on. That's called a greedy search. To make it fair, let's consider all possible order combinations and pick the best one."
   ]
  },
  {
   "cell_type": "code",
   "execution_count": 20,
   "metadata": {},
   "outputs": [],
   "source": [
    "def eval_players(players):\n",
    "    return sum([current[current.displayName == player].iloc[0].points for player in players])"
   ]
  },
  {
   "cell_type": "code",
   "execution_count": 21,
   "metadata": {},
   "outputs": [],
   "source": [
    "def greedy(val):\n",
    "    remaining = SALARY_CAP\n",
    "    positions = current.position.unique()\n",
    "    best_players = []\n",
    "    best_so_far = -float(\"inf\")\n",
    "    for comb_position in permutations(positions):\n",
    "        players = []\n",
    "        for pos in comb_position:\n",
    "            for _ in range(pos_num_available[pos]):\n",
    "                available = current[(~current.displayName.isin(players)) & \n",
    "                                 (current.position == pos) & \n",
    "                                 (current.salary <= remaining)]\n",
    "                if available.size > 0:\n",
    "                    best = available.sort_values(val,ascending=False).iloc[0]\n",
    "                    players.append(best.displayName)\n",
    "                    remaining -= best.salary\n",
    "        cur_eval = eval_players(players)\n",
    "        if cur_eval > best_so_far:\n",
    "            best_players = players\n",
    "            best_so_far = cur_eval\n",
    "    return best_players"
   ]
  },
  {
   "cell_type": "markdown",
   "metadata": {},
   "source": [
    "How does it do?"
   ]
  },
  {
   "cell_type": "code",
   "execution_count": 22,
   "metadata": {},
   "outputs": [
    {
     "name": "stdout",
     "output_type": "stream",
     "text": [
      "['Alvin Kamara', 'Melvin Gordon III', 'Todd Gurley II', 'Michael Thomas', 'Tyreek Hill', 'DeSean Jackson', 'Jesse James']\n"
     ]
    },
    {
     "data": {
      "text/plain": [
       "210.50000000000003"
      ]
     },
     "execution_count": 22,
     "metadata": {},
     "output_type": "execute_result"
    }
   ],
   "source": [
    "greedy_points = greedy(\"points\")\n",
    "print(greedy_points)\n",
    "eval_players(greedy_points)"
   ]
  },
  {
   "cell_type": "markdown",
   "metadata": {},
   "source": [
    "About 45 points behind our optimal choice, which isn't too bad. If you notice there is only 8 choices since we ran out of money by the time we got to the end. Let's try a points per salary dollar."
   ]
  },
  {
   "cell_type": "code",
   "execution_count": 23,
   "metadata": {},
   "outputs": [],
   "source": [
    "points_per_dollar = current.points / current.salary\n",
    "current[\"points_per_dollar\"] = points_per_dollar"
   ]
  },
  {
   "cell_type": "code",
   "execution_count": 24,
   "metadata": {},
   "outputs": [
    {
     "name": "stdout",
     "output_type": "stream",
     "text": [
      "['James Conner', 'Austin Ekeler', 'Melvin Gordon III', 'DeSean Jackson', 'Will Fuller V', 'Kenny Golladay', 'Tyreek Hill', 'Ryan Fitzpatrick', 'Jesse James']\n"
     ]
    },
    {
     "data": {
      "text/plain": [
       "248.2"
      ]
     },
     "execution_count": 24,
     "metadata": {},
     "output_type": "execute_result"
    }
   ],
   "source": [
    "points_per_dollar = current.points / current.salary\n",
    "current[\"points_per_dollar\"] = points_per_dollar\n",
    "greedy_points = greedy(\"points_per_dollar\")\n",
    "print(greedy_points)\n",
    "eval_players(greedy_points)"
   ]
  },
  {
   "cell_type": "markdown",
   "metadata": {},
   "source": [
    "The linear programming method is not likely to bring you into elite status of Fantasy Football, but it greatly simplifies the problem. The basic assumption we were working on was that the points generated last week will be generated this week. Now all there is left is to solve for how many points we can expect a player to generate. This is a simpler problem. We can run a regression, enrich the data with other sources and look at trailing averages. But when we have our numbers, we can run it through this selection method."
   ]
  },
  {
   "cell_type": "code",
   "execution_count": null,
   "metadata": {},
   "outputs": [],
   "source": []
  }
 ],
 "metadata": {
  "kernelspec": {
   "display_name": "Python 3",
   "language": "python",
   "name": "python3"
  },
  "language_info": {
   "codemirror_mode": {
    "name": "ipython",
    "version": 3
   },
   "file_extension": ".py",
   "mimetype": "text/x-python",
   "name": "python",
   "nbconvert_exporter": "python",
   "pygments_lexer": "ipython3",
   "version": "3.8.5"
  },
  "varInspector": {
   "cols": {
    "lenName": 16,
    "lenType": 16,
    "lenVar": 40
   },
   "kernels_config": {
    "python": {
     "delete_cmd_postfix": "",
     "delete_cmd_prefix": "del ",
     "library": "var_list.py",
     "varRefreshCmd": "print(var_dic_list())"
    },
    "r": {
     "delete_cmd_postfix": ") ",
     "delete_cmd_prefix": "rm(",
     "library": "var_list.r",
     "varRefreshCmd": "cat(var_dic_list()) "
    }
   },
   "types_to_exclude": [
    "module",
    "function",
    "builtin_function_or_method",
    "instance",
    "_Feature"
   ],
   "window_display": false
  }
 },
 "nbformat": 4,
 "nbformat_minor": 2
}
