{
 "cells": [
  {
   "cell_type": "markdown",
   "metadata": {},
   "source": [
    "# Linear Programming with PuLP"
   ]
  },
  {
   "cell_type": "code",
   "execution_count": 5,
   "metadata": {
    "ExecuteTime": {
     "end_time": "2022-04-19T14:31:31.224962Z",
     "start_time": "2022-04-19T14:31:31.222913Z"
    }
   },
   "outputs": [],
   "source": [
    "from pulp import *\n",
    "import math"
   ]
  },
  {
   "cell_type": "markdown",
   "metadata": {},
   "source": [
    "minimize $\\quad x_1 + 2x_2 - x_3 $  \n",
    "constraints: $ x_1 + x_2 + x_3 = 1 $  \n",
    "             $\\qquad\\qquad x_1, x_2, x_3 >= 0 $"
   ]
  },
  {
   "cell_type": "code",
   "execution_count": 13,
   "metadata": {
    "ExecuteTime": {
     "end_time": "2022-04-19T14:49:19.164251Z",
     "start_time": "2022-04-19T14:49:19.161625Z"
    }
   },
   "outputs": [],
   "source": [
    "x1 = LpVariable(\"x1\", 0, 1)\n",
    "x2 = LpVariable(\"x2\", 0, 1)\n",
    "x3 = LpVariable(\"x3\", 0, 1)"
   ]
  },
  {
   "cell_type": "markdown",
   "metadata": {},
   "source": [
    "# Minimize"
   ]
  },
  {
   "cell_type": "code",
   "execution_count": 14,
   "metadata": {
    "ExecuteTime": {
     "end_time": "2022-04-19T14:49:20.090796Z",
     "start_time": "2022-04-19T14:49:20.087964Z"
    }
   },
   "outputs": [],
   "source": [
    "prob_min = LpProblem(\"simpleMin\", LpMinimize)\n",
    "prob_min += x1 + 2*x2 - x3"
   ]
  },
  {
   "cell_type": "code",
   "execution_count": 15,
   "metadata": {
    "ExecuteTime": {
     "end_time": "2022-04-19T14:49:51.899562Z",
     "start_time": "2022-04-19T14:49:51.730740Z"
    }
   },
   "outputs": [
    {
     "data": {
      "text/plain": [
       "'Optimal'"
      ]
     },
     "execution_count": 15,
     "metadata": {},
     "output_type": "execute_result"
    }
   ],
   "source": [
    "status_min = prob_min.solve()\n",
    "LpStatus[status_min]"
   ]
  },
  {
   "cell_type": "code",
   "execution_count": 17,
   "metadata": {
    "ExecuteTime": {
     "end_time": "2022-04-19T14:52:05.422554Z",
     "start_time": "2022-04-19T14:52:05.420112Z"
    }
   },
   "outputs": [
    {
     "name": "stdout",
     "output_type": "stream",
     "text": [
      "0.0\n",
      "0.0\n",
      "1.0\n"
     ]
    }
   ],
   "source": [
    "print(value(x1))\n",
    "print(value(x2))\n",
    "print(value(x3))"
   ]
  },
  {
   "cell_type": "markdown",
   "metadata": {},
   "source": [
    "# Maximize"
   ]
  },
  {
   "cell_type": "code",
   "execution_count": 18,
   "metadata": {
    "ExecuteTime": {
     "end_time": "2022-04-19T14:53:35.271487Z",
     "start_time": "2022-04-19T14:53:35.269124Z"
    }
   },
   "outputs": [],
   "source": [
    "prob_max = LpProblem(\"simpleMax\", LpMaximize)\n",
    "prob_max += x1 + 2*x2 - x3"
   ]
  },
  {
   "cell_type": "code",
   "execution_count": 19,
   "metadata": {
    "ExecuteTime": {
     "end_time": "2022-04-19T14:53:56.874338Z",
     "start_time": "2022-04-19T14:53:56.855035Z"
    }
   },
   "outputs": [
    {
     "data": {
      "text/plain": [
       "'Optimal'"
      ]
     },
     "execution_count": 19,
     "metadata": {},
     "output_type": "execute_result"
    }
   ],
   "source": [
    "status_max = prob_max.solve()\n",
    "LpStatus[status_max]"
   ]
  },
  {
   "cell_type": "code",
   "execution_count": 20,
   "metadata": {
    "ExecuteTime": {
     "end_time": "2022-04-19T14:54:02.289964Z",
     "start_time": "2022-04-19T14:54:02.286578Z"
    }
   },
   "outputs": [
    {
     "name": "stdout",
     "output_type": "stream",
     "text": [
      "1.0\n",
      "1.0\n",
      "0.0\n"
     ]
    }
   ],
   "source": [
    "print(value(x1))\n",
    "print(value(x2))\n",
    "print(value(x3))"
   ]
  },
  {
   "cell_type": "markdown",
   "metadata": {},
   "source": [
    "# Resources"
   ]
  },
  {
   "cell_type": "markdown",
   "metadata": {},
   "source": [
    "- PuLP docs: https://coin-or.github.io/pulp/main/index.html  \n",
    "- Google ORTools: https://developers.google.com/optimization/introduction/overview  \n",
    "- BAH - Operations Research: https://github.boozallencsn.com/team-brenton/operations-research\n",
    "- Pyomo: https://github.com/Pyomo/pyomo"
   ]
  },
  {
   "cell_type": "code",
   "execution_count": null,
   "metadata": {},
   "outputs": [],
   "source": []
  }
 ],
 "metadata": {
  "kernelspec": {
   "display_name": "Python 3",
   "language": "python",
   "name": "python3"
  },
  "language_info": {
   "codemirror_mode": {
    "name": "ipython",
    "version": 3
   },
   "file_extension": ".py",
   "mimetype": "text/x-python",
   "name": "python",
   "nbconvert_exporter": "python",
   "pygments_lexer": "ipython3",
   "version": "3.8.5"
  },
  "varInspector": {
   "cols": {
    "lenName": 16,
    "lenType": 16,
    "lenVar": 40
   },
   "kernels_config": {
    "python": {
     "delete_cmd_postfix": "",
     "delete_cmd_prefix": "del ",
     "library": "var_list.py",
     "varRefreshCmd": "print(var_dic_list())"
    },
    "r": {
     "delete_cmd_postfix": ") ",
     "delete_cmd_prefix": "rm(",
     "library": "var_list.r",
     "varRefreshCmd": "cat(var_dic_list()) "
    }
   },
   "types_to_exclude": [
    "module",
    "function",
    "builtin_function_or_method",
    "instance",
    "_Feature"
   ],
   "window_display": false
  }
 },
 "nbformat": 4,
 "nbformat_minor": 4
}
